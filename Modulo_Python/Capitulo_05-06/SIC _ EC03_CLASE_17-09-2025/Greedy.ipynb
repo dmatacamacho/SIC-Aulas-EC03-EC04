{
 "cells": [
  {
   "cell_type": "code",
   "execution_count": null,
   "id": "218971c4",
   "metadata": {},
   "outputs": [
    {
     "name": "stdout",
     "output_type": "stream",
     "text": [
      "=== PROBLEMA DEL CAMBIO DE MONEDAS ===\n",
      "Monto: 870 wones\n",
      "Total de monedas: 7\n",
      "Desglose: {500: 1, 100: 3, 50: 1, 10: 2}\n",
      "\n",
      "=== PROBLEMA DE SELECCIÓN DE ACTIVIDADES ===\n",
      "Reuniones disponibles: [(1, 4), (3, 5), (0, 6), (5, 7), (8, 9), (5, 9)]\n",
      "Máximo número de reuniones sin solapamiento: 3\n",
      "Reuniones seleccionadas: [(1, 4), (5, 7), (8, 9)]\n"
     ]
    }
   ],
   "source": [
    "\n",
    "# PROBLEMA DEL CAMBIO DE MONEDAS\n",
    "\n",
    "def cambio_monedas_wones(monto):\n",
    "    monedas = [500, 100, 50, 10]\n",
    "    # Se asegura que estén ordenadas de mayor a menor (Greedy toma la más grande primero)\n",
    "    monedas.sort(reverse=True)\n",
    "    cantidad_monedas = 0\n",
    "    desglose = {}\n",
    "    \n",
    "    \n",
    "    for moneda in monedas:\n",
    "        # Si el monto pendiente es mayor o igual a la moneda actual\n",
    "        if monto >= moneda:\n",
    "            # Calculamos cuántas monedas de este tipo podemos usar\n",
    "            num_monedas = monto // moneda\n",
    "            # Sumamos esa cantidad al total\n",
    "            cantidad_monedas += num_monedas\n",
    "            # Guardamos el desglose en el diccionario\n",
    "            desglose[moneda] = num_monedas\n",
    "            # Actualizamos el monto restante con el residuo\n",
    "            monto %= moneda\n",
    "\n",
    "    return cantidad_monedas, desglose\n",
    "\n",
    "\n",
    "# PROBLEMA DE SELECCIÓN DE ACTIVIDADES\n",
    "\n",
    "def seleccion_actividades(actividades):\n",
    "    # Ordenamos las actividades según su hora de finalización (criterio Greedy)\n",
    "    actividades_ordenadas = sorted(actividades, key=lambda x: x[1])\n",
    "    \n",
    "    # Lista donde guardaremos las actividades seleccionadas\n",
    "    seleccionadas = []\n",
    "    # Variable que guarda el fin de la última actividad elegida\n",
    "    ultimo_fin = -1\n",
    "    \n",
    "    # Recorremos las actividades en orden\n",
    "    for actividad in actividades_ordenadas:\n",
    "        # Desempaquetamos inicio y fin\n",
    "        inicio, fin = actividad\n",
    "        # Si la actividad no se solapa con la última elegida\n",
    "        if inicio >= ultimo_fin:\n",
    "            # La añadimos a la lista de seleccionadas\n",
    "            seleccionadas.append(actividad)\n",
    "            # Actualizamos el fin de la última actividad\n",
    "            ultimo_fin = fin\n",
    "    \n",
    "    return seleccionadas\n",
    "\n",
    "\n",
    "# EJECUCIÓN DE LOS PROBLEMAS\n",
    "\n",
    "print(\"=== PROBLEMA DEL CAMBIO DE MONEDAS ===\")\n",
    "monto = 870  \n",
    "# Ejecutamos la función de cambio de monedas\n",
    "total_monedas, desglose = cambio_monedas_wones(monto)\n",
    "print(f\"Monto: {monto} wones\")\n",
    "print(f\"Total de monedas: {total_monedas}\")\n",
    "print(f\"Desglose: {desglose}\")\n",
    "\n",
    "print(\"\\n=== PROBLEMA DE SELECCIÓN DE ACTIVIDADES ===\")\n",
    "# Definimos una lista de reuniones con inicio y fin\n",
    "reuniones = [(1, 4), (3, 5), (0, 6), (5, 7), (8, 9), (5, 9)]\n",
    "# Ejecutamos la función de selección de actividades\n",
    "resultado = seleccion_actividades(reuniones)\n",
    "print(\"Reuniones disponibles:\", reuniones)\n",
    "print(\"Máximo número de reuniones sin solapamiento:\", len(resultado))\n",
    "print(\"Reuniones seleccionadas:\", resultado)\n"
   ]
  },
  {
   "cell_type": "code",
   "execution_count": null,
   "id": "a22544fc",
   "metadata": {},
   "outputs": [],
   "source": []
  }
 ],
 "metadata": {
  "kernelspec": {
   "display_name": "Python 3",
   "language": "python",
   "name": "python3"
  },
  "language_info": {
   "codemirror_mode": {
    "name": "ipython",
    "version": 3
   },
   "file_extension": ".py",
   "mimetype": "text/x-python",
   "name": "python",
   "nbconvert_exporter": "python",
   "pygments_lexer": "ipython3",
   "version": "3.13.7"
  }
 },
 "nbformat": 4,
 "nbformat_minor": 5
}
