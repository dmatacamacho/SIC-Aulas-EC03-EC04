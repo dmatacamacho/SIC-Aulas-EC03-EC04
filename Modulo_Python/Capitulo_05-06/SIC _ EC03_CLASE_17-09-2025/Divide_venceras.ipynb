{
 "cells": [
  {
   "cell_type": "code",
   "execution_count": 1,
   "id": "6ed6a3ac",
   "metadata": {},
   "outputs": [
    {
     "name": "stdout",
     "output_type": "stream",
     "text": [
      "Lista: [12, 7, 9, 21, 5, 18, 3, 25, 11]\n",
      "El máximo encontrado es: 25\n"
     ]
    }
   ],
   "source": [
    "def maximo_divide(lista, izquierda, derecha):\n",
    "    # Caso base: si solo queda un elemento, es el máximo\n",
    "    if izquierda == derecha:\n",
    "        return lista[izquierda]\n",
    "    \n",
    "    # Dividimos la lista en dos mitades\n",
    "    medio = (izquierda + derecha) // 2\n",
    "    \n",
    "    # Calculamos el máximo en la mitad izquierda\n",
    "    max_izq = maximo_divide(lista, izquierda, medio)\n",
    "    # Calculamos el máximo en la mitad derecha\n",
    "    max_der = maximo_divide(lista, medio + 1, derecha)\n",
    "    \n",
    "    # Comparamos los dos máximos y devolvemos el mayor\n",
    "    return max(max_izq, max_der)\n",
    "\n",
    "\n",
    "# EJECUCIÓN\n",
    "\n",
    "numeros = [12, 7, 9, 21, 5, 18, 3, 25, 11]\n",
    "\n",
    "resultado = maximo_divide(numeros, 0, len(numeros) - 1)\n",
    "\n",
    "print(\"Lista:\", numeros)\n",
    "print(\"El máximo encontrado es:\", resultado)\n"
   ]
  },
  {
   "cell_type": "code",
   "execution_count": null,
   "id": "d66737fd",
   "metadata": {},
   "outputs": [],
   "source": []
  }
 ],
 "metadata": {
  "kernelspec": {
   "display_name": "Python 3",
   "language": "python",
   "name": "python3"
  },
  "language_info": {
   "codemirror_mode": {
    "name": "ipython",
    "version": 3
   },
   "file_extension": ".py",
   "mimetype": "text/x-python",
   "name": "python",
   "nbconvert_exporter": "python",
   "pygments_lexer": "ipython3",
   "version": "3.13.7"
  }
 },
 "nbformat": 4,
 "nbformat_minor": 5
}
