{
  "nbformat": 4,
  "nbformat_minor": 0,
  "metadata": {
    "colab": {
      "provenance": []
    },
    "kernelspec": {
      "name": "python3",
      "display_name": "Python 3"
    },
    "language_info": {
      "name": "python"
    }
  },
  "cells": [
    {
      "cell_type": "markdown",
      "source": [
        "# 🎒 Actividad en grupos: Mochila de viaje\n",
        "\n",
        "## 📌 El problema propuesto\n",
        "\n",
        "Un grupo de excursionistas está preparando su **mochila de viaje**.  \n",
        "Cada objeto tiene un **peso** y un **valor de utilidad** (por ejemplo: nombre: Botella de agua peso: 3 valor: 8, nombre: Linterna peso: 2 valor: 6).  \n",
        "La mochila solo soporta un **peso máximo total** (por ejemplo, 15 kg).  \n",
        "\n",
        "El sistema debe decidir **qué objetos guardar en la mochila** para:  \n",
        "- Maximizar la **utilidad total de los objetos**, sin pasarse del peso máximo.  \n",
        "\n",
        "Este problema es una versión clásica y puede resolverse con:  \n",
        "- **Greedy**, tomando los objetos más valiosos o con mejor relación valor/peso.  \n",
        "- **Programación dinámica**, para encontrar la mejor combinación exacta.  \n",
        "\n",
        "---\n",
        "\n",
        "## 🛠️ Pistas y ayuda sobre las funciones\n",
        "\n",
        "Ustedes deben diseñar la lógica. Aquí tienen sugerencias para los nombres de las funciones:  \n",
        "\n",
        "- `leer_objetos()`  \n",
        "   Recibe la lista de objetos con su peso y valor.  \n",
        "\n",
        "- `ordenar_objetos()`  \n",
        "   Ordena los objetos según el criterio elegido (valor, peso o relación valor/peso).  \n",
        "\n",
        "- `seleccionar_objetos()`  \n",
        "   Implementa la estrategia para llenar la mochila (greedy o dinámica).  \n",
        "\n",
        "- `reconstruir_mochila()`  \n",
        "   Identifica qué objetos fueron seleccionados.  \n",
        "\n",
        "- `mostrar_mochila()`  \n",
        "   Presenta los objetos elegidos, el peso total y el valor total.  \n",
        "\n",
        "---\n",
        "\n",
        "✅ **Entregable**: un archivo `.py` con estas 5 funciones implementadas y un bloque principal (`if __name__ == \"__main__\":`) donde se ejecute todo el programa.\n"
      ],
      "metadata": {
        "id": "x7qCWSyYClGB"
      }
    },
    {
      "cell_type": "code",
      "source": [
        "objetos_viaje = [{\"Nombre\":\"Botella de agua\", \"Peso\":5, \"Valor\":8},\n",
        "                 {\"Nombre\":\"Linterna\", \"Peso\":3, \"Valor\":6},\n",
        "                 {\"Nombre\":\"Repelente\", \"Peso\":2, \"Valor\":5},\n",
        "                 {\"Nombre\":\"Bloqueador solar\", \"Peso\":4, \"Valor\":7},\n",
        "                 {\"Nombre\":\"Gorra\", \"Peso\":1, \"Valor\":2},\n",
        "                 {\"Nombre\":\"Sombrilla\", \"Peso\":1, \"Valor\":3},\n",
        "                 {\"Nombre\":\"Monedero\", \"Peso\":6, \"Valor\":6}\n",
        "                 ]\n",
        "\n",
        "def leer_objetos(lista):\n",
        "  \"\"\"\n",
        "  Recibe y lee la lista de objetos con el peso y valor de cada objeto.\n",
        "  \"\"\"\n",
        "  for objeto in lista:\n",
        "    print(f\"{objeto[\"Nombre\"]} tiene un peso de {objeto[\"Peso\"]} y un valor de {objeto[\"Valor\"]}.\")\n",
        "\n",
        "leer_objetos(objetos_viaje)"
      ],
      "metadata": {
        "id": "kIPP3DypCnHV",
        "colab": {
          "base_uri": "https://localhost:8080/"
        },
        "outputId": "889bd7b8-6f63-43ee-a3e3-2de7c36a8535"
      },
      "execution_count": null,
      "outputs": [
        {
          "output_type": "stream",
          "name": "stdout",
          "text": [
            "Botella de agua tiene un peso de 5 y un valor de 8.\n",
            "Linterna tiene un peso de 3 y un valor de 6.\n",
            "Repelente tiene un peso de 2 y un valor de 5.\n",
            "Bloqueador solar tiene un peso de 4 y un valor de 7.\n",
            "Gorra tiene un peso de 1 y un valor de 2.\n",
            "Sombrilla tiene un peso de 1 y un valor de 3.\n",
            "Monedero tiene un peso de 6 y un valor de 6.\n"
          ]
        }
      ]
    },
    {
      "cell_type": "code",
      "source": [
        "def ordenar_objetos_viaje(objetos, utilidad):\n",
        "  if utilidad == \"valor\":\n",
        "    return sorted(objetos, key=lambda x: x[\"Valor\"], reverse=True)\n",
        "  elif utilidad == \"peso\":\n",
        "    return sorted(objetos, key=lambda x: x[\"Peso\"], reverse=True)\n",
        "  elif utilidad == \"relacion\":\n",
        "    return sorted(objetos, key=lambda x: x[\"Valor\"]/x[\"Peso\"], reverse=True)\n",
        "  else:\n",
        "    return objetos\n"
      ],
      "metadata": {
        "id": "SfV7XX6luCLp"
      },
      "execution_count": null,
      "outputs": []
    },
    {
      "cell_type": "code",
      "source": [
        "def seleccionar_objetos_viaje(objetos_ordenados, peso_maximo):\n",
        "  mochila = []\n",
        "  valor = 0\n",
        "  peso = 0\n",
        "  for objeto in objetos_ordenados:\n",
        "    if peso + objeto[\"Peso\"] <= peso_maximo:\n",
        "      mochila.append(objeto)\n",
        "      valor += objeto[\"Valor\"]\n",
        "      peso += objeto[\"Peso\"]\n",
        "  return mochila, valor, peso"
      ],
      "metadata": {
        "id": "-tlc00ObuCBi"
      },
      "execution_count": null,
      "outputs": []
    },
    {
      "cell_type": "code",
      "source": [
        "def mostrar_mochila(mochila, peso_total, valor_total):\n",
        "  \"\"\"\n",
        "  Muestra los resultados de la selección.\n",
        "  \"\"\"\n",
        "  print(\"\\nObjetos seleccionados:\")\n",
        "  for obj in mochila:\n",
        "      print(f\"- {obj['Nombre']} (Peso: {obj['Peso']} kg, Valor: {obj['Valor']})\")\n",
        "\n",
        "  print(f\"\\nPeso total: {peso_total} kg\")\n",
        "  print(f\"Valor total: {valor_total}\")"
      ],
      "metadata": {
        "id": "E7yMlvkeuBs4"
      },
      "execution_count": null,
      "outputs": []
    },
    {
      "cell_type": "code",
      "source": [
        "if __name__ == \"__main__\":\n",
        "    leer_objetos(objetos_viaje)\n",
        "\n",
        "    peso_maximo = 15\n",
        "    criterio_utilidad = \"relacion\" # Puedes cambiar a \"valor\" o \"peso\"\n",
        "\n",
        "    print(f\"\\nPeso máximo de la mochila: {peso_maximo} kg\")\n",
        "    print(f\"Criterio de selección: {criterio_utilidad}\")\n",
        "\n",
        "    # Ordenar los objetos según el criterio\n",
        "    objetos_ordenados = ordenar_objetos_viaje(objetos_viaje, criterio_utilidad)\n",
        "\n",
        "    # Seleccionar los objetos con el algoritmo Greedy\n",
        "    mochila_resultante, valor_total, peso_total = seleccionar_objetos_viaje(objetos_ordenados, peso_maximo)\n",
        "\n",
        "    # Mostrar los resultados\n",
        "    mostrar_mochila(mochila_resultante, peso_total, valor_total)"
      ],
      "metadata": {
        "id": "YA_ZOe_DuBBy",
        "colab": {
          "base_uri": "https://localhost:8080/"
        },
        "outputId": "5f50a79f-8b89-4fed-81ba-85a5b10e04c3"
      },
      "execution_count": null,
      "outputs": [
        {
          "output_type": "stream",
          "name": "stdout",
          "text": [
            "Botella de agua tiene un peso de 5 y un valor de 8.\n",
            "Linterna tiene un peso de 3 y un valor de 6.\n",
            "Repelente tiene un peso de 2 y un valor de 5.\n",
            "Bloqueador solar tiene un peso de 4 y un valor de 7.\n",
            "Gorra tiene un peso de 1 y un valor de 2.\n",
            "Sombrilla tiene un peso de 1 y un valor de 3.\n",
            "Monedero tiene un peso de 6 y un valor de 6.\n",
            "\n",
            "Peso máximo de la mochila: 15 kg\n",
            "Criterio de selección: relacion\n",
            "\n",
            "Objetos seleccionados:\n",
            "- Sombrilla (Peso: 1 kg, Valor: 3)\n",
            "- Repelente (Peso: 2 kg, Valor: 5)\n",
            "- Linterna (Peso: 3 kg, Valor: 6)\n",
            "- Gorra (Peso: 1 kg, Valor: 2)\n",
            "- Bloqueador solar (Peso: 4 kg, Valor: 7)\n",
            "\n",
            "Peso total: 11 kg\n",
            "Valor total: 23\n"
          ]
        }
      ]
    }
  ]
}