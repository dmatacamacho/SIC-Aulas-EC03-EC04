{
  "nbformat": 4,
  "nbformat_minor": 0,
  "metadata": {
    "colab": {
      "provenance": []
    },
    "kernelspec": {
      "name": "python3",
      "display_name": "Python 3"
    },
    "language_info": {
      "name": "python"
    }
  },
  "cells": [
    {
      "cell_type": "markdown",
      "source": [
        "# 🏫 Actividad en grupos: Selección de materias escolares\n",
        "\n",
        "## 📌 El problema propuesto\n",
        "\n",
        "Un estudiante quiere organizar su horario de materias para el próximo semestre.  \n",
        "Cada materia tiene un **número de horas por semana** y un **nivel de interés** (por ejemplo, Matemáticas horas = 9 interes = 10, Historia horas = 7 interes =2).  \n",
        "El estudiante solo puede dedicar un **máximo de horas por semana** (por ejemplo, 18 horas).  \n",
        "\n",
        "El sistema debe decidir **qué materias elegir** para:  \n",
        "- Maximizar el **nivel total de interés**, sin pasarse del límite de horas.  \n",
        "\n",
        "Este problema se puede resolver con:  \n",
        "- **Greedy**, seleccionando primero las materias con mejor relación interés/horas.  \n",
        "- **Programación dinámica**, para encontrar la combinación óptima de materias.  \n",
        "\n",
        "---\n",
        "\n",
        "## 🛠️ Pistas y ayuda sobre las funciones\n",
        "\n",
        "Ustedes deben diseñar la lógica. Aquí tienen sugerencias para los nombres de las funciones:  \n",
        "\n",
        "- `leer_materias()`  \n",
        "   Recibe la lista de materias con sus horas y nivel de interés.  \n",
        "\n",
        "- `ordenar_materias()`  \n",
        "   Ordena las materias según el criterio elegido (horas, interés o relación interés/horas).  \n",
        "\n",
        "- `seleccionar_materias()`  \n",
        "   Implementa la estrategia para elegir las materias (greedy o dinámica).  \n",
        "\n",
        "- `reconstruir_horario()`  \n",
        "   Identifica qué materias fueron seleccionadas.  \n",
        "\n",
        "- `mostrar_horario()`  \n",
        "   Presenta las materias elegidas, el total de horas y el interés acumulado.  \n",
        "\n",
        "---\n",
        "\n",
        "✅ **Entregable**: un bloque principal (`if __name__ == \"__main__\":`) donde se ejecute todo el programa.\n"
      ],
      "metadata": {
        "id": "Z7s6rc51-qzz"
      }
    },
    {
      "cell_type": "code",
      "source": [
        "class Materia:\n",
        "    def __init__(self, nombre, horas, interes):\n",
        "        self.nombre = nombre\n",
        "        self.horas = horas\n",
        "        self.interes = interes\n",
        "\n",
        "    def __str__(self):\n",
        "        return f\"{self.nombre}, {self.horas} horas, interés: {self.interes}\""
      ],
      "metadata": {
        "id": "_t8oXRrB-2S4"
      },
      "execution_count": null,
      "outputs": []
    },
    {
      "cell_type": "code",
      "source": [
        "def ordenar(materias,str):\n",
        "    if str == \"interes\":\n",
        "        return sorted(materias, key=lambda m: m.interes, reverse=True)\n",
        "    elif str == \"horas\":\n",
        "        return sorted(materias, key=lambda m: m.horas)\n",
        "    elif str == \"ratio\":\n",
        "        return sorted(materias, key=lambda m: m.interes/m.horas, reverse=True)\n",
        "    else:\n",
        "        return materias\n",
        "\n",
        "def seleccionar(materias):\n",
        "  MHPS=18\n",
        "  horas=0\n",
        "  temp=[]\n",
        "\n",
        "  ord = ordenar(materias, \"ratio\")\n",
        "\n",
        "  for m in ord:\n",
        "    if horas + m.horas <=MHPS:\n",
        "      temp.append(m)\n",
        "      horas += m.horas\n",
        "  return temp\n",
        "\n",
        "def mostrar_horario(materias):\n",
        "    total_horas = sum(m.horas for m in materias)\n",
        "    total_interes = sum(m.interes for m in materias)\n",
        "\n",
        "    print(\"Materias seleccionadas:\")\n",
        "    for m in materias:\n",
        "        print(f\"- {m.nombre}: {m.horas} horas, interés {m.interes}\")\n",
        "    print(f\"\\nTotal de horas: {total_horas}\")\n",
        "    print(f\"Total de interés: {total_interes}\")"
      ],
      "metadata": {
        "id": "A6TQ6aZpxiNz"
      },
      "execution_count": null,
      "outputs": []
    },
    {
      "cell_type": "code",
      "source": [
        "if __name__ == \"__main__\":\n",
        "    materias = [\n",
        "        Materia(\"Matemáticas\", 9, 10),\n",
        "        Materia(\"Historia\", 7, 2),\n",
        "        Materia(\"Física\", 6, 7),\n",
        "        Materia(\"Química\", 5, 6),\n",
        "        Materia(\"Lengua\", 4, 5),\n",
        "        Materia(\"Arte\", 3, 3)\n",
        "    ]\n",
        "\n",
        "    seleccionadas = seleccionar(materias)\n",
        "    mostrar_horario(seleccionadas)\n"
      ],
      "metadata": {
        "colab": {
          "base_uri": "https://localhost:8080/"
        },
        "id": "SIALAFTk2jtk",
        "outputId": "94f8487e-8ba5-4884-e92b-0d14b03336e2"
      },
      "execution_count": null,
      "outputs": [
        {
          "output_type": "stream",
          "name": "stdout",
          "text": [
            "Materias seleccionadas:\n",
            "- Lengua: 4 horas, interés 5\n",
            "- Química: 5 horas, interés 6\n",
            "- Física: 6 horas, interés 7\n",
            "- Arte: 3 horas, interés 3\n",
            "\n",
            "Total de horas: 18\n",
            "Total de interés: 21\n"
          ]
        }
      ]
    }
  ]
}