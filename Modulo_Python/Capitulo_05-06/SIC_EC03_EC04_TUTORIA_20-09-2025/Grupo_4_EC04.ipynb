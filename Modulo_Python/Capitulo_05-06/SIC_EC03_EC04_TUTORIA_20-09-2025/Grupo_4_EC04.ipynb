{
  "nbformat": 4,
  "nbformat_minor": 0,
  "metadata": {
    "colab": {
      "provenance": []
    },
    "kernelspec": {
      "name": "python3",
      "display_name": "Python 3"
    },
    "language_info": {
      "name": "python"
    }
  },
  "cells": [
    {
      "cell_type": "markdown",
      "source": [
        "# 🏫 Actividad en grupos: Selección de materias escolares\n",
        "\n",
        "## 📌 El problema propuesto\n",
        "\n",
        "Un estudiante quiere organizar su horario de materias para el próximo semestre.  \n",
        "Cada materia tiene un **número de horas por semana** y un **nivel de interés** (por ejemplo, Matemáticas horas = 9 interes = 10, Historia horas = 7 interes =2).  \n",
        "El estudiante solo puede dedicar un **máximo de horas por semana** (por ejemplo, 18 horas).  \n",
        "\n",
        "El sistema debe decidir **qué materias elegir** para:  \n",
        "- Maximizar el **nivel total de interés**, sin pasarse del límite de horas.  \n",
        "\n",
        "Este problema se puede resolver con:  \n",
        "- **Greedy**, seleccionando primero las materias con mejor relación interés/horas.  \n",
        "- **Programación dinámica**, para encontrar la combinación óptima de materias.  \n",
        "\n",
        "---\n",
        "\n",
        "## 🛠️ Pistas y ayuda sobre las funciones\n",
        "\n",
        "Ustedes deben diseñar la lógica. Aquí tienen sugerencias para los nombres de las funciones:  \n",
        "\n",
        "- `leer_materias()`  \n",
        "   Recibe la lista de materias con sus horas y nivel de interés.  \n",
        "\n",
        "- `ordenar_materias()`  \n",
        "   Ordena las materias según el criterio elegido (horas, interés o relación interés/horas).  \n",
        "\n",
        "- `seleccionar_materias()`  \n",
        "   Implementa la estrategia para elegir las materias (greedy o dinámica).  \n",
        "\n",
        "- `reconstruir_horario()`  \n",
        "   Identifica qué materias fueron seleccionadas.  \n",
        "\n",
        "- `mostrar_horario()`  \n",
        "   Presenta las materias elegidas, el total de horas y el interés acumulado.  \n",
        "\n",
        "---\n",
        "\n",
        "✅ **Entregable**: un bloque principal (`if __name__ == \"__main__\":`) donde se ejecute todo el programa.\n"
      ],
      "metadata": {
        "id": "gstdcolxDLDQ"
      }
    },
    {
      "cell_type": "markdown",
      "source": [
        "Este es un problema de Porgramación Lineal Entero (es decir que los resultados no pueden obtener decimales)."
      ],
      "metadata": {
        "id": "jQrtQHAQ1_fj"
      }
    },
    {
      "cell_type": "code",
      "source": [
        "#Sección para la función ordenar_materias()\n",
        "def leer_materias():\n",
        "  \"\"\" Pide al usuario ingresar las materias con sus horas y su nivel de interes.\n",
        "  Devuelve una lista de diccionarios con la información y la relación interés/horas.\n",
        "  \"\"\"\n",
        "\n",
        "  materias = []\n",
        "  n = int(input(\"Ingrese la cantidad de materias: \"))\n",
        "  for i in range(n):\n",
        "    nombre = input(f\"Ingrese el nombre de la materia {i+1}: \")\n",
        "    horas = int(input(f\"Ingrese las horas de {nombre}: \"))\n",
        "    interes = int(input(f\"Ingrese el nivel de interés de {nombre}: \"))\n",
        "    relacion = interes / horas\n",
        "    materias.append({\"nombre\": nombre, \"horas\": horas, \"interes\": interes, \"relacion\": relacion})\n",
        "  return materias"
      ],
      "metadata": {
        "id": "JNRp5llfveHg"
      },
      "execution_count": null,
      "outputs": []
    },
    {
      "cell_type": "code",
      "source": [
        "#Sección para la función ordernar_materias() en base al criterio\n",
        "def ordenar_materias(materias, criterio=\"relacion\"):\n",
        "    if criterio == \"horas\":\n",
        "        return sorted(materias, key=lambda x: x[\"horas\"])\n",
        "    elif criterio == \"interes\":\n",
        "        return sorted(materias, key=lambda x: x[\"interes\"], reverse=True)\n",
        "    elif criterio == \"relacion\":\n",
        "        return sorted(materias, key=lambda x: x[\"interes\"] / x[\"horas\"], reverse=True)\n",
        "    return materias"
      ],
      "metadata": {
        "id": "u1-D4FQQ0qn1"
      },
      "execution_count": null,
      "outputs": []
    },
    {
      "cell_type": "code",
      "source": [
        "#Sección para seleccionar_materias()\n",
        "def seleccionar_materias(materias, max_horas):\n",
        "  \"\"\" Selecciona materias con estrategia greedy hasta alcanzar el máximo de horas.\"\"\"\n",
        "  seleccionadas = []\n",
        "  horas_totales = 0\n",
        "\n",
        "  for materia in materias:\n",
        "    if horas_totales + materia[\"horas\"] <= max_horas:\n",
        "      seleccionadas.append(materia)\n",
        "      horas_totales += materia[\"horas\"]\n",
        "\n",
        "  return seleccionadas, horas_totales"
      ],
      "metadata": {
        "id": "4DC4G3SZDMi7"
      },
      "execution_count": null,
      "outputs": []
    },
    {
      "cell_type": "code",
      "source": [
        "# Sección para reconstruir el horario\n",
        "def reconstruir_horario(seleccion, materias):\n",
        "    \"\"\"\n",
        "    Reconstruye el horario de materias seleccionadas en formato diccionario.\n",
        "    Input:\n",
        "        seleccion (list): lista con los nombres de las materias elegidas\n",
        "        materias (list): lista original de materias en formato diccionario\n",
        "    Output:\n",
        "        seleccion_final (list): lista de diccionarios de materias seleccionadas\n",
        "    \"\"\"\n",
        "    seleccion_final = []\n",
        "\n",
        "    for materia in materias:\n",
        "        if materia[\"nombre\"] in seleccion:\n",
        "            seleccion_final.append({\n",
        "                \"nombre\": materia[\"nombre\"],\n",
        "                \"horas\": materia[\"horas\"],\n",
        "                \"interes\": materia[\"interes\"],\n",
        "                \"relacion\": materia[\"relacion\"]})\n",
        "\n",
        "    return seleccion_final"
      ],
      "metadata": {
        "id": "jjFnTlP9xhbU"
      },
      "execution_count": null,
      "outputs": []
    },
    {
      "cell_type": "code",
      "source": [
        "# Sección para mostrar horario\n",
        "\n",
        "def mostrar_horario(materias):\n",
        "    \"\"\"\n",
        "    Muestra el horario de las materias elegidas.\n",
        "    Input:\n",
        "        materias (list): Lista con las materias elegidas, sus horas\n",
        "        e interés.\n",
        "    Output:\n",
        "        None: Muestra las materias elegidas a manera de tabla.\n",
        "    \"\"\"\n",
        "    print(\"Horario de Materias Elegidas\")\n",
        "\n",
        "    total_horas = sum(materia['horas'] for materia in materias)\n",
        "    total_interes = sum(materia['interes'] for materia in materias)\n",
        "\n",
        "    # Mostrar tabla de materias elegidas para el horario\n",
        "    print(f\"{'Materia':<20} {'Horas':<10} {'Interés':<10} {'Relación':<10}\")\n",
        "    for materia in materias:\n",
        "        print(f\"{materia['nombre']:<20} {materia['horas']:<10} {materia['interes']:<10} {materia['interes']/materia['horas']:<10.2f}\")\n",
        "\n",
        "    print(f\"Total Horas: {total_horas}, Total Interés: {total_interes}\")"
      ],
      "metadata": {
        "id": "32ZAeK1xvzqj"
      },
      "execution_count": null,
      "outputs": []
    },
    {
      "cell_type": "code",
      "source": [
        "if __name__ == \"__main__\":\n",
        "  #Paso 1: leer las materias\n",
        "  materias = leer_materias()\n",
        "  #Paso 2: ordenar las materias\n",
        "  materias_ordenadas = ordenar_materias(materias,\"horas\")\n",
        "  #Paso 3: Consultar el numero máximo de horas por semana\n",
        "  max_horas = int(input(\"Ingrese el numero maximo de horas por semana: \"))\n",
        "  #Paso 4: Seleccionar las materias sin pasarse de las horas máximas\n",
        "  seleccion, horas_totales = seleccionar_materias(materias_ordenadas, max_horas)\n",
        "  #Paso 5: Reconstruir el horario\n",
        "  horario = reconstruir_horario([m[\"nombre\"] for m in seleccion], materias)\n",
        "  #Paso 6: Mostrar el horario\n",
        "  mostrar_horario(horario)\n",
        "\n"
      ],
      "metadata": {
        "id": "-ecS7Acz0FjX",
        "colab": {
          "base_uri": "https://localhost:8080/"
        },
        "outputId": "df53f3b9-77fd-49e4-8724-6a7a4cc4966f"
      },
      "execution_count": null,
      "outputs": [
        {
          "output_type": "stream",
          "name": "stdout",
          "text": [
            "Ingrese la cantidad de materias: 2\n",
            "Ingrese el nombre de la materia 1: topo\n",
            "Ingrese las horas de topo: 6\n",
            "Ingrese el nivel de interés de topo: 3\n",
            "Ingrese el nombre de la materia 2: real\n",
            "Ingrese las horas de real: 8\n",
            "Ingrese el nivel de interés de real: 4\n",
            "Ingrese el numero maximo de horas por semana: 12\n",
            "Horario de Materias Elegidas\n",
            "Materia              Horas      Interés    Relación  \n",
            "topo                 6          3          0.50      \n",
            "Total Horas: 6, Total Interés: 3\n"
          ]
        }
      ]
    }
  ]
}