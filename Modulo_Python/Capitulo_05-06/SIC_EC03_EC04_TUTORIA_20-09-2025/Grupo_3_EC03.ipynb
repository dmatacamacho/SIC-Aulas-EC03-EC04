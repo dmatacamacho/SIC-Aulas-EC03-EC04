{
  "nbformat": 4,
  "nbformat_minor": 0,
  "metadata": {
    "colab": {
      "provenance": []
    },
    "kernelspec": {
      "name": "python3",
      "display_name": "Python 3"
    },
    "language_info": {
      "name": "python"
    }
  },
  "cells": [
    {
      "cell_type": "markdown",
      "source": [
        "# 🎒 Actividad en grupos: Mochila de viaje\n",
        "\n",
        "## 📌 El problema propuesto\n",
        "\n",
        "Un grupo de excursionistas está preparando su **mochila de viaje**.  \n",
        "Cada objeto tiene un **peso** y un **valor de utilidad** (por ejemplo: nombre: Botella de agua peso: 3 valor: 8, nombre: Linterna peso: 2 valor: 6).  \n",
        "La mochila solo soporta un **peso máximo total** (por ejemplo, 15 kg).  \n",
        "\n",
        "El sistema debe decidir **qué objetos guardar en la mochila** para:  \n",
        "- Maximizar la **utilidad total de los objetos**, sin pasarse del peso máximo.  \n",
        "\n",
        "Este problema es una versión clásica y puede resolverse con:  \n",
        "- **Greedy**, tomando los objetos más valiosos o con mejor relación valor/peso.  \n",
        "- **Programación dinámica**, para encontrar la mejor combinación exacta.  \n",
        "\n",
        "---\n",
        "\n",
        "## 🛠️ Pistas y ayuda sobre las funciones\n",
        "\n",
        "Ustedes deben diseñar la lógica. Aquí tienen sugerencias para los nombres de las funciones:  \n",
        "\n",
        "- `leer_objetos()`  \n",
        "   Recibe la lista de objetos con su peso y valor.  \n",
        "\n",
        "- `ordenar_objetos()`  \n",
        "   Ordena los objetos según el criterio elegido (valor, peso o relación valor/peso).  \n",
        "\n",
        "- `seleccionar_objetos()`  \n",
        "   Implementa la estrategia para llenar la mochila (greedy o dinámica).  \n",
        "\n",
        "- `reconstruir_mochila()`  \n",
        "   Identifica qué objetos fueron seleccionados.  \n",
        "\n",
        "- `mostrar_mochila()`  \n",
        "   Presenta los objetos elegidos, el peso total y el valor total.  \n",
        "\n",
        "---\n",
        "\n",
        "✅ **Entregable**: un archivo `.py` con estas 5 funciones implementadas y un bloque principal (`if __name__ == \"__main__\":`) donde se ejecute todo el programa.\n"
      ],
      "metadata": {
        "id": "QsQobBPH8SKH"
      }
    },
    {
      "cell_type": "code",
      "source": [
        "'''\n",
        "[\n",
        "  {\n",
        "    \"nombre\": \"Botella de agua\",\n",
        "    \"peso\": 3,\n",
        "    \"valor\": 8\n",
        "  },\n",
        "  {\n",
        "    \"nombre\": \"Linterna\",\n",
        "    \"peso\": 2,\n",
        "    \"valor\": 6\n",
        "  }\n",
        "]\n",
        "'''\n",
        "\n",
        "def leer_objetos(objetos):\n",
        "  for objeto in objetos:\n",
        "    print(f\"Nombre Objeto: {objeto['nombre']}\")\n",
        "    print(f\"Peso Objeto: {objeto['peso']}\")\n",
        "    print(f\"Valor Objeto: {objeto['valor']}\\n\")"
      ],
      "metadata": {
        "id": "P67olz5_8xd0"
      },
      "execution_count": null,
      "outputs": []
    },
    {
      "cell_type": "code",
      "source": [
        "# Ordenar Objetos\n",
        "\n",
        "def ordenar_objetos(objetos, criterio='valor'):\n",
        "  if criterio == 'valor':\n",
        "    return sorted(objetos, key=lambda x: x['valor'], reverse=True)\n",
        "  elif criterio == 'peso':\n",
        "    return sorted(objetos, key=lambda x: x['peso'], reverse=True)\n",
        "  elif criterio == 'valor/peso':\n",
        "    return sorted(objetos, key=lambda x: x['valor'] / x['peso'], reverse=True)\n",
        "  else:\n",
        "    return objetos"
      ],
      "metadata": {
        "id": "sVleerOFx6Hk"
      },
      "execution_count": null,
      "outputs": []
    },
    {
      "cell_type": "code",
      "source": [
        "\"\"\"Seleccionar objetos (enfoque greedy)\"\"\" #Terminado\n",
        "\n",
        "def seleccionar_objetos(lista, peso_max = 15):\n",
        "  \"\"\"Selecciona los objetos que tengan mejor relación valor/peso y/o no superen el peso máximo\"\"\"\n",
        "  #se obtiene la lista de diccionarios ordenada de mayor a menor relación valor/peso\n",
        "\n",
        "  peso_actual = 0\n",
        "  seleccionados = []\n",
        "\n",
        "  for dic in lista: #[ {\"nombre\": \"Botella de agua\", \"peso\": 3, \"valor\": 8},\n",
        "                    #{\"nombre\": \"Linterna\",\"peso\": 2,\"valor\": 6} ]\n",
        "\n",
        "    if peso_actual + dic[\"peso\"] <= peso_max:\n",
        "    #si al sumar el peso del diccionario no pasa de 15, se añade el objeto a los seleccionados\n",
        "      seleccionados.append(dic)\n",
        "      peso_actual += dic[\"peso\"]\n",
        "\n",
        "  return seleccionados"
      ],
      "metadata": {
        "id": "NH56seFEx6vs"
      },
      "execution_count": null,
      "outputs": []
    },
    {
      "cell_type": "code",
      "source": [
        "def reconstruir_mochila(seleccionados, capacidad):\n",
        "  mochila = []\n",
        "  peso_total = 0\n",
        "  valor_total= 0\n",
        "  for obj in seleccionados:\n",
        "    if peso_total + obj[\"peso\"] <= capacidad:\n",
        "      peso_total += obj[\"peso\"]\n",
        "      valor_total += obj[\"valor\"]\n",
        "      mochila.append(obj)\n",
        "  return mochila, peso_total, valor_total"
      ],
      "metadata": {
        "id": "g1WchrHj1KY_"
      },
      "execution_count": null,
      "outputs": []
    },
    {
      "cell_type": "code",
      "source": [
        "# Función para mostrar en pantalla los objetos escogidos, junto al peso y valor total\n",
        "def mostrar_mochila(mochila, valor_total, peso_total):\n",
        "  print(\"Los objetos escogidos para maximizar el problema son:\")\n",
        "  for objeto in mochila:\n",
        "    print(f\"{objeto[\"nombre\"]}: Pesa {objeto[\"peso\"]} y vale {objeto[\"valor\"]}\")\n",
        "  print(\"El peso total es:\", peso_total)\n",
        "  print(\"El valor total es:\", valor_total)"
      ],
      "metadata": {
        "id": "rpBQAIM8x6tw"
      },
      "execution_count": null,
      "outputs": []
    },
    {
      "cell_type": "code",
      "source": [
        "if __name__ == \"__main__\":\n",
        "  objetos = [\n",
        "      {\n",
        "          \"nombre\": \"Botella de agua\",\n",
        "          \"peso\": 3,\n",
        "          \"valor\": 8\n",
        "      },\n",
        "      {\n",
        "          \"nombre\": \"Linterna\",\n",
        "          \"peso\": 2,\n",
        "          \"valor\": 6\n",
        "      },\n",
        "      {\n",
        "          \"nombre\": \"Comida\",\n",
        "          \"peso\": 12,\n",
        "          \"valor\": 10\n",
        "      }\n",
        "  ]\n",
        "\n",
        "  leer_objetos(objetos)\n",
        "  objetos_ordenados = ordenar_objetos(objetos, criterio='valor')\n",
        "  seleccionados = seleccionar_objetos(objetos_ordenados)\n",
        "  mochila, peso_total, valor_total = reconstruir_mochila(seleccionados, 15)\n",
        "  mostrar_mochila(mochila, valor_total, peso_total)\n"
      ],
      "metadata": {
        "colab": {
          "base_uri": "https://localhost:8080/"
        },
        "id": "xDr8NVoo2-W3",
        "outputId": "29bcf994-0f20-4dd3-8a16-086b3e8e3064"
      },
      "execution_count": null,
      "outputs": [
        {
          "output_type": "stream",
          "name": "stdout",
          "text": [
            "Nombre Objeto: Botella de agua\n",
            "Peso Objeto: 3\n",
            "Valor Objeto: 8\n",
            "\n",
            "Nombre Objeto: Linterna\n",
            "Peso Objeto: 2\n",
            "Valor Objeto: 6\n",
            "\n",
            "Nombre Objeto: Comida\n",
            "Peso Objeto: 12\n",
            "Valor Objeto: 10\n",
            "\n",
            "Los objetos escogidos para maximizar el problema son:\n",
            "Comida: Pesa 12 y vale 10\n",
            "Botella de agua: Pesa 3 y vale 8\n",
            "El peso total es: 15\n",
            "El valor total es: 18\n"
          ]
        }
      ]
    }
  ]
}