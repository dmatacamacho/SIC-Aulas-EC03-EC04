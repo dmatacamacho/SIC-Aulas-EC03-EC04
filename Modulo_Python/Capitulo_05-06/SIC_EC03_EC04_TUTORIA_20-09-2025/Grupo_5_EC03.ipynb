{
  "nbformat": 4,
  "nbformat_minor": 0,
  "metadata": {
    "colab": {
      "provenance": []
    },
    "kernelspec": {
      "name": "python3",
      "display_name": "Python 3"
    },
    "language_info": {
      "name": "python"
    }
  },
  "cells": [
    {
      "cell_type": "markdown",
      "source": [
        "\n",
        "# 💰 Actividad en grupos: Selección de compras en el supermercado\n",
        "\n",
        "## 📌 El problema propuesto\n",
        "\n",
        "Un cliente va al supermercado con una **cantidad limitada de dinero** (por ejemplo, 50 dólares).  \n",
        "Cada producto tiene un **precio** y un **nivel de satisfacción** (por ejemplo, chocolate  precio = 9 satisfaccion = 2, leche precio = 6 satisfaccion = 5).  \n",
        "\n",
        "El sistema debe decidir **qué productos comprar** para:  \n",
        "- Maximizar la **satisfacción total** sin pasarse del presupuesto.  \n",
        "\n",
        "Este problema se puede resolver con:  \n",
        "- **Greedy**, comprando primero los productos con mejor relación satisfacción/precio.  \n",
        "- **Programación dinámica**, para encontrar la mejor combinación exacta.  \n",
        "\n",
        "---\n",
        "\n",
        "## 🛠️ Pistas y ayuda sobre las funciones\n",
        "\n",
        "Ustedes deben diseñar la lógica. Aquí tienen sugerencias para los nombres de las funciones:  \n",
        "\n",
        "- `leer_productos()`  \n",
        "   Recibe la lista de productos con su precio y satisfacción.  \n",
        "\n",
        "- `ordenar_productos()`  \n",
        "   Ordena los productos según el criterio elegido (precio, satisfacción o relación satisfacción/precio).  \n",
        "\n",
        "- `seleccionar_productos()`  \n",
        "   Implementa la estrategia para elegir qué comprar (greedy o dinámica).  \n",
        "\n",
        "- `reconstruir_carrito()`  \n",
        "   Identifica qué productos fueron seleccionados.  \n",
        "\n",
        "- `mostrar_carrito()`  \n",
        "   Presenta los productos comprados, el costo total y la satisfacción total.  \n",
        "\n",
        "---\n",
        "\n",
        "✅ **Entregable**:  un bloque principal (`if __name__ == \"__main__\":`) donde se ejecute todo el programa.\n",
        "\n"
      ],
      "metadata": {
        "id": "Rjq8umMb9uqJ"
      }
    },
    {
      "cell_type": "code",
      "source": [
        "#  seleccionar_productos\n",
        "def seleccionar_productos(dinero_disponible, productos):\n",
        "  carrito = []\n",
        "  satisfaccion = 0\n",
        "  cuenta = 0\n",
        "  dinero = dinero_disponible\n",
        "\n",
        "  for producto in range(len(productos)):\n",
        "\n",
        "    if dinero > productos[producto][1]:\n",
        "      dinero = dinero - productos[producto][1]\n",
        "      satisfaccion += productos[producto][2]\n",
        "      cuenta += productos[producto][1]\n",
        "      carrito.append(productos[producto][0])\n",
        "    else :\n",
        "      pass\n",
        "  return  carrito, cuenta,  satisfaccion\n",
        "\n",
        "productos= [\n",
        "    (\"Queso\", 10, 7),\n",
        "    (\"Leche\", 6, 5),\n",
        "    (\"Frutas\", 7, 4),\n",
        "    (\"Pan\", 5, 3),\n",
        "    (\"Chocolate\", 9, 2)\n",
        "]\n",
        "\n",
        "monto = 20\n",
        "\n",
        "carrito, cuenta, satisfaccion= seleccionar_productos(monto, productos)\n",
        "print(\"Carrito de compras:\", carrito)\n",
        "print(\"Cuenta total:\", cuenta)\n",
        "print(\"Satisfacción total:\", satisfaccion)"
      ],
      "metadata": {
        "id": "hCWlnTxNwEdD",
        "colab": {
          "base_uri": "https://localhost:8080/"
        },
        "outputId": "06e8ea6e-39c4-4e4e-af23-cbe5cf7ca47b"
      },
      "execution_count": null,
      "outputs": [
        {
          "output_type": "stream",
          "name": "stdout",
          "text": [
            "Carrito de compras: ['Queso', 'Leche']\n",
            "Cuenta total: 16\n",
            "Satisfacción total: 12\n"
          ]
        }
      ]
    },
    {
      "cell_type": "code",
      "source": [
        "\n",
        "#(nombre,precio,satisfaccion)\n",
        "lista_productos = [\n",
        "    (\"Chocolate\",9,2),\n",
        "    (\"Leche\",6,5),\n",
        "    (\"Pan\",5,3),\n",
        "    (\"Queso\",10,7),\n",
        "    (\"Fruta\",7,4)\n",
        "]\n",
        "\n",
        "#llamado a metodos\n",
        "if __name__ =='__main__':\n",
        "    while True:\n",
        "      print(\"================================\")\n",
        "      print(\"Menu de opciones: \")\n",
        "      print(\"1. Mostrar lista de productos\")\n",
        "      print(\"2. Agregar un producto\")\n",
        "      print(\"3. Seleccionar un producto\")\n",
        "      print(\"5. Salir\")\n",
        "\n",
        "      opcion = int(input(\"Seleccione una opcion: \" ))\n",
        "\n",
        "      if opcion == 1:\n",
        "        leer_productos(lista_productos)\n",
        "      elif opcion == 2:\n",
        "        registrar_producto(lista_productos)\n",
        "      elif opcion == 3:\n",
        "        seleccionar_productos(50,lista_productos)\n",
        "      elif opcion == 5:\n",
        "        print(\"Adios\")\n",
        "        break\n",
        "      else:\n",
        "        print(\"Opcion no valida\")\n",
        "\n"
      ],
      "metadata": {
        "id": "VMlQDZhYErX2",
        "colab": {
          "base_uri": "https://localhost:8080/"
        },
        "outputId": "f57bcc78-d87e-4568-a9ed-a51a8b4da812"
      },
      "execution_count": null,
      "outputs": [
        {
          "output_type": "stream",
          "name": "stdout",
          "text": [
            "Menu de opciones: \n",
            "1. Mostrar lista de productos\n",
            "2. Agregar un producto\n",
            "3. Seleccionar un producto\n",
            "5. Salir\n",
            "Seleccione una opcion: 1\n",
            "Lista de productos disponibles: \n",
            " Chocolate: precio: $9, satisfacion: 2\n",
            " Leche: precio: $6, satisfacion: 5\n",
            " Pan: precio: $5, satisfacion: 3\n",
            " Queso: precio: $10, satisfacion: 7\n",
            " Fruta: precio: $7, satisfacion: 4\n",
            "Menu de opciones: \n",
            "1. Mostrar lista de productos\n",
            "2. Agregar un producto\n",
            "3. Seleccionar un producto\n",
            "5. Salir\n",
            "Seleccione una opcion: 3\n",
            "Menu de opciones: \n",
            "1. Mostrar lista de productos\n",
            "2. Agregar un producto\n",
            "3. Seleccionar un producto\n",
            "5. Salir\n",
            "Seleccione una opcion: 5\n",
            "Adios\n"
          ]
        }
      ]
    },
    {
      "cell_type": "code",
      "source": [
        "def leer_productos(lista_productos):\n",
        "  print(\"Lista de productos disponibles: \")\n",
        "  for nombre,precio,satisfacion in lista_productos:\n",
        "    print(f\" {nombre}: precio: ${precio}, satisfacion: {satisfacion}\")\n",
        "\n",
        "def registrar_producto(lista_productos):\n",
        "  nombre = input(\"Ingrese el nombre del producto: \")\n",
        "  precio = int(input(\"Ingrese el precio: \"))\n",
        "  satisfacion = int(input(\"Ingrese la satisfacion: \"))\n",
        "\n",
        "  lista_productos.append((nombre,precio,satisfacion))\n",
        "  print(f\"Producto :{nombre} ,registrado exitosamente\")\n"
      ],
      "metadata": {
        "id": "FuM_6Ijkvmx4"
      },
      "execution_count": null,
      "outputs": []
    },
    {
      "cell_type": "code",
      "source": [
        "def ordenar_productos(lista_productos):\n",
        "  productos_ordenados = sorted(lista_productos, key = lambda  x: x[2], reverse=True)\n",
        "  return productos_ordenados\n"
      ],
      "metadata": {
        "id": "cc89o9VmwX0H"
      },
      "execution_count": null,
      "outputs": []
    },
    {
      "cell_type": "code",
      "source": [
        "# función que identifica que productos fueron seleccionados\n",
        "def reconstruir_carrito():\n"
      ],
      "metadata": {
        "id": "7wH1iosEw9Rz"
      },
      "execution_count": null,
      "outputs": []
    },
    {
      "cell_type": "code",
      "source": [
        "#==============ESTE ES EL CODIGO COMPLETO======================\n",
        "def seleccionar_productos(dinero_disponible, productos):\n",
        "    carrito = []\n",
        "    satisfaccion = 0\n",
        "    cuenta = 0\n",
        "    dinero = dinero_disponible\n",
        "\n",
        "    for producto in range(len(productos)):\n",
        "        if dinero >= productos[producto][1]:\n",
        "            dinero -= productos[producto][1]\n",
        "            satisfaccion += productos[producto][2]\n",
        "            cuenta += productos[producto][1]\n",
        "            carrito.append(productos[producto])\n",
        "        else:\n",
        "            pass\n",
        "    return carrito, cuenta, satisfaccion\n",
        "\n",
        "\n",
        "def leer_productos(lista_productos):\n",
        "    print(\"Lista de productos disponibles: \")\n",
        "    for nombre, precio, satisfaccion in lista_productos:\n",
        "        print(f\"{nombre}: precio: ${precio}, satisfacción: {satisfaccion}\")\n",
        "\n",
        "\n",
        "def registrar_producto(lista_productos):\n",
        "    nombre = input(\"Ingrese el nombre del producto: \")\n",
        "    precio = int(input(\"Ingrese el precio: \"))\n",
        "    satisfaccion = int(input(\"Ingrese la satisfacción: \"))\n",
        "\n",
        "    lista_productos.append((nombre, precio, satisfaccion))\n",
        "    print(f\"Producto {nombre} registrado exitosamente\")\n",
        "\n",
        "\n",
        "def ordenar_productos(lista_productos):\n",
        "    productos_ordenados = sorted(lista_productos, key=lambda x: x[2]/x[1], reverse=True)\n",
        "    return productos_ordenados\n",
        "\n",
        "\n",
        "def mostrar_carrito(carrito, costo_total, sas_total):\n",
        "    print(\"Productos comprados:\")\n",
        "    for nombre, precio, satisfaccion in carrito:\n",
        "        print(f\"{nombre}---------->precio: ${precio}--------->Satisfacción: {satisfaccion}\")\n",
        "    print(f\"Costo total: {costo_total}\")\n",
        "    print(f\"Satisfacción total: {sas_total}\")\n",
        "\n",
        "\n",
        "#================PROBAR CODIGO========================\n",
        "lista_productos = [\n",
        "    (\"Chocolate\", 9, 2),\n",
        "    (\"Leche\", 6, 5),\n",
        "    (\"Pan\", 5, 3),\n",
        "    (\"Queso\", 10, 7),\n",
        "    (\"Frutas\", 7, 4)\n",
        "]\n",
        "\n",
        "\n",
        "if __name__ == \"__main__\":\n",
        "    while True:\n",
        "        print(\"\\nMenú de opciones: \")\n",
        "        print(\"1. Mostrar lista de productos\")\n",
        "        print(\"2. Agregar un producto\")\n",
        "        print(\"3. Hacer la compra\")\n",
        "        print(\"5. Salir\")\n",
        "\n",
        "        opcion = int(input(\"Seleccione una opción: \"))\n",
        "\n",
        "        if opcion == 1:\n",
        "            leer_productos(lista_productos)\n",
        "        elif opcion == 2:\n",
        "            registrar_producto(lista_productos)\n",
        "        elif opcion == 3:\n",
        "            productos_ordenados = ordenar_productos(lista_productos)\n",
        "            carrito, costo_total, satisfaccion_total = seleccionar_productos(50, productos_ordenados)\n",
        "            mostrar_carrito(carrito, costo_total, satisfaccion_total)\n",
        "        elif opcion == 5:\n",
        "            print(\"Adiós\")\n",
        "            break\n",
        "        else:\n",
        "            print(\"Opción no valida.\")"
      ],
      "metadata": {
        "colab": {
          "base_uri": "https://localhost:8080/"
        },
        "id": "KL-uXHtzCw__",
        "outputId": "2593a8de-d9a3-42ee-fe45-a24040f4cd2e"
      },
      "execution_count": null,
      "outputs": [
        {
          "output_type": "stream",
          "name": "stdout",
          "text": [
            "\n",
            "Menú de opciones: \n",
            "1. Mostrar lista de productos\n",
            "2. Agregar un producto\n",
            "3. Hacer la compra\n",
            "5. Salir\n",
            "Seleccione una opción: 3\n",
            "Productos comprados:\n",
            "Leche---------->precio: $6--------->Satisfacción: 5\n",
            "Queso---------->precio: $10--------->Satisfacción: 7\n",
            "Pan---------->precio: $5--------->Satisfacción: 3\n",
            "Frutas---------->precio: $7--------->Satisfacción: 4\n",
            "Chocolate---------->precio: $9--------->Satisfacción: 2\n",
            "Costo total: 37\n",
            "Satisfacción total: 21\n",
            "\n",
            "Menú de opciones: \n",
            "1. Mostrar lista de productos\n",
            "2. Agregar un producto\n",
            "3. Hacer la compra\n",
            "5. Salir\n",
            "Seleccione una opción: 2\n",
            "Ingrese el nombre del producto: Atun\n",
            "Ingrese el precio: 2\n",
            "Ingrese la satisfacción: 6\n",
            "Producto Atun registrado exitosamente\n",
            "\n",
            "Menú de opciones: \n",
            "1. Mostrar lista de productos\n",
            "2. Agregar un producto\n",
            "3. Hacer la compra\n",
            "5. Salir\n",
            "Seleccione una opción: 1\n",
            "Lista de productos disponibles: \n",
            "Chocolate: precio: $9, satisfacción: 2\n",
            "Leche: precio: $6, satisfacción: 5\n",
            "Pan: precio: $5, satisfacción: 3\n",
            "Queso: precio: $10, satisfacción: 7\n",
            "Frutas: precio: $7, satisfacción: 4\n",
            "Atun: precio: $2, satisfacción: 6\n",
            "\n",
            "Menú de opciones: \n",
            "1. Mostrar lista de productos\n",
            "2. Agregar un producto\n",
            "3. Hacer la compra\n",
            "5. Salir\n",
            "Seleccione una opción: 5\n",
            "Adiós\n"
          ]
        }
      ]
    }
  ]
}