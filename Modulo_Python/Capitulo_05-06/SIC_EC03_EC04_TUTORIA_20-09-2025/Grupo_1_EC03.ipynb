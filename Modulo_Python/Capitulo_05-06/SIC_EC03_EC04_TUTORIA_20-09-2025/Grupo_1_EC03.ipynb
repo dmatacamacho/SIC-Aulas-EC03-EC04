{
  "nbformat": 4,
  "nbformat_minor": 0,
  "metadata": {
    "colab": {
      "provenance": []
    },
    "kernelspec": {
      "name": "python3",
      "display_name": "Python 3"
    },
    "language_info": {
      "name": "python"
    }
  },
  "cells": [
    {
      "cell_type": "markdown",
      "source": [
        "#  Actividad en grupos: Organización de libros electrónicos\n",
        "\n",
        "## 📌 El problema propuesto\n",
        "\n",
        "Una **biblioteca digital** quiere organizar el préstamo de libros electrónicos a sus usuarios.  \n",
        "Cada libro tiene un **tiempo de lectura estimado** y los estudiantes solo tienen un **tiempo máximo disponible** (por ejemplo, 10 horas).  \n",
        "\n",
        "El sistema debe decidir **qué libros recomendar** para aprovechar mejor el tiempo disponible.  \n",
        "El objetivo puede ser:  \n",
        "- Maximizar la **cantidad de libros leídos**, o  \n",
        "- Maximizar el **tiempo total de lectura utilizado**.  \n",
        "\n",
        "---\n",
        "\n",
        "## 🛠️ Pistas y ayuda sobre las funciones\n",
        "\n",
        "Ustedes deben diseñar la lógica. Aquí tienen sugerencias para los nombres de las funciones:  \n",
        "\n",
        "- `leer_libros()`  \n",
        "   Recibe la lista de libros con su tiempo de lectura.  \n",
        "\n",
        "- `ordenar_libros()`  \n",
        "   Ordena los libros según el criterio (por tiempo, por beneficio, etc.).  \n",
        "\n",
        "- `seleccionar_libros()`  \n",
        "   Implementa la estrategia (greedy, dinámica o búsqueda binaria).  \n",
        "\n",
        "- `reconstruir_recomendacion()`  \n",
        "   Identifica qué libros fueron seleccionados.  \n",
        "\n",
        "- `mostrar_recomendacion()`  \n",
        "   Presenta la lista de libros recomendados y el tiempo total utilizado.  \n",
        "\n",
        "---\n",
        "\n",
        "✅ **Entregable**:  bloque principal (`if __name__ == \"__main__\":`) donde se ejecute todo el programa.\n"
      ],
      "metadata": {
        "id": "qxu9pCwn3cLm"
      }
    },
    {
      "cell_type": "code",
      "source": [
        "class Libro:\n",
        "    def __init__(self, titulo, tiempo_lectura, tema):\n",
        "        self.titulo = titulo\n",
        "        self.tiempo_lectura = tiempo_lectura\n",
        "        self.tema = tema\n",
        "\n",
        "    def __repr__(self):\n",
        "        return f\"{self.titulo} ({self.tiempo_lectura}h, {self.tema})\"\n"
      ],
      "metadata": {
        "id": "bAQz1c8pwanP"
      },
      "execution_count": null,
      "outputs": []
    },
    {
      "cell_type": "code",
      "source": [
        "def ordenar_libros(lista):\n",
        "    lista_libros = lista.copy()\n",
        "    while True:\n",
        "        opcion = input(\"Opciones para ordenar libros:\\n1. Tiempo de lectura\\n2. Título\\n3. Tema\\n4. Salir\\n\")\n",
        "        if opcion == \"1\":\n",
        "            lista_libros.sort(key=lambda x: x.tiempo_lectura)\n",
        "            return lista_libros\n",
        "        elif opcion == \"2\":\n",
        "            lista_libros.sort(key=lambda x: x.titulo)\n",
        "            return lista_libros\n",
        "        elif opcion == \"3\":\n",
        "            lista_libros.sort(key=lambda x: x.tema)\n",
        "            return lista_libros\n",
        "        elif opcion == \"4\":\n",
        "            return None\n",
        "        else:\n",
        "            print(\"Opción no válida\")"
      ],
      "metadata": {
        "id": "jd0c4yu10bWn"
      },
      "execution_count": null,
      "outputs": []
    },
    {
      "cell_type": "code",
      "source": [
        "def seleccionar_libros(lista, tiempo_maximo, cantidad_libros):\n",
        "    lista_ordenada = sorted(lista, key=lambda x: x.tiempo_lectura)\n",
        "    libros_seleccionados = []\n",
        "    tiempo_utilizado = 0\n",
        "    for libro in lista_ordenada:\n",
        "        if (tiempo_utilizado + libro.tiempo_lectura) <= tiempo_maximo and len(libros_seleccionados) < cantidad_libros:\n",
        "            libros_seleccionados.append(libro)\n",
        "            tiempo_utilizado += libro.tiempo_lectura\n",
        "    return libros_seleccionados, tiempo_utilizado"
      ],
      "metadata": {
        "id": "nhCfxFM62n16"
      },
      "execution_count": null,
      "outputs": []
    },
    {
      "cell_type": "code",
      "source": [
        "def mostrar_recomendacion(libros, tiempo_total):\n",
        "    print(\"Libros recomendados:\")\n",
        "    for libro in libros:\n",
        "        print(f\"- Titulo: {libro.titulo} ({libro.tiempo_lectura} horas) con tema {libro.tema}\")\n",
        "    print(f\"Tiempo total utilizado: {tiempo_total}h\")"
      ],
      "metadata": {
        "id": "4CLJK0MC3yXZ"
      },
      "execution_count": null,
      "outputs": []
    },
    {
      "cell_type": "code",
      "source": [
        "if __name__ == \"__main__\":\n",
        "    lista_libros = [\n",
        "        Libro(\"Python Básico\", 3, \"Programación\"),\n",
        "        Libro(\"Historia Universal\", 4, \"Historia\"),\n",
        "        Libro(\"Cálculo I\", 6, \"Matemáticas\"),\n",
        "        Libro(\"Cuentos Cortos\", 2, \"Literatura\"),\n",
        "        Libro(\"Inteligencia Artificial\", 5, \"Programación\")\n",
        "    ]\n",
        "\n",
        "    seleccionados, tiempo = seleccionar_libros(lista_libros, tiempo_maximo=10, cantidad_libros=3)\n",
        "    mostrar_recomendacion(seleccionados, tiempo)"
      ],
      "metadata": {
        "colab": {
          "base_uri": "https://localhost:8080/"
        },
        "id": "7ucx29CR4D5y",
        "outputId": "5fd3a494-7dfe-49fa-a62b-f5efd0b4ec4d"
      },
      "execution_count": null,
      "outputs": [
        {
          "output_type": "stream",
          "name": "stdout",
          "text": [
            "Libros recomendados:\n",
            "- Titulo: Cuentos Cortos (2 horas) con tema Literatura\n",
            "- Titulo: Python Básico (3 horas) con tema Programación\n",
            "- Titulo: Historia Universal (4 horas) con tema Historia\n",
            "Tiempo total utilizado: 9h\n"
          ]
        }
      ]
    }
  ]
}