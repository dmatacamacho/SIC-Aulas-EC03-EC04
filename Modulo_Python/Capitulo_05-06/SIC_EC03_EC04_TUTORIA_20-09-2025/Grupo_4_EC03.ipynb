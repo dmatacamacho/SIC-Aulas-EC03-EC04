{
  "nbformat": 4,
  "nbformat_minor": 0,
  "metadata": {
    "colab": {
      "provenance": []
    },
    "kernelspec": {
      "name": "python3",
      "display_name": "Python 3"
    },
    "language_info": {
      "name": "python"
    }
  },
  "cells": [
    {
      "cell_type": "markdown",
      "source": [
        "# 🎬 Actividad en grupos: Selección de películas\n",
        "\n",
        "## 📌 El problema propuesto\n",
        "\n",
        "Un grupo de amigos quiere ver varias **películas en una maratón**.  \n",
        "Cada película tiene una **duración** (en minutos) y una **puntuación de interés** (por ejemplo, acción = 9, comedia = 6).  \n",
        "El tiempo total disponible para la maratón es **limitado** (por ejemplo, 6 horas = 360 minutos).  \n",
        "\n",
        "El sistema debe decidir **qué películas ver** para:  \n",
        "- Maximizar la **puntuación total de interés**, sin pasarse del tiempo disponible.  \n",
        "\n",
        "Este problema se puede resolver con:  \n",
        "- **Greedy**, eligiendo las películas con mayor interés o con mejor relación interés/duración.  \n",
        "- **Programación dinámica**, para encontrar la mejor combinación exacta.  \n",
        "\n",
        "---\n",
        "\n",
        "## 🛠️ Pistas y ayuda sobre las funciones\n",
        "\n",
        "Ustedes deben diseñar la lógica. Aquí tienen sugerencias para los nombres de las funciones:  \n",
        "\n",
        "- `leer_peliculas()`  \n",
        "   Recibe la lista de películas con su duración y puntuación.  \n",
        "\n",
        "- `ordenar_peliculas()`  \n",
        "   Ordena la lista según el criterio elegido (interés, duración o relación interés/duración).  \n",
        "\n",
        "- `seleccionar_peliculas()`  \n",
        "   Implementa la estrategia para llenar el tiempo disponible (greedy o dinámica).  \n",
        "\n",
        "- `reconstruir_maraton()`  \n",
        "   Identifica qué películas fueron seleccionadas.  \n",
        "\n",
        "- `mostrar_maraton()`  \n",
        "   Presenta las películas elegidas, el tiempo total y el interés total.  \n",
        "\n",
        "---\n",
        "\n",
        "✅ **Entregable**: un bloque principal (`if __name__ == \"__main__\":`) donde se ejecute todo el programa.\n"
      ],
      "metadata": {
        "id": "8v4085Hh9Iqg"
      }
    },
    {
      "cell_type": "code",
      "source": [
        "peliculas = [\n",
        "      {\"nombre_pelicula\": \"Titanic\", \"duracion\": 195, \"puntuacion_interes\": 5},\n",
        "      {\"nombre_pelicula\": \"Avengers: Endgame\", \"duracion\": 181, \"puntuacion_interes\": 8},\n",
        "      {\"nombre_pelicula\": \"Superbad\", \"duracion\": 113, \"puntuacion_interes\": 7},\n",
        "      {\"nombre_pelicula\": \"John Wick\", \"duracion\": 101, \"puntuacion_interes\": 6},\n",
        "      {\"nombre_pelicula\": \"The Hangover\", \"duracion\": 100, \"puntuacion_interes\": 5},\n",
        "      {\"nombre_pelicula\": \"Mad Max: Fury Road\", \"duracion\": 120, \"puntuacion_interes\": 7}\n",
        "  ]"
      ],
      "metadata": {
        "id": "SEaae1n_6eeK"
      },
      "execution_count": null,
      "outputs": []
    },
    {
      "cell_type": "code",
      "source": [
        "#Sergio Rodriguez\n",
        "def leer_peliculas(data): #recibe diccionario de peliculas\n",
        "  peliculas = []\n",
        "  for peli in data:\n",
        "    titulo = peli[\"nombre_pelicula\"]\n",
        "    time = int(peli[\"duracion\"])\n",
        "    interes = int(peli[\"puntuacion_interes\"])\n",
        "    if time > 0 and interes > 0:\n",
        "      peliculas.append({\"titulo\": titulo, \"time\": time, \"interes\": interes})\n",
        "  return peliculas"
      ],
      "metadata": {
        "id": "9AIUQMM89KhU"
      },
      "execution_count": null,
      "outputs": []
    },
    {
      "cell_type": "code",
      "source": [
        "#Arianna Feijoo\n",
        "def ordenar_peliculas(peliculas, criterio=\"interes\"):\n",
        "  if criterio.lower()==\"interes\":\n",
        "    return sorted(peliculas, key= lambda p: p[\"interes\"], reverse=True) #mayor a menor interes\n",
        "  elif criterio.lower()==\"duración\":\n",
        "    return sorted(peliculas, key= lambda p: p[\"time\"]) #menor a mayor duracion\n",
        "  elif criterio.lower()==\"eficiencia\":\n",
        "    return sorted(peliculas, key= lambda p: p[\"interes\"]/p[\"time\"]) #interés por cada minuto de duración, de menor a mayor\n",
        "  else:\n",
        "    return peliculas"
      ],
      "metadata": {
        "id": "VDJvWVZHxj9T",
        "collapsed": true
      },
      "execution_count": null,
      "outputs": []
    },
    {
      "cell_type": "code",
      "source": [
        "# Daniel Suárez\n",
        "def seleccionar_peliculas(peliculas, max_duracion):\n",
        "    seleccionadas = []\n",
        "    interesTotal = 0\n",
        "    duracionTotal = 0\n",
        "\n",
        "    for pelicula in peliculas:\n",
        "      if pelicula['time'] <= max_duracion:\n",
        "          seleccionadas.append(pelicula)\n",
        "          max_duracion -= pelicula['time']\n",
        "          duracionTotal += pelicula['time']\n",
        "          interesTotal += pelicula['interes']\n",
        "    return seleccionadas, duracionTotal, interesTotal"
      ],
      "metadata": {
        "id": "_2tylTtzwFNg"
      },
      "execution_count": null,
      "outputs": []
    },
    {
      "cell_type": "code",
      "source": [
        "def reconstruir_peliculas(peliculas):\n",
        "    peliculas = leer_peliculas(peliculas)\n",
        "    peliculasOrdenadas = ordenar_peliculas(peliculas, 'duracion')\n",
        "    seleccionadas, duracionTotal, interesTotal = seleccionar_peliculas(peliculasOrdenadas, 360)\n",
        "    return seleccionadas, duracionTotal, interesTotal\n",
        "\n",
        "def mostrar_maraton(seleccionadas, duracionTotal, interesTotal):\n",
        "    for p in seleccionadas:\n",
        "        print(f\"Nombre de la película: {p['titulo']}, duración: {p['time']}, puntuación de interés: {p['interes']}\")\n",
        "    print(f\"Duración total de la maratón: {duracionTotal} minutos\")\n",
        "    print(f\"Interés total de la maratón: {interesTotal} puntos\")"
      ],
      "metadata": {
        "id": "acx5NjmM4Dj0"
      },
      "execution_count": null,
      "outputs": []
    },
    {
      "cell_type": "code",
      "source": [
        "if __name__ == \"__main__\":\n",
        "  seleccionadas, duracion_total, interes_total = reconstruir_peliculas(peliculas)\n",
        "  mostrar_maraton(seleccionadas, duracion_total, interes_total)"
      ],
      "metadata": {
        "colab": {
          "base_uri": "https://localhost:8080/"
        },
        "id": "X4LcZiYa5WAX",
        "outputId": "59841806-68c2-4988-bd91-ff4c195acd96"
      },
      "execution_count": null,
      "outputs": [
        {
          "output_type": "stream",
          "name": "stdout",
          "text": [
            "Nombre de la película: The Hangover, duración: 100, puntuación de interés: 5\n",
            "Nombre de la película: John Wick, duración: 101, puntuación de interés: 6\n",
            "Nombre de la película: Superbad, duración: 113, puntuación de interés: 3\n",
            "Duración total de la maratón: 314 minutos\n",
            "Interés total de la maratón: 14 puntos\n"
          ]
        }
      ]
    }
  ]
}