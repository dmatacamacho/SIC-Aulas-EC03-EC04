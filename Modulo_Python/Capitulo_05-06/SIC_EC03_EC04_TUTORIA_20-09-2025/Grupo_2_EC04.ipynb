{
  "nbformat": 4,
  "nbformat_minor": 0,
  "metadata": {
    "colab": {
      "provenance": []
    },
    "kernelspec": {
      "name": "python3",
      "display_name": "Python 3"
    },
    "language_info": {
      "name": "python"
    }
  },
  "cells": [
    {
      "cell_type": "markdown",
      "source": [
        "# 🎬 Actividad en grupos: Selección de películas\n",
        "\n",
        "## 📌 El problema propuesto\n",
        "\n",
        "Un grupo de amigos quiere ver varias **películas en una maratón**.  \n",
        "Cada película tiene una **duración** (en minutos) y una **puntuación de interés** (por ejemplo, acción = 9, comedia = 6).  \n",
        "El tiempo total disponible para la maratón es **limitado** (por ejemplo, 6 horas = 360 minutos).  \n",
        "\n",
        "El sistema debe decidir **qué películas ver** para:  \n",
        "- Maximizar la **puntuación total de interés**, sin pasarse del tiempo disponible.  \n",
        "\n",
        "Este problema se puede resolver con:  \n",
        "- **Greedy**, eligiendo las películas con mayor interés o con mejor relación interés/duración.  \n",
        "- **Programación dinámica**, para encontrar la mejor combinación exacta.  \n",
        "\n",
        "---\n",
        "\n",
        "## 🛠️ Pistas y ayuda sobre las funciones\n",
        "\n",
        "Ustedes deben diseñar la lógica. Aquí tienen sugerencias para los nombres de las funciones:  \n",
        "\n",
        "- `leer_peliculas()`  \n",
        "   Recibe la lista de películas con su duración y puntuación.  \n",
        "\n",
        "- `ordenar_peliculas()`  \n",
        "   Ordena la lista según el criterio elegido (interés, duración o relación interés/duración).  \n",
        "\n",
        "- `seleccionar_peliculas()`  \n",
        "   Implementa la estrategia para llenar el tiempo disponible (greedy o dinámica).  \n",
        "\n",
        "- `reconstruir_maraton()`  \n",
        "   Identifica qué películas fueron seleccionadas.  \n",
        "\n",
        "- `mostrar_maraton()`  \n",
        "   Presenta las películas elegidas, el tiempo total y el interés total.  \n",
        "\n",
        "---\n",
        "\n",
        "✅ **Entregable**: un bloque principal (`if __name__ == \"__main__\":`) donde se ejecute todo el programa.\n"
      ],
      "metadata": {
        "id": "dNlZqqJNCwJt"
      }
    },
    {
      "cell_type": "code",
      "source": [
        "def leer_peliculas(lst_peliculas):\n",
        "    \"\"\"\n",
        "    Recorre una lista de películas en formato de tupla y muestra sus detalles.\n",
        "\n",
        "    Args:\n",
        "      lst_peliculas: Una lista de tuplas, donde cada tupla es (nombre, duracion, puntuacion).\n",
        "    \"\"\"\n",
        "    print(\"--- Lista de Películas Disponibles ---\")\n",
        "    print(\"Nombre\\t\\t\\tDuración (min)\\tPuntuación\")\n",
        "\n",
        "    for pelicula in lst_peliculas:\n",
        "      nombre = pelicula[0]\n",
        "      duracion = pelicula[1]\n",
        "      puntuacion = pelicula[2]\n",
        "      print(f\"{nombre:<25}\\t\\t{duracion:<5}\\t\\t{puntuacion:<4}\")"
      ],
      "metadata": {
        "id": "goSrYMTWCxuB"
      },
      "execution_count": null,
      "outputs": []
    },
    {
      "cell_type": "code",
      "source": [
        "def ordenar_peliculas(peliculas,criterio):\n",
        "  if criterio.lower() == \"interes\":\n",
        "    peliculas.sort(key=lambda x:x[2],reverse = True)\n",
        "  elif criterio.lower() ==\"duracion\":\n",
        "    peliculas.sort(key=lambda x:x[1])\n",
        "  else:\n",
        "    peliculas.sort(key=lambda x:x[2]/x[1], reverse=True)\n",
        "  return peliculas\n"
      ],
      "metadata": {
        "id": "_uIwyfCNveEB"
      },
      "execution_count": null,
      "outputs": []
    },
    {
      "cell_type": "code",
      "source": [
        "def seleccionar_peliculas(peliculas, limite_tiempo):\n",
        "  \"\"\"\n",
        "  Selecciona películas de una lista cuyo tiempo total no exceda un límite.\n",
        "  \"\"\"\n",
        "  seleccionadas = []\n",
        "  for pelicula in peliculas:\n",
        "    if limite_tiempo >= pelicula[1]:\n",
        "      seleccionadas.append(pelicula)\n",
        "      limite_tiempo -= pelicula[1]\n",
        "  return seleccionadas\n"
      ],
      "metadata": {
        "id": "pp2dnH0Wvf_3"
      },
      "execution_count": null,
      "outputs": []
    },
    {
      "cell_type": "code",
      "source": [
        "def reconstruir_maraton(seleccionadas):\n",
        "  tiempo_total = sum(p[1] for p in seleccionadas)\n",
        "  interes_total = sum(p[2] for p in seleccionadas)\n",
        "  return seleccionadas, tiempo_total, interes_total\n"
      ],
      "metadata": {
        "id": "fYQjjhT4vgUR"
      },
      "execution_count": null,
      "outputs": []
    },
    {
      "cell_type": "code",
      "source": [
        "def mostrar_maraton(seleccionadas, tiempo_total, interes_total):\n",
        "  print(\"--- Películas seleccionadas para el maratón ---\")\n",
        "  print(\"Nombre\\t\\t\\tDuración (min)\\tPuntuación\")\n",
        "  for pelicula in seleccionadas:\n",
        "    print(f\"{pelicula[0]}\\t\\t{pelicula[1]}\\t\\t{pelicula[2]}\")"
      ],
      "metadata": {
        "id": "Z_yLf4Qtvgkg"
      },
      "execution_count": null,
      "outputs": []
    },
    {
      "cell_type": "code",
      "source": [
        "if __name__ == \"__main__\":\n",
        "\n",
        "  peliculas = [\n",
        "    (\"Piratas del Caribe\", 120, 8),\n",
        "    (\"El Señor de los Anillos\", 178, 10),\n",
        "    (\"Inception\", 148, 9),\n",
        "    (\"Interestelar\", 169, 10),\n",
        "    (\"Matrix\", 136, 9),\n",
        "    (\"Gladiador\", 155, 8),\n",
        "    (\"Jurassic Park\", 127, 8),\n",
        "    (\"Avatar\", 162, 9),\n",
        "    (\"Titanic\", 195, 8),\n",
        "    (\"Los Vengadores\", 143, 9)\n",
        "  ]\n",
        "\n",
        "  leer_peliculas(peliculas)\n",
        "  peliculas_ordenadas = ordenar_peliculas(peliculas, \"interes\")\n",
        "  peliculas_seleccionadas = seleccionar_peliculas(peliculas_ordenadas, 360)\n",
        "  peliculas_seleccionadas, tiempo_total, interes_total = reconstruir_maraton(peliculas_seleccionadas)\n",
        "  mostrar_maraton(peliculas_seleccionadas, tiempo_total, interes_total)\n"
      ],
      "metadata": {
        "id": "Nsxai8uQ3Phl",
        "colab": {
          "base_uri": "https://localhost:8080/"
        },
        "outputId": "68e282b3-134a-4416-acd8-3f698a9c52e5"
      },
      "execution_count": null,
      "outputs": [
        {
          "output_type": "stream",
          "name": "stdout",
          "text": [
            "--- Lista de Películas Disponibles ---\n",
            "Nombre\t\t\tDuración (min)\tPuntuación\n",
            "Piratas del Caribe\t\t120\t\t8\n",
            "El Señor de los Anillos\t\t178\t\t10\n",
            "Inception\t\t148\t\t9\n",
            "Interestelar\t\t169\t\t10\n",
            "Matrix\t\t136\t\t9\n",
            "Gladiador\t\t155\t\t8\n",
            "Jurassic Park\t\t127\t\t8\n",
            "Avatar\t\t162\t\t9\n",
            "Titanic\t\t195\t\t8\n",
            "Los Vengadores\t\t143\t\t9\n",
            "--- Películas seleccionadas para el maratón ---\n",
            "Nombre\t\t\tDuración (min)\tPuntuación\n",
            "El Señor de los Anillos\t\t178\t\t10\n",
            "Interestelar\t\t169\t\t10\n"
          ]
        }
      ]
    }
  ]
}