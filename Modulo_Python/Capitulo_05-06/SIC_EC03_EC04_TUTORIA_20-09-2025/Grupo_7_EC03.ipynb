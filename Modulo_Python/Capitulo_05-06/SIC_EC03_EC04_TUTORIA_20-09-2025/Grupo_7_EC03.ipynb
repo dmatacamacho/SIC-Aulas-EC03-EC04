{
  "nbformat": 4,
  "nbformat_minor": 0,
  "metadata": {
    "colab": {
      "provenance": []
    },
    "kernelspec": {
      "name": "python3",
      "display_name": "Python 3"
    },
    "language_info": {
      "name": "python"
    }
  },
  "cells": [
    {
      "cell_type": "markdown",
      "source": [
        "# 🏖️ Actividad en grupos: Preparación de mochila para la playa\n",
        "\n",
        "## 📌 El problema propuesto\n",
        "\n",
        "Un grupo de amigos va a la playa y quiere preparar su **mochila de playa**.  \n",
        "Cada artículo tiene un **peso** (en kg) y un **nivel de importancia** (por ejemplo, toalla 1Kg importancia 9, sombrero 0.5kg importancia 2).  \n",
        "La mochila solo puede cargar un **peso máximo total** (por ejemplo, 20 kg).  \n",
        "\n",
        "El sistema debe decidir **qué artículos incluir** para:  \n",
        "- Maximizar la **importancia total**, sin superar el límite de peso.  \n",
        "\n",
        "Este problema se puede resolver con:  \n",
        "- **Greedy**, eligiendo primero los artículos con mejor relación importancia/peso.  \n",
        "- **Programación dinámica**, para encontrar la combinación óptima de artículos.  \n",
        "\n",
        "---\n",
        "\n",
        "## 🛠️ Pistas y ayuda sobre las funciones\n",
        "\n",
        "Ustedes deben diseñar la lógica. Aquí tienen sugerencias para los nombres de las funciones:  \n",
        "\n",
        "- `leer_articulos()`  \n",
        "   Recibe la lista de artículos con su peso y nivel de importancia.  \n",
        "\n",
        "- `ordenar_articulos()`  \n",
        "   Ordena los artículos según el criterio elegido (peso, importancia o relación importancia/peso).  \n",
        "\n",
        "- `seleccionar_articulos()`  \n",
        "   Implementa la estrategia para llenar la mochila (greedy o dinámica).  \n",
        "\n",
        "- `reconstruir_mochila()`  \n",
        "   Identifica qué artículos fueron seleccionados.  \n",
        "\n",
        "- `mostrar_mochila()`  \n",
        "   Presenta los artículos elegidos, el peso total y la importancia total.  \n",
        "\n",
        "---\n",
        "\n",
        "✅ **Entregable**: un bloque principal (`if __name__ == \"__main__\":`) donde se ejecute todo el programa.\n"
      ],
      "metadata": {
        "id": "DlqWCek8_ROa"
      }
    },
    {
      "cell_type": "code",
      "source": [
        "def leer_articulo():\n",
        "  #diccionario vacio\n",
        "  artículo={}\n",
        "  #inputs pe tio\n",
        "  nombre=input(\"Ingrese el nombre del artículo: \")\n",
        "  peso=float(input(\"Ingrese el peso del artículo: \"))\n",
        "  while peso <= 0:\n",
        "        print(\"El peso no puede ser cero o negativo.\")\n",
        "        peso = float(input(\"Ingrese el peso del artículo: \"))\n",
        "  importancia=float(input(\"Ingrese la importancia del artículo: \"))\n",
        "  #agregamos al diccionario\n",
        "  artículo[\"nombre\"]=nombre\n",
        "  artículo[\"peso\"]=peso\n",
        "  artículo[\"importancia\"]=importancia\n",
        "  return artículo\n",
        "\n"
      ],
      "metadata": {
        "id": "Pfwl3AMo_hxN"
      },
      "execution_count": null,
      "outputs": []
    },
    {
      "cell_type": "code",
      "source": [
        "def ordenar_articulos(articulos, criterio=\"relacion\"):\n",
        "  #ordenamos con el metodo sorted, segun el criterio elegido\n",
        "  #en importancia y relacion es en descenso\n",
        "  if criterio == \"peso\":\n",
        "    return sorted(articulos, key=lambda x: x[\"peso\"])\n",
        "  elif criterio == \"importancia\":\n",
        "    return sorted(articulos, key=lambda x: x[\"importancia\"], reverse=True)\n",
        "  elif criterio == \"relacion\":\n",
        "    return sorted(articulos, key=lambda x: x[\"importancia\"] / x[\"peso\"], reverse=True)\n",
        "  else:\n",
        "    return articulos"
      ],
      "metadata": {
        "id": "-_EadOwt1nNM"
      },
      "execution_count": null,
      "outputs": []
    },
    {
      "cell_type": "code",
      "source": [
        "def seleccionar_articulos(articulos, peso_maximo):\n",
        "  \"\"\"\n",
        "  Implementa el algoritmo de mochila 0/1 con programación dinámica.\n",
        "  Retorna la matriz dp y el valor máximo alcanzado.\n",
        "  \"\"\"\n",
        "  n = len(articulos)\n",
        "  # Hacemos un escalado de los pesos, tanto el máximo como los que tenemos en la mochila\n",
        "  W = int(peso_maximo * 10)\n",
        "  pesos = [int(a[\"peso\"] * 10) for a in articulos]\n",
        "  # Extraigo las importaancias como una lista paralela a pesos\n",
        "  valores = [a[\"importancia\"] for a in articulos]\n",
        "\n",
        "  # Creo una matriz de tamaño (n+1)x(W+1)\n",
        "  # i: las filas tienen los primeros i articulos, en este caso, de 0 a n\n",
        "  # w: las columnas tendran las capacidades de cada articulo, de 0 a W\n",
        "  # dp[i][w] = importancia máxima con los primeros i artículos y capacidad w\n",
        "  dp = [[0] * (W + 1) for _ in range(n + 1)]\n",
        "\n",
        "  # Lleno la tabla (matriz)\n",
        "  for i in range(1, n + 1):                                                     # Recorro los articulos\n",
        "    for w in range(W + 1):                                                      # Recorro todas las capacidades posibles\n",
        "      if pesos[i - 1] <= w:                                                     # Si el peso del articulo es menor o igual a la capacidad actual, lo incluyo\n",
        "        dp[i][w] = max(dp[i - 1][w], dp[i - 1][w - pesos[i - 1]] + valores[i - 1])\n",
        "      else:                                                                     # Si el peso del articulo es mayor a la capacidad actual, no lo incluyo\n",
        "        dp[i][w] = dp[i - 1][w]\n",
        "\n",
        "  return dp, dp[n][W]"
      ],
      "metadata": {
        "id": "f6DR0Mop4rqu"
      },
      "execution_count": null,
      "outputs": []
    },
    {
      "cell_type": "code",
      "source": [
        "def recosntruir_mochila_dp(articulos, Matriz, Peso_maximo,numero_de_articulos):\n",
        "  mochila=[]\n",
        "  peso_total=0\n",
        "  importancia_total=Matriz[numero_de_articulos][Peso_maximo]\n",
        "\n",
        "  w=Peso_maximo\n",
        "  for i in range(numero_de_articulos, 0, -1):\n",
        "    peso_articulo = int(articulos[i-1][1]*10)\n",
        "    if Matriz[i][w] != Matriz[i-1][w]:\n",
        "      mochila.append(articulos[i-1])\n",
        "      w -= peso_articulo\n",
        "      peso_total += articulos[i-1][1]\n",
        "\n",
        "  return mochila, peso_total, importancia_total"
      ],
      "metadata": {
        "id": "uLh0aCz51oOJ"
      },
      "execution_count": null,
      "outputs": []
    },
    {
      "cell_type": "code",
      "source": [
        "def mostrar_mochila(articulos):\n",
        "  print(\"Articulos seleccionados:\")\n",
        "  for artículo in articulos:\n",
        "    print(f\"- {artículo['nombre']} (Peso: {artículo['peso']} kg, Importancia: {artículo['importancia']})\")"
      ],
      "metadata": {
        "id": "cTygsyzG1oaC"
      },
      "execution_count": null,
      "outputs": []
    },
    {
      "cell_type": "code",
      "source": [
        "\n",
        "\n",
        "\n",
        "#main\n",
        "flag=True\n",
        "articulos=[]\n",
        "print(\"Bienvenido a tu organizador de mochila de playa\")\n",
        "while flag:\n",
        "  peso=float(input(\"Cuál es el peso máximo de tu mochila? \"))\n",
        "  print(\"¡Ingresa un nuevo artículo a tu mochila!\")\n",
        "  artículo=leer_articulo()\n",
        "  articulos.append(artículo)\n",
        "  seguir=input(\"¿Deseas seguir agregando más artículos? (si/no): \")\n",
        "  if seguir.lower()!=\"si\":\n",
        "    flag=False\n",
        "\n",
        "print(\"¡Gracias por agregar los artículos! Ahora la ordenaremos por ti\")\n",
        "print(\"¿Cómo quieres ordenar los artículos?\")\n",
        "print(\"1. Por peso\")\n",
        "print(\"2. Por importancia\")\n",
        "print(\"3. Por mixto (importancia/peso)\")\n",
        "orden=int(input(\"Ingresa el número de la opción deseada: \"))\n",
        "\n",
        "print(\"Mientras esperas, mira este gato: \")\n",
        "print(r\"  /\\_/\\ \")\n",
        "print(r\" ( •.• ) \")\n",
        "print(r\" > づ♡ \")\n",
        "\n",
        "\n",
        "print(\"¡Hemos ordenado tu mochila maximizando tus prioridades!\")\n",
        "\n",
        "mostrar_mochila(articulos)\n"
      ],
      "metadata": {
        "id": "ZpzTBNiRwvB3",
        "colab": {
          "base_uri": "https://localhost:8080/"
        },
        "outputId": "a9791027-7ae3-4bcb-b363-b5d962fd1742"
      },
      "execution_count": null,
      "outputs": [
        {
          "output_type": "stream",
          "name": "stdout",
          "text": [
            "Bienvenido a tu organizador de mochila de playa\n",
            "¡Ingresa un nuevo artículo a tu mochila!\n",
            "Ingrese el nombre del artículo: uwu\n",
            "Ingrese el peso del artículo: 1\n",
            "Ingrese la importancia del artículo: 1\n",
            "¿Deseas seguir agregando más artículos? (si/no): no\n",
            "¡Gracias por agregar los artículos! Ahora la ordenaremos por ti\n",
            "Mientras esperas, mira este gato: \n",
            "  /\\_/\\ \n",
            " ( •.• ) \n",
            " > づ♡ \n",
            "¡Hemos ordenado tu mochila maximizando tus prioridades!\n",
            "Articulos seleccionados:\n",
            "- uwu (Peso: 1.0 kg, Importancia: 1.0)\n"
          ]
        }
      ]
    },
    {
      "cell_type": "code",
      "source": [],
      "metadata": {
        "id": "BImP4Hdw1lGt"
      },
      "execution_count": null,
      "outputs": []
    }
  ]
}