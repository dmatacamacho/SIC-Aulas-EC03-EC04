{
  "nbformat": 4,
  "nbformat_minor": 0,
  "metadata": {
    "colab": {
      "provenance": []
    },
    "kernelspec": {
      "name": "python3",
      "display_name": "Python 3"
    },
    "language_info": {
      "name": "python"
    }
  },
  "cells": [
    {
      "cell_type": "markdown",
      "source": [
        "\n",
        "# 💰 Actividad en grupos: Selección de compras en el supermercado\n",
        "\n",
        "## 📌 El problema propuesto\n",
        "\n",
        "Un cliente va al supermercado con una **cantidad limitada de dinero** (por ejemplo, 50 dólares).  \n",
        "Cada producto tiene un **precio** y un **nivel de satisfacción** (por ejemplo, chocolate  precio = 9 satisfaccion = 2, leche precio = 6 satisfaccion = 5).  \n",
        "\n",
        "El sistema debe decidir **qué productos comprar** para:  \n",
        "- Maximizar la **satisfacción total** sin pasarse del presupuesto.  \n",
        "\n",
        "Este problema se puede resolver con:  \n",
        "- **Greedy**, comprando primero los productos con mejor relación satisfacción/precio.  \n",
        "- **Programación dinámica**, para encontrar la mejor combinación exacta.  \n",
        "\n",
        "---\n",
        "\n",
        "## 🛠️ Pistas y ayuda sobre las funciones\n",
        "\n",
        "Ustedes deben diseñar la lógica. Aquí tienen sugerencias para los nombres de las funciones:  \n",
        "\n",
        "- `leer_productos()`  \n",
        "   Recibe la lista de productos con su precio y satisfacción.  \n",
        "\n",
        "- `ordenar_productos()`  \n",
        "   Ordena los productos según el criterio elegido (precio, satisfacción o relación satisfacción/precio).  \n",
        "\n",
        "- `seleccionar_productos()`  \n",
        "   Implementa la estrategia para elegir qué comprar (greedy o dinámica).  \n",
        "\n",
        "- `reconstruir_carrito()`  \n",
        "   Identifica qué productos fueron seleccionados.  \n",
        "\n",
        "- `mostrar_carrito()`  \n",
        "   Presenta los productos comprados, el costo total y la satisfacción total.  \n",
        "\n",
        "---\n",
        "\n",
        "✅ **Entregable**:  un bloque principal (`if __name__ == \"__main__\":`) donde se ejecute todo el programa.\n",
        "\n"
      ],
      "metadata": {
        "id": "8XBWYcxqDDeg"
      }
    },
    {
      "cell_type": "code",
      "source": [
        "productos = {\"chocolate\": [9, 10], \"leche\": [4, 4], \"carne\": [20, 15],\n",
        "             \"pan\": [7, 13], \"queso\": [18, 10], \"manzana\": [5, 7], \"arroz\": [6, 6],\n",
        "             \"pasta\": [8, 8], \"huevos\": [10, 12], \"yogur\": [3, 5], \"jugo\": [4, 6]}\n"
      ],
      "metadata": {
        "id": "dW6vhkji2XOd"
      },
      "execution_count": null,
      "outputs": []
    },
    {
      "cell_type": "code",
      "source": [
        "\n",
        "def leer_productos():\n",
        "  print(\"*------------------------Productos en la tienda------------------------*\\n\")\n",
        "  for clave, valor in productos.items():\n",
        "\n",
        "    print(f\"{clave.upper():10}  : ${valor[0]:<2} --- Satisfacción: {valor[1]:<2}\")\n",
        "    print(\"\\n\")\n",
        "\n"
      ],
      "metadata": {
        "id": "i-TfljxSDE7C"
      },
      "execution_count": null,
      "outputs": []
    },
    {
      "cell_type": "code",
      "source": [
        "def ordenar_productos(criterio=\"precio\"):\n",
        "    if criterio == \"precio\":\n",
        "        return sorted(productos.items(), key=lambda x: x[1][0])  # Orden por precio\n",
        "    elif criterio == \"satisfaccion\":\n",
        "        return sorted(productos.items(), key=lambda x: x[1][1], reverse=True)  # Orden por satisfacción\n",
        "    elif criterio == \"relacion\":\n",
        "        return sorted(productos.items(), key=lambda x: x[1][1]/x[1][0], reverse=True)  # Orden por relación satisfacción/precio\n",
        "    else:\n",
        "        print(\"Criterio no válido. Usa: 'precio', 'satisfaccion' o 'relacion'.\")\n",
        "        return list(productos.items())\n"
      ],
      "metadata": {
        "id": "NXyP_94y0ids"
      },
      "execution_count": null,
      "outputs": []
    },
    {
      "cell_type": "code",
      "source": [
        "def seleccionar_productos(productos_ordenados, presupuesto):\n",
        "    carrito = []\n",
        "    costo_total = 0\n",
        "    satisfaccion_total = 0\n",
        "\n",
        "    for nombre, datos in productos_ordenados:\n",
        "        precio = datos[0]\n",
        "        satisfaccion = datos[1]\n",
        "\n",
        "        if costo_total + precio <= presupuesto:\n",
        "            carrito.append((nombre, precio, satisfaccion))\n",
        "            costo_total += precio\n",
        "            satisfaccion_total += satisfaccion\n",
        "\n",
        "    return carrito, costo_total, satisfaccion_total\n"
      ],
      "metadata": {
        "id": "AOb8yYfVwrWJ"
      },
      "execution_count": null,
      "outputs": []
    },
    {
      "cell_type": "code",
      "source": [
        "def reconstruir_carrito(carrito):\n",
        "    productos_seleccionados = []\n",
        "    for item in carrito:\n",
        "        productos_seleccionados.append({\n",
        "            'nombre': item[0],\n",
        "            'precio': item[1],\n",
        "            'satisfaccion': item[2]\n",
        "        })\n",
        "    return productos_seleccionados\n"
      ],
      "metadata": {
        "id": "YxAJayFtvix0"
      },
      "execution_count": null,
      "outputs": []
    },
    {
      "cell_type": "code",
      "source": [
        "def mostrar_carrito(carrito, costo_total, satisfaccion_total):\n",
        "  print(\"*------------------------ Carrito de Compras ------------------------*\")\n",
        "  print(\"Productos comprados:\")\n",
        "  for i, producto in enumerate(carrito, 1):\n",
        "    print(f\"{i}. {producto['nombre']:12} - ${producto['precio']:2} - Satisfacción: {producto['satisfaccion']}\")\n",
        "\n",
        "  print(f\"Costo total: {costo_total}\")\n",
        "  print(f\"Satisfaccion total: {satisfaccion_total}\")"
      ],
      "metadata": {
        "id": "XaLbQvWA1O2w"
      },
      "execution_count": null,
      "outputs": []
    },
    {
      "cell_type": "code",
      "source": [
        "if __name__ == \"__main__\":\n",
        "    presupuesto = 50\n",
        "    criterio = input(\"Introduce el criterio de ordenamiento (precio, satisfaccion, relacion): \").lower()\n",
        "\n",
        "\n",
        "    leer_productos()\n",
        "\n",
        "    productos_ordenados = ordenar_productos(criterio)\n",
        "\n",
        "    print(f\"Productos ordenados por {criterio}\")\n",
        "    for nombre, datos in productos_ordenados:\n",
        "        relacion = datos[1] / datos[0]\n",
        "        print(f\"  {nombre:10} - ${datos[0]:2} - Sat: {datos[1]:2} - Relación: {relacion:.2f}\")\n",
        "    print()\n",
        "\n",
        "    carrito, costo_total, satisfaccion_total = seleccionar_productos(productos_ordenados, presupuesto)\n",
        "\n",
        "    carrito_reconstruido = reconstruir_carrito(carrito)\n",
        "\n",
        "    mostrar_carrito(carrito_reconstruido, costo_total, satisfaccion_total)"
      ],
      "metadata": {
        "id": "sb5jWpdO7Lxg",
        "colab": {
          "base_uri": "https://localhost:8080/"
        },
        "outputId": "a6a4e305-0a3a-4b6c-8e67-12c1a24290f5"
      },
      "execution_count": null,
      "outputs": [
        {
          "output_type": "stream",
          "name": "stdout",
          "text": [
            "Introduce el criterio de ordenamiento (precio, satisfaccion, relacion): precio\n",
            "*------------------------Productos en la tienda------------------------*\n",
            "\n",
            "CHOCOLATE   : $9  --- Satisfacción: 10\n",
            "\n",
            "\n",
            "LECHE       : $4  --- Satisfacción: 4 \n",
            "\n",
            "\n",
            "CARNE       : $20 --- Satisfacción: 15\n",
            "\n",
            "\n",
            "PAN         : $7  --- Satisfacción: 13\n",
            "\n",
            "\n",
            "QUESO       : $18 --- Satisfacción: 10\n",
            "\n",
            "\n",
            "MANZANA     : $5  --- Satisfacción: 7 \n",
            "\n",
            "\n",
            "ARROZ       : $6  --- Satisfacción: 6 \n",
            "\n",
            "\n",
            "PASTA       : $8  --- Satisfacción: 8 \n",
            "\n",
            "\n",
            "HUEVOS      : $10 --- Satisfacción: 12\n",
            "\n",
            "\n",
            "YOGUR       : $3  --- Satisfacción: 5 \n",
            "\n",
            "\n",
            "JUGO        : $4  --- Satisfacción: 6 \n",
            "\n",
            "\n",
            "Productos ordenados por precio\n",
            "  yogur      - $ 3 - Sat:  5 - Relación: 1.67\n",
            "  leche      - $ 4 - Sat:  4 - Relación: 1.00\n",
            "  jugo       - $ 4 - Sat:  6 - Relación: 1.50\n",
            "  manzana    - $ 5 - Sat:  7 - Relación: 1.40\n",
            "  arroz      - $ 6 - Sat:  6 - Relación: 1.00\n",
            "  pan        - $ 7 - Sat: 13 - Relación: 1.86\n",
            "  pasta      - $ 8 - Sat:  8 - Relación: 1.00\n",
            "  chocolate  - $ 9 - Sat: 10 - Relación: 1.11\n",
            "  huevos     - $10 - Sat: 12 - Relación: 1.20\n",
            "  queso      - $18 - Sat: 10 - Relación: 0.56\n",
            "  carne      - $20 - Sat: 15 - Relación: 0.75\n",
            "\n",
            "*------------------------ Carrito de Compras ------------------------*\n",
            "Productos comprados:\n",
            "1. yogur        - $ 3 - Satisfacción: 5\n",
            "2. leche        - $ 4 - Satisfacción: 4\n",
            "3. jugo         - $ 4 - Satisfacción: 6\n",
            "4. manzana      - $ 5 - Satisfacción: 7\n",
            "5. arroz        - $ 6 - Satisfacción: 6\n",
            "6. pan          - $ 7 - Satisfacción: 13\n",
            "7. pasta        - $ 8 - Satisfacción: 8\n",
            "8. chocolate    - $ 9 - Satisfacción: 10\n",
            "Costo total: 46\n",
            "Satisfaccion total: 59\n"
          ]
        }
      ]
    },
    {
      "cell_type": "code",
      "source": [],
      "metadata": {
        "id": "bpEp_UgR-vWz"
      },
      "execution_count": null,
      "outputs": []
    }
  ]
}