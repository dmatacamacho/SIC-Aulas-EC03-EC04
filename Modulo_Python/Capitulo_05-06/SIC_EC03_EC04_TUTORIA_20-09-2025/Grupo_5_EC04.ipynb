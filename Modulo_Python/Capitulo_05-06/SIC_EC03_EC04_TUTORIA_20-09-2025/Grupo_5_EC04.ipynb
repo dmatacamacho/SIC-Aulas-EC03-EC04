{
  "nbformat": 4,
  "nbformat_minor": 0,
  "metadata": {
    "colab": {
      "provenance": []
    },
    "kernelspec": {
      "name": "python3",
      "display_name": "Python 3"
    },
    "language_info": {
      "name": "python"
    }
  },
  "cells": [
    {
      "cell_type": "markdown",
      "source": [
        "# 🏖️ Actividad en grupos: Preparación de mochila para la playa\n",
        "\n",
        "## 📌 El problema propuesto\n",
        "\n",
        "Un grupo de amigos va a la playa y quiere preparar su **mochila de playa**.  \n",
        "Cada artículo tiene un **peso** (en kg) y un **nivel de importancia** (por ejemplo, toalla 1Kg importancia 9, sombrero 0.5kg importancia 2).  \n",
        "La mochila solo puede cargar un **peso máximo total** (por ejemplo, 20 kg).  \n",
        "\n",
        "El sistema debe decidir **qué artículos incluir** para:  \n",
        "- Maximizar la **importancia total**, sin superar el límite de peso.  \n",
        "\n",
        "Este problema se puede resolver con:  \n",
        "- **Greedy**, eligiendo primero los artículos con mejor relación importancia/peso.  \n",
        "- **Programación dinámica**, para encontrar la combinación óptima de artículos.  \n",
        "\n",
        "---\n",
        "\n",
        "## 🛠️ Pistas y ayuda sobre las funciones\n",
        "\n",
        "Ustedes deben diseñar la lógica. Aquí tienen sugerencias para los nombres de las funciones:  \n",
        "\n",
        "- `leer_articulos()`  \n",
        "   Recibe la lista de artículos con su peso y nivel de importancia.  \n",
        "\n",
        "- `ordenar_articulos()`  \n",
        "   Ordena los artículos según el criterio elegido (peso, importancia o relación importancia/peso).  \n",
        "\n",
        "- `seleccionar_articulos()`  \n",
        "   Implementa la estrategia para llenar la mochila (greedy o dinámica).  \n",
        "\n",
        "- `reconstruir_mochila()`  \n",
        "   Identifica qué artículos fueron seleccionados.  \n",
        "\n",
        "- `mostrar_mochila()`  \n",
        "   Presenta los artículos elegidos, el peso total y la importancia total.  \n",
        "\n",
        "---\n",
        "\n",
        "✅ **Entregable**: un bloque principal (`if __name__ == \"__main__\":`) donde se ejecute todo el programa.\n"
      ],
      "metadata": {
        "id": "NSx05IxXDS_G"
      }
    },
    {
      "cell_type": "code",
      "source": [
        "def leer_articulos():\n",
        "  articulos = [\n",
        "        {'nombre': 'Toalla', 'peso': 1.0, 'importancia': 9},\n",
        "        {'nombre': 'Bloqueador solar', 'peso': 0.5, 'importancia': 8},\n",
        "        {'nombre': 'Libro', 'peso': 0.8, 'importancia': 6},\n",
        "        {'nombre': 'Sombrero', 'peso': 0.3, 'importancia': 4},\n",
        "        {'nombre': 'Gafas de sol', 'peso': 0.2, 'importancia': 5},\n",
        "        {'nombre': 'Agua', 'peso': 1, 'importancia': 10},\n",
        "        {'nombre': 'Snacks', 'peso': 1.2, 'importancia': 7},\n",
        "        {'nombre': 'Parlante Bluetooth', 'peso': 0.7, 'importancia': 3},\n",
        "        {'nombre': 'Chanclas', 'peso': 1.1, 'importancia': 2},\n",
        "       ]\n",
        "  return articulos\n",
        "\n",
        "def leer_articulos_no_quemado():\n",
        "    try:\n",
        "        num_articulos = int(input(\"¿Cuántos artículos desea ingresar? \"))\n",
        "        if num_articulos <= 0:\n",
        "            print(\"Por favor, ingrese un número positivo.\")\n",
        "            return []\n",
        "    except ValueError:\n",
        "        print(\"Error: Por favor, ingrese un número entero válido.\")\n",
        "        return []\n",
        "\n",
        "    articulos = []\n",
        "\n",
        "    for i in range(num_articulos):\n",
        "        print(f\"--- Ingresando Artículo #{i + 1} ---\")\n",
        "\n",
        "        nombre = input(f\"Ingrese el nombre del artículo {i + 1}: \")\n",
        "        while not nombre:\n",
        "            print(\"El nombre del artículo no puede estar vacío.\")\n",
        "            nombre = input(f\"Ingrese el nombre del artículo {i + 1}: \")\n",
        "\n",
        "        while True:\n",
        "            try:\n",
        "                peso = float(input(f\"Ingrese el PESO (en kg) para '{nombre}': \"))\n",
        "                importancia = int(input(f\"Ingrese la IMPORTANCIA entre 1-10 para '{nombre}': \"))\n",
        "\n",
        "                if peso <= 0 or importancia <= 0:\n",
        "                    print(\"El peso y la importancia deben ser números positivos. Intente de nuevo.\")\n",
        "                    continue\n",
        "                if importancia > 10:\n",
        "                    print(\"La importancia no puede ser mayor a 10. Intente de nuevo.\")\n",
        "                    continue\n",
        "                break\n",
        "            except ValueError:\n",
        "                print(\"Error: Ingrese un número válido para el peso y la importancia. Intente de nuevo.\")\n",
        "\n",
        "        nuevo_articulo = {\n",
        "            'nombre': nombre,\n",
        "            'peso': peso,\n",
        "            'importancia': importancia\n",
        "        }\n",
        "\n",
        "        articulos.append(nuevo_articulo)\n",
        "        print(\"¡Artículo:\", nombre,\" añadido con éxito!\")\n",
        "\n",
        "    return articulos\n",
        "\n",
        "if __name__ == \"__main__\":\n",
        "  articulos = leer_articulos_no_quemado()\n",
        "  print(articulos)"
      ],
      "metadata": {
        "id": "_kKvRQYgDTgV",
        "colab": {
          "base_uri": "https://localhost:8080/"
        },
        "outputId": "9858fd75-431c-4d71-a9b7-237d09275097"
      },
      "execution_count": null,
      "outputs": [
        {
          "output_type": "stream",
          "name": "stdout",
          "text": [
            "¿Cuántos artículos desea ingresar? 4\n",
            "--- Ingresando Artículo #1 ---\n",
            "Ingrese el nombre del artículo 1: Pantalon\n",
            "Ingrese el PESO (en kg) para 'Pantalon': 2\n",
            "Ingrese la IMPORTANCIA entre 1-10 para 'Pantalon': 5\n",
            "¡Artículo: Pantalon  añadido con éxito!\n",
            "--- Ingresando Artículo #2 ---\n",
            "Ingrese el nombre del artículo 2: Pelota\n",
            "Ingrese el PESO (en kg) para 'Pelota': 1\n",
            "Ingrese la IMPORTANCIA entre 1-10 para 'Pelota': 3\n",
            "¡Artículo: Pelota  añadido con éxito!\n",
            "--- Ingresando Artículo #3 ---\n",
            "Ingrese el nombre del artículo 3: Protector Solar\n",
            "Ingrese el PESO (en kg) para 'Protector Solar': 0.5\n",
            "Ingrese la IMPORTANCIA entre 1-10 para 'Protector Solar': 7\n",
            "¡Artículo: Protector Solar  añadido con éxito!\n",
            "--- Ingresando Artículo #4 ---\n",
            "Ingrese el nombre del artículo 4: Traje de banio\n",
            "Ingrese el PESO (en kg) para 'Traje de banio': 2\n",
            "Ingrese la IMPORTANCIA entre 1-10 para 'Traje de banio': 9\n",
            "¡Artículo: Traje de banio  añadido con éxito!\n",
            "[{'nombre': 'Pantalon', 'peso': 2.0, 'importancia': 5}, {'nombre': 'Pelota', 'peso': 1.0, 'importancia': 3}, {'nombre': 'Protector Solar', 'peso': 0.5, 'importancia': 7}, {'nombre': 'Traje de banio', 'peso': 2.0, 'importancia': 9}]\n"
          ]
        }
      ]
    },
    {
      "cell_type": "code",
      "source": [
        "def ordenar_articulos(articulos):\n",
        "  n = len(articulos)\n",
        "  lista_copiada = articulos.copy()\n",
        "\n",
        "  for i in range(n):\n",
        "    for j in range(0, n - i - 1):\n",
        "      peso1 = lista_copiada[j][\"peso\"]\n",
        "      imp1 = lista_copiada[j][\"importancia\"]\n",
        "      if peso1 == 0:\n",
        "        relacion1 = float('inf') if imp1 > 0 else 0.0\n",
        "      else:\n",
        "        relacion1 = imp1 / peso1\n",
        "\n",
        "      peso2 = lista_copiada[j + 1][\"peso\"]\n",
        "      imp2 = lista_copiada[j + 1][\"importancia\"]\n",
        "      if peso2 == 0:\n",
        "        relacion2 = float('inf') if imp2 > 0 else 0.0\n",
        "      else:\n",
        "        relacion2 = imp2 / peso2\n",
        "\n",
        "      if relacion1 < relacion2:\n",
        "        lista_copiada[j], lista_copiada[j + 1] = lista_copiada[j + 1], lista_copiada[j]\n",
        "\n",
        "  return lista_copiada"
      ],
      "metadata": {
        "id": "GNQIsETk4UOr"
      },
      "execution_count": null,
      "outputs": []
    },
    {
      "cell_type": "code",
      "source": [
        "def seleccionar_articulos(articulos_ordenados, capacidad_max):\n",
        "    seleccion = []\n",
        "    peso_total = 0\n",
        "\n",
        "    for i, articulo in enumerate(articulos_ordenados):\n",
        "        if peso_total + articulo[\"peso\"] <= capacidad_max:\n",
        "            seleccion.append(i)\n",
        "            peso_total += articulo[\"peso\"]\n",
        "    return seleccion\n"
      ],
      "metadata": {
        "id": "kJEqzW9B0Ymg"
      },
      "execution_count": null,
      "outputs": []
    },
    {
      "cell_type": "markdown",
      "source": [],
      "metadata": {
        "id": "2GEeBDKxCt-i"
      }
    },
    {
      "cell_type": "code",
      "source": [
        "def reconstruir_mochila(articulos, seleccion):\n",
        "  mochila = []\n",
        "  for i in seleccion:\n",
        "    mochila.append(articulos[i])\n",
        "  return mochila"
      ],
      "metadata": {
        "id": "sMmtOExpvnV2"
      },
      "execution_count": null,
      "outputs": []
    },
    {
      "cell_type": "code",
      "source": [
        "def mostrar_mochila(articulos_seleccionados):\n",
        "  peso_total= 0\n",
        "  importancia_total= 0\n",
        "\n",
        "  print(\"---Presentacion de la mochila para la playa---\")\n",
        "  print(\"Los articulos seleccionados son: \")\n",
        "\n",
        "  for articulo in articulos_seleccionados:\n",
        "    nombre = articulo.get(\"nombre\", \"Articulo sin nombre\")\n",
        "    peso = articulo.get(\"peso\", 0)\n",
        "    importancia = articulo.get(\"importancia\",  0)\n",
        "    print(f\"{nombre} - Peso: {peso}kg  - Importancia:{importancia}\")\n",
        "    peso_total += peso\n",
        "    importancia_total += importancia\n",
        "\n",
        "  print(f\"Peso total es: {peso_total}\")\n",
        "  print(f\"Importancia total es: {importancia_total}\")"
      ],
      "metadata": {
        "id": "WwIJhPEhv9li"
      },
      "execution_count": null,
      "outputs": []
    },
    {
      "cell_type": "code",
      "source": [
        "if __name__ == \"__main__\":\n",
        "   articulos_disponibles = leer_articulos()\n",
        "   capacidad_max = 6.0\n",
        "   articulos_ordenados = ordenar_articulos(articulos_disponibles)\n",
        "\n",
        "   seleccion = seleccionar_articulos(articulos_ordenados, capacidad_max)\n",
        "\n",
        "   mochila = reconstruir_mochila(articulos_ordenados, seleccion)\n",
        "\n",
        "   mostrar_mochila(mochila)\n",
        "\n"
      ],
      "metadata": {
        "id": "qj3pqQ582HUH",
        "outputId": "32cf4485-5962-43aa-ba92-0685beacd27b",
        "colab": {
          "base_uri": "https://localhost:8080/"
        }
      },
      "execution_count": null,
      "outputs": [
        {
          "output_type": "stream",
          "name": "stdout",
          "text": [
            "---Presentacion de la mochila para la playa---\n",
            "Los articulos seleccionados son: \n",
            "Gafas de sol - Peso: 0.2kg  - Importancia:5\n",
            "Bloqueador solar - Peso: 0.5kg  - Importancia:8\n",
            "Sombrero - Peso: 0.3kg  - Importancia:4\n",
            "Agua - Peso: 1kg  - Importancia:10\n",
            "Toalla - Peso: 1.0kg  - Importancia:9\n",
            "Libro - Peso: 0.8kg  - Importancia:6\n",
            "Snacks - Peso: 1.2kg  - Importancia:7\n",
            "Parlante Bluetooth - Peso: 0.7kg  - Importancia:3\n",
            "Peso total es: 5.7\n",
            "Importancia total es: 52\n"
          ]
        }
      ]
    },
    {
      "cell_type": "code",
      "source": [],
      "metadata": {
        "id": "6IlAvUfgB5JK"
      },
      "execution_count": null,
      "outputs": []
    }
  ]
}