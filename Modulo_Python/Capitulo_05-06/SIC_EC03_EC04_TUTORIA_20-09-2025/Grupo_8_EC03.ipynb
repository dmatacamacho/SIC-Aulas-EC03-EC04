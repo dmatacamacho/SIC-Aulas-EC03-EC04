{
  "nbformat": 4,
  "nbformat_minor": 0,
  "metadata": {
    "colab": {
      "provenance": []
    },
    "kernelspec": {
      "name": "python3",
      "display_name": "Python 3"
    },
    "language_info": {
      "name": "python"
    }
  },
  "cells": [
    {
      "cell_type": "markdown",
      "source": [
        "#  Actividad en grupos: Organización de libros electrónicos\n",
        "\n",
        "## 📌 El problema propuesto\n",
        "\n",
        "Una **biblioteca digital** quiere organizar el préstamo de libros electrónicos a sus usuarios.  \n",
        "Cada libro tiene un **tiempo de lectura estimado** y los estudiantes solo tienen un **tiempo máximo disponible** (por ejemplo, 10 horas).  \n",
        "\n",
        "El sistema debe decidir **qué libros recomendar** para aprovechar mejor el tiempo disponible.  \n",
        "El objetivo puede ser:  \n",
        "- Maximizar la **cantidad de libros leídos**, o  \n",
        "- Maximizar el **tiempo total de lectura utilizado**.  \n",
        "\n",
        "---\n",
        "\n",
        "## 🛠️ Pistas y ayuda sobre las funciones\n",
        "\n",
        "Ustedes deben diseñar la lógica. Aquí tienen sugerencias para los nombres de las funciones:  \n",
        "\n",
        "- `leer_libros()`  \n",
        "   Recibe la lista de libros con su tiempo de lectura.  \n",
        "\n",
        "- `ordenar_libros()`  \n",
        "   Ordena los libros según el criterio (por tiempo, por beneficio, etc.).  \n",
        "\n",
        "- `seleccionar_libros()`  \n",
        "   Implementa la estrategia (greedy, dinámica o búsqueda binaria).  \n",
        "\n",
        "- `reconstruir_recomendacion()`  \n",
        "   Identifica qué libros fueron seleccionados.  \n",
        "\n",
        "- `mostrar_recomendacion()`  \n",
        "   Presenta la lista de libros recomendados y el tiempo total utilizado.  \n",
        "\n",
        "---\n",
        "\n",
        "✅ **Entregable**:  bloque principal (`if __name__ == \"__main__\":`) donde se ejecute todo el programa.\n"
      ],
      "metadata": {
        "id": "zEoyL_iu_xf6"
      }
    },
    {
      "cell_type": "code",
      "source": [
        "# Funcion para leer libros\n",
        "def leer_libros():\n",
        "    libros = {\n",
        "        \"Cien años de soledad\": 22,\n",
        "        \"Don Quijote de la Mancha\": 50,\n",
        "        \"1984\": 12,\n",
        "        \"Orgullo y prejuicio\": 14,\n",
        "        \"Fahrenheit 451\": 7,\n",
        "        \"El principito\": 3,\n",
        "        \"Crimen y castigo\": 28,\n",
        "        \"La Odisea\": 20,\n",
        "        \"Los juegos del hambre\": 10,\n",
        "        \"Harry Potter y la piedra filosofal\": 9,\n",
        "        \"El nombre de la rosa\": 26,\n",
        "        \"El alquimista\": 6,\n",
        "        \"It\": 42,\n",
        "        \"La sombra del viento\": 19,\n",
        "        \"Drácula\": 18,\n",
        "        \"Frankenstein\": 9,\n",
        "        \"El señor de los anillos: La comunidad del anillo\": 24,\n",
        "        \"Matar a un ruiseñor\": 12,\n",
        "        \"Rayuela\": 30,\n",
        "        \"El retrato de Dorian Gray\": 8\n",
        "    }\n",
        "    return libros"
      ],
      "metadata": {
        "id": "K6aFs-Wk_2rM"
      },
      "execution_count": null,
      "outputs": []
    },
    {
      "cell_type": "code",
      "source": [
        "# Ordenar libros\n",
        "def ordenar_libros(libros, criterio=\"cantidad\"):\n",
        "    if criterio == \"cantidad\":\n",
        "        libros_ordenados = dict(sorted(libros.items(), key=lambda x: x[1]))\n",
        "    elif criterio == \"tiempo\":\n",
        "        libros_ordenados = dict(sorted(libros.items(), key=lambda x: x[1], reverse=True))\n",
        "    else:\n",
        "        libros_ordenados = dict(sorted(libros.items(), key=lambda x: x[1]))\n",
        "    return libros_ordenados"
      ],
      "metadata": {
        "id": "ZRK5ym4swzwU"
      },
      "execution_count": null,
      "outputs": []
    },
    {
      "cell_type": "code",
      "source": [
        "# Seleccionar libros\n",
        "def seleccionar_libros(libros_ordenados, tiempo_maximo):\n",
        "    # aquí guardamos solo los libros elegidos\n",
        "    seleccionados = {}\n",
        "    tiempo_usado = 0\n",
        "\n",
        "    for libro, tiempo in libros_ordenados.items():\n",
        "        if tiempo_usado + tiempo <= tiempo_maximo:\n",
        "            seleccionados[libro] = tiempo   # guardar en el dict\n",
        "            tiempo_usado += tiempo\n",
        "\n",
        "    return {\"seleccionados\": seleccionados, \"tiempo_usado\": tiempo_usado}"
      ],
      "metadata": {
        "id": "f-xNPsWbvQYi"
      },
      "execution_count": null,
      "outputs": []
    },
    {
      "cell_type": "code",
      "source": [
        "# Mostrar recomendaciones\n",
        "def mostrar_recomendacion(resultado, tiempo_maximo):\n",
        "    seleccionados = resultado[\"seleccionados\"]\n",
        "    tiempo_total = resultado[\"tiempo_usado\"]\n",
        "\n",
        "    print(\"== LIBROS RECOMENDADOS ==\")\n",
        "    for libro, tiempo in seleccionados.items():\n",
        "        print(f\"-> {libro} ({tiempo} horas)\")\n",
        "    print(\"====================================================================\")\n",
        "    print(f\"Tiempo total de lectura: {tiempo_total} / {tiempo_maximo} horas\")\n",
        "    print(\"====================================================================\")"
      ],
      "metadata": {
        "id": "7AJxzECM1xH5"
      },
      "execution_count": null,
      "outputs": []
    },
    {
      "cell_type": "code",
      "source": [
        "if __name__ == \"__main__\":\n",
        "    tiempo_maximo = 10\n",
        "\n",
        "    libros = leer_libros()\n",
        "    libros_ordenados = ordenar_libros(libros, criterio=\"cantidad\")\n",
        "    resultado = seleccionar_libros(libros_ordenados, tiempo_maximo)\n",
        "    mostrar_recomendacion(resultado, tiempo_maximo)"
      ],
      "metadata": {
        "id": "kTN_SWu-y9Z5",
        "colab": {
          "base_uri": "https://localhost:8080/"
        },
        "outputId": "246da8c7-0691-461d-ac25-33910f68d6e1"
      },
      "execution_count": null,
      "outputs": [
        {
          "output_type": "stream",
          "name": "stdout",
          "text": [
            "== LIBROS RECOMENDADOS ==\n",
            "-> El principito (3 horas)\n",
            "-> El alquimista (6 horas)\n",
            "====================================================================\n",
            "Tiempo total de lectura: 9 / 10 horas\n",
            "====================================================================\n"
          ]
        }
      ]
    }
  ]
}