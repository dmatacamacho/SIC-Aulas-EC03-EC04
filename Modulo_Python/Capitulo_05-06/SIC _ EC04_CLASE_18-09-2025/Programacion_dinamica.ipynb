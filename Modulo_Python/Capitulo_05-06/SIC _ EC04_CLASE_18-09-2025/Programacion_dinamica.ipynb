{
 "cells": [
  {
   "cell_type": "code",
   "execution_count": 1,
   "id": "87d73af1",
   "metadata": {},
   "outputs": [
    {
     "name": "stdout",
     "output_type": "stream",
     "text": [
      "Calculando el número de Fibonacci para n = 35\n",
      "\n",
      "Iniciando cálculo con recursión simple (fib_recursivo)...\n",
      "Resultado: 9227465\n",
      "Tiempo de ejecución: 1.805695 segundos\n",
      "\n",
      "Iniciando cálculo con memoización (fib_con_memo)...\n",
      "Resultado: 9227465\n",
      "Tiempo de ejecución: 0.000017 segundos\n",
      "\n",
      "--- Comparación de Eficiencia ---\n",
      "La versión con memoización es aproximadamente 103748.40 veces más rápida.\n"
     ]
    }
   ],
   "source": [
    "import time\n",
    "\n",
    "# Su complejidad es exponencial, O(2^n).\n",
    "def fib_recursivo(n):\n",
    "    \"\"\"Calcula el n-ésimo número de Fibonacci usando recursión simple.\"\"\"\n",
    "    if n <= 1:\n",
    "        return n\n",
    "    return fib_recursivo(n - 1) + fib_recursivo(n - 2)\n",
    "\n",
    "# Su complejidad es lineal, O(n).\n",
    "def fib_con_memo(n, memo=None):\n",
    "    # La memoria (diccionario 'memo') se crea solo en la primera llamada.\n",
    "    if memo is None:\n",
    "        memo = {}\n",
    "    \n",
    "    # 1. Caso Memoizado: Si el resultado ya está, lo devolvemos al instante.\n",
    "    if n in memo:\n",
    "        return memo[n]\n",
    "    \n",
    "    # 2. Casos Base: El final de la recursión para 0 y 1.\n",
    "    if n <= 1:\n",
    "        return n\n",
    "    \n",
    "    # 3. Caso Recursivo: Calculamos los subproblemas y guardamos el resultado.\n",
    "    memo[n] = fib_con_memo(n - 1, memo) + fib_con_memo(n - 2, memo)\n",
    "    \n",
    "    return memo[n]\n",
    "\n",
    "\n",
    "if __name__ == \"__main__\":\n",
    "    n = 35 \n",
    "\n",
    "    print(f\"Calculando el número de Fibonacci para n = {n}\\n\")\n",
    "    \n",
    "    # Medir el tiempo de la versión recursiva simple\n",
    "    print(\"Iniciando cálculo con recursión simple (fib_recursivo)...\")\n",
    "    start_time_simple = time.time()\n",
    "    resultado_simple = fib_recursivo(n)\n",
    "    end_time_simple = time.time()\n",
    "    elapsed_time_simple = end_time_simple - start_time_simple\n",
    "    \n",
    "    print(f\"Resultado: {resultado_simple}\")\n",
    "    print(f\"Tiempo de ejecución: {elapsed_time_simple:.6f} segundos\\n\")\n",
    "    \n",
    "    # Medir el tiempo de la versión con memoización \n",
    "    print(\"Iniciando cálculo con memoización (fib_con_memo)...\")\n",
    "    start_time_memo = time.time()\n",
    "    resultado_memo = fib_con_memo(n)\n",
    "    end_time_memo = time.time()\n",
    "    elapsed_time_memo = end_time_memo - start_time_memo\n",
    "    \n",
    "    print(f\"Resultado: {resultado_memo}\")\n",
    "    print(f\"Tiempo de ejecución: {elapsed_time_memo:.6f} segundos\\n\")\n",
    "\n",
    "    # Comparar los resultados\n",
    "    print(\"--- Comparación de Eficiencia ---\")\n",
    "    if elapsed_time_simple > 0:\n",
    "        diferencia = elapsed_time_simple / elapsed_time_memo\n",
    "        print(f\"La versión con memoización es aproximadamente {diferencia:.2f} veces más rápida.\")\n",
    "    else:\n",
    "        print(\"La versión con memoización es exponencialmente más rápida. El tiempo de ejecución de la versión recursiva simple fue demasiado pequeño para una comparación precisa en n = {n}.\")"
   ]
  },
  {
   "cell_type": "code",
   "execution_count": 2,
   "id": "b286a43f",
   "metadata": {},
   "outputs": [
    {
     "name": "stdout",
     "output_type": "stream",
     "text": [
      "== PROBLEMA DE SELECCION DE ACTIVIDADES ==\n",
      "Reuniones disponibles:  [(1, 4), (3, 5), (0, 6), (5, 7), (8, 9), (5, 9)]\n",
      "Maximo numero de reuniones:  3\n",
      "Reuniones seleccionadas:  [(1, 4), (5, 7), (8, 9)]\n"
     ]
    }
   ],
   "source": [
    "def seleccion_actividades(actividades):\n",
    "    actividades_ordenadas = sorted(actividades, key = lambda x: x[1])\n",
    "    seleccionadas = []\n",
    "    ultimo_fin = -1\n",
    "\n",
    "    for actividad in actividades_ordenadas:\n",
    "        inicio, fin = actividad\n",
    "        if inicio >= ultimo_fin:\n",
    "            seleccionadas.append(actividad)\n",
    "            ultimo_fin = fin\n",
    "\n",
    "    return seleccionadas\n",
    "\n",
    "print(\"== PROBLEMA DE SELECCION DE ACTIVIDADES ==\")\n",
    "reuniones = [(1, 4), (3, 5), (0, 6), (5, 7), (8, 9), (5, 9)]\n",
    "resultado = seleccion_actividades(reuniones)\n",
    "print(\"Reuniones disponibles: \", reuniones)\n",
    "print(\"Maximo numero de reuniones: \", len(resultado))\n",
    "print(\"Reuniones seleccionadas: \", resultado)"
   ]
  },
  {
   "cell_type": "code",
   "execution_count": null,
   "id": "172cff6d",
   "metadata": {},
   "outputs": [],
   "source": []
  }
 ],
 "metadata": {
  "kernelspec": {
   "display_name": "Python 3",
   "language": "python",
   "name": "python3"
  },
  "language_info": {
   "codemirror_mode": {
    "name": "ipython",
    "version": 3
   },
   "file_extension": ".py",
   "mimetype": "text/x-python",
   "name": "python",
   "nbconvert_exporter": "python",
   "pygments_lexer": "ipython3",
   "version": "3.13.7"
  }
 },
 "nbformat": 4,
 "nbformat_minor": 5
}
