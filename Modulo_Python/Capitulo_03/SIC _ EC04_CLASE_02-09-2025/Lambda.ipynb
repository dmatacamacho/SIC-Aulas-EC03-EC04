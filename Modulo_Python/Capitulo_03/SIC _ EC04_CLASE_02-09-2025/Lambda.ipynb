{
 "cells": [
  {
   "cell_type": "code",
   "execution_count": 1,
   "id": "e3e98f81-6561-4613-af48-499d028c1940",
   "metadata": {},
   "outputs": [
    {
     "name": "stdout",
     "output_type": "stream",
     "text": [
      "Lista original: [5, 12, 7, 20, 33, 42, 8, 19]\n",
      "Números pares: [12, 20, 42, 8]\n",
      "Cuadrados: [25, 144, 49, 400, 1089, 1764, 64, 361]\n",
      "Suma total: 146\n"
     ]
    }
   ],
   "source": [
    "\n",
    "# EJEMPLO DE FUNCIONES LAMBDA EN PYTHON\n",
    "\n",
    "# Ejemplo sencillo: duplicar un número\n",
    "doble = lambda x: x * 2\n",
    "\n",
    "print(\"Ejemplo sencillo de lambda:\")\n",
    "print(\"El doble de 5 es:\", doble(5))\n",
    "print(\"El doble de 10 es:\", doble(10))\n",
    "\n",
    "\n",
    "# 2) Usar lambda con listas\n",
    "numeros = [5, 12, 7, 20, 33, 42, 8, 19]\n",
    "print(\"\\nLista original:\", numeros)\n",
    "\n",
    "\n",
    "# Filtrar pares\n",
    "pares = []\n",
    "for n in numeros:\n",
    "    if (lambda x: x % 2 == 0)(n):   # usamos lambda directamente en la condición\n",
    "        pares.append(n)\n",
    "\n",
    "print(\"Números pares (versión manual con lambda):\", pares)\n",
    "\n",
    "\n",
    "# Obtener cuadrados \n",
    "cuadrados = []\n",
    "for n in numeros:\n",
    "    cuadrados.append((lambda x: x**2)(n))   # aplicamos lambda a cada número\n",
    "\n",
    "print(\"Cuadrados de cada número (versión manual con lambda):\", cuadrados)\n",
    "\n",
    "\n",
    "# Sumar todos los elementos \n",
    "suma_total = 0\n",
    "for n in numeros:\n",
    "    suma_total = (lambda a, b: a + b)(suma_total, n)  # acumulamos con lambda\n",
    "\n",
    "print(\"Suma total de los elementos (versión manual con lambda):\", suma_total)\n",
    "\n",
    "\n",
    "\n",
    "\n"
   ]
  },
  {
   "cell_type": "code",
   "execution_count": null,
   "id": "1ef0b1fb-ee40-461e-b96d-75251baef042",
   "metadata": {},
   "outputs": [],
   "source": []
  }
 ],
 "metadata": {
  "kernelspec": {
   "display_name": "Python 3 (ipykernel)",
   "language": "python",
   "name": "python3"
  },
  "language_info": {
   "codemirror_mode": {
    "name": "ipython",
    "version": 3
   },
   "file_extension": ".py",
   "mimetype": "text/x-python",
   "name": "python",
   "nbconvert_exporter": "python",
   "pygments_lexer": "ipython3",
   "version": "3.13.7"
  }
 },
 "nbformat": 4,
 "nbformat_minor": 5
}
