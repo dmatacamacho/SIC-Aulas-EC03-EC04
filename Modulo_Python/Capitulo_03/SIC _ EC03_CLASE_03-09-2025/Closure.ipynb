{
 "cells": [
  {
   "cell_type": "code",
   "execution_count": 24,
   "id": "e2988f1d-5161-4c6d-89b1-a41180b47548",
   "metadata": {},
   "outputs": [
    {
     "name": "stdout",
     "output_type": "stream",
     "text": [
      "Dentro de interno: Soy local\n",
      "Dentro de ambito: Soy enclosing\n",
      "En el módulo global: Soy global \n",
      "\n"
     ]
    }
   ],
   "source": [
    "\n",
    "# Python organiza los ámbitos de búsqueda de variables según el principio LEGB:\n",
    "# L -> Local (dentro de la función actual)\n",
    "# E -> Enclosing (funciones que envuelven a otra función)\n",
    "# G -> Global (variables definidas en el archivo actual)\n",
    "# B -> Built-in (funciones/objetos ya definidos en Python: print, len, etc.)\n",
    "# ------------------------------------------------x = \"Soy global\"  # Variable en el ámbito GLOBAL\n",
    "x = \"Soy global\"\n",
    "def ambito():\n",
    "    x = \"Soy enclosing\"  # Variable en el ámbito ENclosing\n",
    "    def interno():\n",
    "        x = \"Soy local\"  # Variable en el ámbito LOCAL\n",
    "        print(\"Dentro de interno:\", x)  # Se imprime \"Soy local\"\n",
    "    interno()\n",
    "    print(\"Dentro de ambito:\", x)  # Se imprime \"Soy enclosing\"\n",
    "\n",
    "ambito()\n",
    "print(\"En el módulo global:\", x, \"\\n\")  # Se imprime \"Soy global\"\n"
   ]
  },
  {
   "cell_type": "code",
   "execution_count": 25,
   "id": "18705b84-68ec-4d34-9d66-9229058427c0",
   "metadata": {},
   "outputs": [
    {
     "name": "stdout",
     "output_type": "stream",
     "text": [
      "Contador c1: 1 2 3\n",
      "Contador c2: 1 2 \n",
      "\n"
     ]
    }
   ],
   "source": [
    "\n",
    "#  FUNCIÓN ANIDADA y uso de 'nonlocal'\n",
    "\n",
    "def contador():\n",
    "    cuenta = 0  # Variable definida en función \"enclosing\"\n",
    "    \n",
    "    def incrementar():\n",
    "        nonlocal cuenta  # Permite modificar \"cuenta\" del ámbito externo\n",
    "        cuenta += 1\n",
    "        return cuenta\n",
    "    \n",
    "    return incrementar  # Se devuelve la función anidada como objeto\n",
    "\n",
    "# Cada contador mantiene su propio estado\n",
    "c1 = contador()\n",
    "c2 = contador()\n",
    "print(\"Contador c1:\", c1(), c1(), c1())  \n",
    "print(\"Contador c2:\", c2(), c2(), \"\\n\")  \n",
    "\n"
   ]
  },
  {
   "cell_type": "code",
   "execution_count": 13,
   "id": "f82ee3f6-a40c-4615-8e06-feef9dd78248",
   "metadata": {},
   "outputs": [
    {
     "name": "stdout",
     "output_type": "stream",
     "text": [
      "Contador global: 1 2 \n",
      "\n"
     ]
    }
   ],
   "source": [
    "# USO DE 'global'\n",
    "\n",
    "contador_global = 0  # Variable GLOBAL\n",
    "\n",
    "def incrementar_global():\n",
    "    global contador_global  # Se especifica que vamos a usar la global\n",
    "    contador_global += 1\n",
    "    return contador_global\n",
    "\n",
    "print(\"Contador global:\", incrementar_global(), incrementar_global(), \"\\n\")\n"
   ]
  },
  {
   "cell_type": "code",
   "execution_count": 14,
   "id": "df40d8c3-7cfe-493b-a52a-0cc1167e2e04",
   "metadata": {},
   "outputs": [
    {
     "name": "stdout",
     "output_type": "stream",
     "text": [
      "5 * 2 = 10\n",
      "5 * 3 = 15 \n",
      "\n"
     ]
    }
   ],
   "source": [
    "\n",
    "#  CLOSURE\n",
    "\n",
    "def crear_recordatorio(texto):\n",
    "    # Función externa: recibe el mensaje que queremos recordar\n",
    "    def recordarme(nombre):\n",
    "        # Función interna: recibe el nombre de la persona\n",
    "        return f\"{nombre}, recuerda: {texto}\"\n",
    "    return recordarme  # devolvemos la función interna (closure)\n",
    "\n",
    "\n",
    "# Creamos dos recordatorios distintos\n",
    "recordar_estudio = crear_recordatorio(\"estudiar matemáticas\")\n",
    "recordar_agua = crear_recordatorio(\"beber agua\")\n",
    "\n",
    "# Usamos los closures\n",
    "print(recordar_estudio(\"Maeva\"))  # Maeva, recuerda: estudiar matemáticas\n",
    "print(recordar_agua(\"Juan\"))      # Juan, recuerda: beber agua\n"
   ]
  },
  {
   "cell_type": "code",
   "execution_count": 15,
   "id": "582fd929-2e02-4390-8d47-0b722fa04cd2",
   "metadata": {},
   "outputs": [
    {
     "name": "stdout",
     "output_type": "stream",
     "text": [
      "f1(2) = 11\n",
      "f1(10) = 35 \n",
      "\n"
     ]
    }
   ],
   "source": [
    "#  CLOSURE CON LAMBDA\n",
    "\n",
    "def affine(a, b):\n",
    "    # Devuelve una función de la forma f(x) = a*x + b\n",
    "    return lambda x: a*x + b\n",
    "\n",
    "f1 = affine(3, 5)   # f(x) = 3x + 5\n",
    "print(\"f1(2) =\", f1(2))    # 11\n",
    "print(\"f1(10) =\", f1(10), \"\\n\")  # 35"
   ]
  },
  {
   "cell_type": "code",
   "execution_count": 16,
   "id": "61220308-6952-4c4d-95ac-bc20f294b442",
   "metadata": {},
   "outputs": [
    {
     "name": "stdout",
     "output_type": "stream",
     "text": [
      "Acumulando: 5 15 12 \n",
      "\n"
     ]
    }
   ],
   "source": [
    "# MODIFICAR UNA VARIABLE LOCAL EN UN CLOSURE\n",
    "\n",
    "def acumulador():\n",
    "    total = 0\n",
    "    def agregar(valor):\n",
    "        nonlocal total\n",
    "        total += valor\n",
    "        return total\n",
    "    return agregar\n",
    "\n",
    "acum = acumulador()\n",
    "print(\"Acumulando:\", acum(5), acum(10), acum(-3), \"\\n\")  # 5, 15, 12\n",
    "\n"
   ]
  },
  {
   "cell_type": "code",
   "execution_count": 26,
   "id": "7b18b6ad-e3e7-426e-af35-63be7e96eb60",
   "metadata": {},
   "outputs": [],
   "source": [
    "\n",
    "#  APLICACIÓN PRÁCTICA CON TURTLE\n",
    "\n",
    "# Para hacerlo visual, usamos el módulo \"turtle\".\n",
    "\n",
    "import turtle\n",
    "\n",
    "def espiral():\n",
    "    pasos = 10\n",
    "    def dibujar():\n",
    "        nonlocal pasos\n",
    "        for i in range(30):\n",
    "            turtle.forward(pasos)\n",
    "            turtle.left(30)\n",
    "            pasos += 2  # \"pasos\" se conserva entre llamadas\n",
    "    return dibujar\n",
    "\n",
    "# Usamos el closure para crear un dibujo dinámico\n",
    "dibujo = espiral()\n",
    "turtle.speed(0)  # velocidad máxima\n",
    "dibujo()\n",
    "turtle.done()"
   ]
  },
  {
   "cell_type": "code",
   "execution_count": null,
   "id": "5d392ab0-bdc8-4dcc-b0e7-1d0b99190222",
   "metadata": {},
   "outputs": [],
   "source": []
  }
 ],
 "metadata": {
  "kernelspec": {
   "display_name": "Python 3 (ipykernel)",
   "language": "python",
   "name": "python3"
  },
  "language_info": {
   "codemirror_mode": {
    "name": "ipython",
    "version": 3
   },
   "file_extension": ".py",
   "mimetype": "text/x-python",
   "name": "python",
   "nbconvert_exporter": "python",
   "pygments_lexer": "ipython3",
   "version": "3.13.7"
  }
 },
 "nbformat": 4,
 "nbformat_minor": 5
}
