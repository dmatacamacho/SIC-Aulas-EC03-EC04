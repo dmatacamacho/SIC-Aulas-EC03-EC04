{
 "cells": [
  {
   "cell_type": "code",
   "execution_count": 3,
   "id": "69a1770b-ba58-459d-b4fe-32793a956fa5",
   "metadata": {},
   "outputs": [
    {
     "name": "stdout",
     "output_type": "stream",
     "text": [
      "=== RECURSIVIDAD ===\n"
     ]
    },
    {
     "name": "stdin",
     "output_type": "stream",
     "text": [
      "Ingrese un número para factorial y Fibonacci:  -1\n"
     ]
    },
    {
     "name": "stdout",
     "output_type": "stream",
     "text": [
      "Factorial de -1 = 1\n",
      "-1-ésimo número de Fibonacci = 1\n"
     ]
    }
   ],
   "source": [
    "# EJEMPLO DE FUNCIONES RECURSIVAS\n",
    "\n",
    "\n",
    "# 1. Factorial recursivo\n",
    "def factorial(n):\n",
    "    \"\"\" Calcula el factorial de n de manera recursiva \"\"\"\n",
    "    # Caso base: si n es 0 o 1, el factorial siempre es 1\n",
    "    if n <= 1:\n",
    "        return 1\n",
    "    else:\n",
    "        # Caso recursivo: n! = n * (n-1)!\n",
    "        # La función se llama a sí misma con n-1\n",
    "        return n * factorial(n-1)\n",
    "\n",
    "# 2. Fibonacci recursivo con memoización\n",
    "memo = {}   # Diccionario para guardar resultados ya calculados\n",
    "\n",
    "def fibonacci(n):\n",
    "    \"\"\" Secuencia de Fibonacci optimizada con memoización \"\"\"\n",
    "    # Si ya calculamos fibonacci(n) antes, lo devolvemos directamente\n",
    "    if n in memo:\n",
    "        return memo[n]\n",
    "    \n",
    "    # Casos base: los dos primeros números de Fibonacci son 1\n",
    "    if n <= 2:\n",
    "        memo[n] = 1\n",
    "    else:\n",
    "        # Caso recursivo: F(n) = F(n-1) + F(n-2)\n",
    "        memo[n] = fibonacci(n-1) + fibonacci(n-2)\n",
    "    \n",
    "    return memo[n]\n",
    "\n",
    "print(\"=== RECURSIVIDAD ===\")\n",
    "n = int(input(\"Ingrese un número para factorial y Fibonacci: \"))\n",
    "\n",
    "# Llamamos a las funciones recursivas\n",
    "print(f\"Factorial de {n} = {factorial(n)}\")\n",
    "print(f\"{n}-ésimo número de Fibonacci = {fibonacci(n)}\")\n",
    "\n"
   ]
  },
  {
   "cell_type": "code",
   "execution_count": null,
   "id": "021648ee-b82d-4863-82b0-36a7321f03a8",
   "metadata": {},
   "outputs": [],
   "source": []
  }
 ],
 "metadata": {
  "kernelspec": {
   "display_name": "Python 3 (ipykernel)",
   "language": "python",
   "name": "python3"
  },
  "language_info": {
   "codemirror_mode": {
    "name": "ipython",
    "version": 3
   },
   "file_extension": ".py",
   "mimetype": "text/x-python",
   "name": "python",
   "nbconvert_exporter": "python",
   "pygments_lexer": "ipython3",
   "version": "3.13.7"
  }
 },
 "nbformat": 4,
 "nbformat_minor": 5
}
