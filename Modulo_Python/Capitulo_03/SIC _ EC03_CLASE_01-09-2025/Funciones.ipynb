{
 "cells": [
  {
   "cell_type": "code",
   "execution_count": 3,
   "id": "1c4f844c-fa8b-4b85-b12c-b228dd15ea39",
   "metadata": {},
   "outputs": [
    {
     "name": "stdout",
     "output_type": "stream",
     "text": [
      "El argumento que se le pasó a la función es: 10\n",
      "Resultado de suma: 8\n",
      "Potencia con dos argumentos: 8\n",
      "Potencia con un argumento: 25\n",
      "Suma de varios números: 15\n",
      "nombre : Maeva\n",
      "carrera : Ingeniería\n",
      "edad : 21\n",
      "Área del círculo: 78.54, Perímetro: 31.42\n",
      "Valor de PI leído desde dentro de la función: 3.1416\n"
     ]
    }
   ],
   "source": [
    "\n",
    "# 1) Sintaxis básica de una función\n",
    "def ejemplo_basico(valor):\n",
    "    print(f\"El argumento que se le pasó a la función es: {valor}\")\n",
    "\n",
    "# Ejemplo de uso\n",
    "ejemplo_basico(10)\n",
    "\n",
    "\n",
    "# 2) Funciones con argumentos obligatorios\n",
    "def suma(a, b):\n",
    "    resultado = a + b  # Usamos una variable intermedia\n",
    "    return resultado\n",
    "\n",
    "# Ejemplo de uso\n",
    "print(\"Resultado de suma:\", suma(5, 3))\n",
    "\n",
    "\n",
    "# 3) Función con argumentos por defecto\n",
    "def potencia(base, exponente=2):\n",
    "    \"\"\" Si no se pasa el exponente, calcula el cuadrado \"\"\"\n",
    "    return base ** exponente\n",
    "\n",
    "# Ejemplo de uso\n",
    "print(\"Potencia con dos argumentos:\", potencia(2, 3))\n",
    "print(\"Potencia con un argumento:\", potencia(5))  # Usa el valor por defecto exponente=2\n",
    "\n",
    "\n",
    "# 4) Función con argumentos arbitrarios (*args)\n",
    "def sumar_varios(*numeros):\n",
    "    \"\"\" Recibe cualquier cantidad de argumentos y los suma manualmente \"\"\"\n",
    "    total = 0\n",
    "    for n in numeros:\n",
    "        total += n\n",
    "    return total\n",
    "\n",
    "# Ejemplo de uso\n",
    "print(\"Suma de varios números:\", sumar_varios(1, 2, 3, 4, 5))\n",
    "\n",
    "\n",
    "# 5) Función con parámetros por palabra clave (**kwargs)\n",
    "def mostrar_informacion(**datos):\n",
    "    \"\"\" Recibe argumentos como pares clave=valor \"\"\"\n",
    "    for clave, valor in datos.items():\n",
    "        print(f\"{clave} : {valor}\")\n",
    "\n",
    "# Ejemplo de uso\n",
    "mostrar_informacion(nombre=\"Maeva\", carrera=\"Ingeniería\", edad=21)\n",
    "\n",
    "\n",
    "# 6) Función con retorno múltiple\n",
    "def circulo(radio):\n",
    "    \"\"\" Devuelve el área y el perímetro de un círculo \"\"\"\n",
    "    area = 3.1416 * radio ** 2\n",
    "    perimetro = 2 * 3.1416 * radio\n",
    "    return area, perimetro   # Retorno múltiple como tupla\n",
    "\n",
    "# Ejemplo de uso\n",
    "area, perimetro = circulo(5)\n",
    "print(f\"Área del círculo: {area:.2f}, Perímetro: {perimetro:.2f}\")\n",
    "\n",
    "\n",
    "# 7) Variables globales vs locales\n",
    "PI = 3.1416  # Variable global\n",
    "\n",
    "def usar_global():\n",
    "    # Esta función puede leer PI directamente\n",
    "    return f\"Valor de PI leído desde dentro de la función: {PI}\"\n",
    "\n",
    "# Ejemplo de uso\n",
    "print(usar_global())\n",
    "\n",
    "# 8) Argumentos posicionales y nombrados\n",
    "def ejemplo_argumentos(a, b, c):\n",
    "    print(f\"a = {a}, b = {b}, c = {c}\")\n",
    "\n",
    "# Ejemplo de uso\n",
    "print(\"\\n=== Ejemplo de argumentos ===\")\n",
    "\n",
    "# ✅ Llamada por posición (debe ir en orden)\n",
    "ejemplo_argumentos(1, 2, 3)\n",
    "\n",
    "# ✅ Llamada por nombre (se pueden desordenar)\n",
    "ejemplo_argumentos(c=3, b=2, a=1)\n",
    "\n",
    "# ✅ Mezcla: primero posicionales, luego nombrados\n",
    "ejemplo_argumentos(10, c=30, b=20)\n",
    "\n",
    "\n"
   ]
  },
  {
   "cell_type": "code",
   "execution_count": 5,
   "id": "c9907ae5-9988-43c0-9871-383ff1687dcf",
   "metadata": {},
   "outputs": [
    {
     "name": "stdout",
     "output_type": "stream",
     "text": [
      "=== EJEMPLOS DE FUNCIONES ===\n",
      "El argumento que se le pasó a la función es: 10\n",
      "Suma (argumentos posicionales): 8\n",
      "Suma (argumentos por palabra clave): 8\n",
      "Potencia con 2 argumentos: 8\n",
      "Potencia con 1 argumento (usa exponente=2 por defecto): 25\n",
      "Suma de varios números: 15\n",
      "nombre : Maeva\n",
      "carrera : Ingeniería\n",
      "edad : 21\n",
      "Área: 78.54, Perímetro: 31.42\n",
      "Valor de PI leído desde dentro de la función: 3.1416\n"
     ]
    }
   ],
   "source": []
  },
  {
   "cell_type": "code",
   "execution_count": 6,
   "id": "5aa339bf-c715-46eb-8ab9-54b65c40c922",
   "metadata": {},
   "outputs": [
    {
     "name": "stdout",
     "output_type": "stream",
     "text": [
      "\n",
      "=== CALCULADORA DE FUNCIONES ===\n",
      "1. Suma (argumentos obligatorios)\n",
      "2. Potencia (argumento con valor por defecto)\n",
      "3. Sumar varios números (*args)\n",
      "4. Mostrar información (**kwargs)\n",
      "5. Área y perímetro de un círculo (retorno múltiple)\n",
      "6. Usar variable global\n",
      "0. Salir\n"
     ]
    },
    {
     "name": "stdin",
     "output_type": "stream",
     "text": [
      "Seleccione una opción:  1\n",
      "Ingrese el primer número:  23\n",
      "Ingrese el segundo número:  2\n"
     ]
    },
    {
     "name": "stdout",
     "output_type": "stream",
     "text": [
      "Resultado de la suma: 25.0\n",
      "\n",
      "=== CALCULADORA DE FUNCIONES ===\n",
      "1. Suma (argumentos obligatorios)\n",
      "2. Potencia (argumento con valor por defecto)\n",
      "3. Sumar varios números (*args)\n",
      "4. Mostrar información (**kwargs)\n",
      "5. Área y perímetro de un círculo (retorno múltiple)\n",
      "6. Usar variable global\n",
      "0. Salir\n"
     ]
    },
    {
     "name": "stdin",
     "output_type": "stream",
     "text": [
      "Seleccione una opción:  3\n",
      "Ingrese números separados por espacio:  1 4 5\n"
     ]
    },
    {
     "name": "stdout",
     "output_type": "stream",
     "text": [
      "Resultado de la suma: 10.0\n",
      "\n",
      "=== CALCULADORA DE FUNCIONES ===\n",
      "1. Suma (argumentos obligatorios)\n",
      "2. Potencia (argumento con valor por defecto)\n",
      "3. Sumar varios números (*args)\n",
      "4. Mostrar información (**kwargs)\n",
      "5. Área y perímetro de un círculo (retorno múltiple)\n",
      "6. Usar variable global\n",
      "0. Salir\n"
     ]
    },
    {
     "name": "stdin",
     "output_type": "stream",
     "text": [
      "Seleccione una opción:  2\n",
      "Ingrese la base:  3\n",
      "Ingrese el exponente (ENTER para usar el valor por defecto=2):  \n"
     ]
    },
    {
     "name": "stdout",
     "output_type": "stream",
     "text": [
      "Resultado: 9.0\n",
      "\n",
      "=== CALCULADORA DE FUNCIONES ===\n",
      "1. Suma (argumentos obligatorios)\n",
      "2. Potencia (argumento con valor por defecto)\n",
      "3. Sumar varios números (*args)\n",
      "4. Mostrar información (**kwargs)\n",
      "5. Área y perímetro de un círculo (retorno múltiple)\n",
      "6. Usar variable global\n",
      "0. Salir\n"
     ]
    },
    {
     "name": "stdin",
     "output_type": "stream",
     "text": [
      "Seleccione una opción:  2\n",
      "Ingrese la base:  3\n",
      "Ingrese el exponente (ENTER para usar el valor por defecto=2):  3\n"
     ]
    },
    {
     "name": "stdout",
     "output_type": "stream",
     "text": [
      "Resultado: 27.0\n",
      "\n",
      "=== CALCULADORA DE FUNCIONES ===\n",
      "1. Suma (argumentos obligatorios)\n",
      "2. Potencia (argumento con valor por defecto)\n",
      "3. Sumar varios números (*args)\n",
      "4. Mostrar información (**kwargs)\n",
      "5. Área y perímetro de un círculo (retorno múltiple)\n",
      "6. Usar variable global\n",
      "0. Salir\n"
     ]
    },
    {
     "name": "stdin",
     "output_type": "stream",
     "text": [
      "Seleccione una opción:  4\n"
     ]
    },
    {
     "name": "stdout",
     "output_type": "stream",
     "text": [
      "Ingrese información en formato clave=valor (ejemplo: nombre=Maeva edad=21)\n"
     ]
    },
    {
     "name": "stdin",
     "output_type": "stream",
     "text": [
      ">>>  nombre=Mario Edad=26 carrera=ing\n"
     ]
    },
    {
     "name": "stdout",
     "output_type": "stream",
     "text": [
      "nombre : Mario\n",
      "Edad : 26\n",
      "carrera : ing\n",
      "\n",
      "=== CALCULADORA DE FUNCIONES ===\n",
      "1. Suma (argumentos obligatorios)\n",
      "2. Potencia (argumento con valor por defecto)\n",
      "3. Sumar varios números (*args)\n",
      "4. Mostrar información (**kwargs)\n",
      "5. Área y perímetro de un círculo (retorno múltiple)\n",
      "6. Usar variable global\n",
      "0. Salir\n"
     ]
    },
    {
     "name": "stdin",
     "output_type": "stream",
     "text": [
      "Seleccione una opción:  5\n",
      "Ingrese el radio del círculo:  4\n"
     ]
    },
    {
     "name": "stdout",
     "output_type": "stream",
     "text": [
      "Área: 50.27, Perímetro: 25.13\n",
      "\n",
      "=== CALCULADORA DE FUNCIONES ===\n",
      "1. Suma (argumentos obligatorios)\n",
      "2. Potencia (argumento con valor por defecto)\n",
      "3. Sumar varios números (*args)\n",
      "4. Mostrar información (**kwargs)\n",
      "5. Área y perímetro de un círculo (retorno múltiple)\n",
      "6. Usar variable global\n",
      "0. Salir\n"
     ]
    },
    {
     "name": "stdin",
     "output_type": "stream",
     "text": [
      "Seleccione una opción:  6\n"
     ]
    },
    {
     "name": "stdout",
     "output_type": "stream",
     "text": [
      "Valor de PI leído desde dentro de la función: 3.1416\n",
      "\n",
      "=== CALCULADORA DE FUNCIONES ===\n",
      "1. Suma (argumentos obligatorios)\n",
      "2. Potencia (argumento con valor por defecto)\n",
      "3. Sumar varios números (*args)\n",
      "4. Mostrar información (**kwargs)\n",
      "5. Área y perímetro de un círculo (retorno múltiple)\n",
      "6. Usar variable global\n",
      "0. Salir\n"
     ]
    },
    {
     "name": "stdin",
     "output_type": "stream",
     "text": [
      "Seleccione una opción:  0\n"
     ]
    },
    {
     "name": "stdout",
     "output_type": "stream",
     "text": [
      "Saliendo de la calculadora... ¡Adiós!\n"
     ]
    }
   ],
   "source": [
    "\n",
    "# PROGRAMA PRINCIPAL: MENÚ\n",
    "\n",
    "def menu():\n",
    "    while True:\n",
    "        print(\"\\n=== CALCULADORA DE FUNCIONES ===\")\n",
    "        print(\"1. Suma (argumentos obligatorios)\")\n",
    "        print(\"2. Potencia (argumento con valor por defecto)\")\n",
    "        print(\"3. Sumar varios números (*args)\")\n",
    "        print(\"4. Mostrar información (**kwargs)\")\n",
    "        print(\"5. Área y perímetro de un círculo (retorno múltiple)\")\n",
    "        print(\"0. Salir\")\n",
    "\n",
    "        opcion = input(\"Seleccione una opción: \")\n",
    "\n",
    "        if opcion == \"1\":\n",
    "            a = float(input(\"Ingrese el primer número: \"))\n",
    "            b = float(input(\"Ingrese el segundo número: \"))\n",
    "            print(\"Resultado de la suma:\", suma(a, b))\n",
    "\n",
    "        elif opcion == \"2\":\n",
    "            base = float(input(\"Ingrese la base: \"))\n",
    "            exp = input(\"Ingrese el exponente (ENTER para usar el valor por defecto=2): \")\n",
    "            if exp == \"\":\n",
    "                print(\"Resultado:\", potencia(base))\n",
    "            else:\n",
    "                print(\"Resultado:\", potencia(base, int(exp)))\n",
    "\n",
    "        elif opcion == \"3\":\n",
    "            numeros = input(\"Ingrese números separados por espacio: \")\n",
    "            lista = [float(n) for n in numeros.split()]\n",
    "            print(\"Resultado de la suma:\", sumar_varios(*lista))\n",
    "\n",
    "        elif opcion == \"4\":\n",
    "            print(\"Ingrese información en formato clave=valor (ejemplo: nombre=Maeva edad=21)\")\n",
    "            datos = input(\">>> \")\n",
    "            pares = datos.split()\n",
    "            kwargs = {}\n",
    "            for par in pares:\n",
    "                clave, valor = par.split(\"=\")\n",
    "                kwargs[clave] = valor\n",
    "            mostrar_informacion(**kwargs)\n",
    "\n",
    "        elif opcion == \"5\":\n",
    "            r = float(input(\"Ingrese el radio del círculo: \"))\n",
    "            area, perimetro = circulo(r)\n",
    "            print(f\"Área: {area:.2f}, Perímetro: {perimetro:.2f}\")\n",
    "\n",
    "\n",
    "        elif opcion == \"0\":\n",
    "            print(\"Saliendo de la calculadora... ¡Adiós!\")\n",
    "            break\n",
    "\n",
    "        else:\n",
    "            print(\"Opción no válida, intente de nuevo.\")\n",
    "\n",
    "\n",
    "# Llamar al menú principal\n",
    "menu()\n"
   ]
  },
  {
   "cell_type": "code",
   "execution_count": null,
   "id": "3214c2fe-3acf-4f80-a8e1-98aa9c2ec6d3",
   "metadata": {},
   "outputs": [],
   "source": []
  }
 ],
 "metadata": {
  "kernelspec": {
   "display_name": "Python 3 (ipykernel)",
   "language": "python",
   "name": "python3"
  },
  "language_info": {
   "codemirror_mode": {
    "name": "ipython",
    "version": 3
   },
   "file_extension": ".py",
   "mimetype": "text/x-python",
   "name": "python",
   "nbconvert_exporter": "python",
   "pygments_lexer": "ipython3",
   "version": "3.13.7"
  }
 },
 "nbformat": 4,
 "nbformat_minor": 5
}
