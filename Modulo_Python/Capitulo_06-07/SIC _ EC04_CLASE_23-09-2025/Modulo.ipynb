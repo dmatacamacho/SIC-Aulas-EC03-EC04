{
 "cells": [
  {
   "cell_type": "code",
   "execution_count": null,
   "id": "19f3c7c9",
   "metadata": {},
   "outputs": [],
   "source": [
    "#  EXPLICACIÓN: DIFERENCIAS ENTRE IMPORT Y FROM\n",
    "\n",
    "# FORMA 1: import modulo\n",
    "import math\n",
    "import random\n",
    "\n",
    "# FORMA 2: from modulo import objeto\n",
    "from datetime import datetime\n",
    "\n",
    "# FORMA 3: import modulo as alias\n",
    "import math as m\n",
    "\n",
    "# EJEMPLOS PRÁCTICOS DE USO\n",
    "\n",
    "# Ejemplo con FORMA 1 (import modulo):\n",
    "# Necesitas usar math.funcion()\n",
    "area_circulo = math.pi * (5 ** 2)  \n",
    "raiz_cuadrada = math.sqrt(25)      \n",
    "\n",
    "# Ejemplo con FORMA 2 (from modulo import objeto):\n",
    "# Puedes usar datetime directamente\n",
    "fecha_actual = datetime.now()     \n",
    "\n",
    "# Ejemplo con FORMA 3 (import modulo as alias):\n",
    "# Usas el alias en lugar del nombre completo\n",
    "coseno = m.cos(m.radians(60))     \n",
    "\n",
    "\n",
    "# VENTAJAS Y DESVENTAJAS DE CADA FORMA\n",
    "\n",
    "# VENTAJA de \"import modulo\":\n",
    "# - Evita conflictos de nombres (sabes de dónde viene cada función)\n",
    "# - Código más legible y explícito\n",
    "\n",
    "# VENTAJA de \"from modulo import objeto\":\n",
    "# - Código más corto y limpio\n",
    "# - No necesitas escribir el prefijo cada vez\n",
    "\n",
    "# DESVENTAJA de \"from modulo import objeto\":\n",
    "# - Puede haber conflictos si importas funciones con el mismo nombre de diferentes módulos\n",
    "\n",
    "# Ejemplo de conflicto potencial:\n",
    "from math import log\n",
    "from numpy import log  # Esto sobreescribiría la función log anterior\n",
    "\n"
   ]
  }
 ],
 "metadata": {
  "kernelspec": {
   "display_name": "Python 3",
   "language": "python",
   "name": "python3"
  },
  "language_info": {
   "codemirror_mode": {
    "name": "ipython",
    "version": 3
   },
   "file_extension": ".py",
   "mimetype": "text/x-python",
   "name": "python",
   "nbconvert_exporter": "python",
   "pygments_lexer": "ipython3",
   "version": "3.13.7"
  }
 },
 "nbformat": 4,
 "nbformat_minor": 5
}
