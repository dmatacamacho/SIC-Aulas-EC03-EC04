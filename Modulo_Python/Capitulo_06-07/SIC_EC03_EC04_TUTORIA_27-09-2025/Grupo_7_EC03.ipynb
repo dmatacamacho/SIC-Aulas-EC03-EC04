{
  "nbformat": 4,
  "nbformat_minor": 0,
  "metadata": {
    "colab": {
      "provenance": []
    },
    "kernelspec": {
      "name": "python3",
      "display_name": "Python 3"
    },
    "language_info": {
      "name": "python"
    }
  },
  "cells": [
    {
      "cell_type": "markdown",
      "source": [
        "# Ejercicio: Análisis de horas de uso de redes sociales\n",
        "\n",
        "Un grupo de estudiantes registró durante 30 días la **cantidad de horas que pasaron usando redes sociales**.\n",
        "Los datos están representados en una **Serie de Pandas**, donde cada índice corresponde al día (`Día 1`, `Día 2`, ..., `Día 30`).\n",
        "\n",
        "Su tarea será **analizar esta Serie** aplicando operaciones estadísticas y visualizaciones para entender mejor los hábitos de uso.\n",
        "\n",
        "---\n",
        "\n",
        "## Instrucciones\n",
        "\n",
        "1. **Crear la Serie**\n",
        "\n",
        "   * Genera una lista de 30 valores (pueden ser aleatorios o inventados entre 0 y 10 horas).\n",
        "   * Convierte la lista en una Serie de Pandas.\n",
        "   * Usa como índice `Día 1`, `Día 2`, ..., `Día 30`.\n",
        "\n",
        "2. **Exploración de la Serie**\n",
        "\n",
        "   * Muestra los primeros y últimos 5 valores.\n",
        "   * Consulta el valor de un día específico (por ejemplo, `\"Día 7\"`).\n",
        "   * Verifica la longitud, el tipo de datos y si existen valores faltantes.\n",
        "\n",
        "3. **Estadísticas básicas**\n",
        "\n",
        "   * Calcula: promedio, mediana, mínimo, máximo, varianza y desviación estándar.\n",
        "   * Identifica los días con mayor y menor uso de redes sociales.\n",
        "\n",
        "4. **Filtrado y condiciones**\n",
        "\n",
        "   * Filtra los días donde se usaron **más de 6 horas**.\n",
        "   * Cuenta cuántos días el uso fue **menor a 2 horas**.\n",
        "\n",
        "\n",
        "5. **Visualizaciones**\n",
        "\n",
        "   * Realiza al menos **2 gráficos diferentes** para representar la información.\n",
        "   * Puedes elegir entre:\n",
        "\n",
        "     * Gráfico de línea para ver la evolución diaria.\n",
        "     * Histograma para la distribución de horas.\n",
        "     * Gráfico de barras para comparar ciertos días.\n",
        "   * ¡Se creativo! Elige los gráficos que mejor expliquen los resultados.\n"
      ],
      "metadata": {
        "id": "36B86qQ2S9c2"
      }
    },
    {
      "cell_type": "markdown",
      "source": [
        "# 1. Crear la Serie"
      ],
      "metadata": {
        "id": "extDmRlLk3vK"
      }
    },
    {
      "cell_type": "code",
      "source": [
        "import random\n",
        "import pandas as pd\n",
        "import matplotlib.pyplot as plt"
      ],
      "metadata": {
        "id": "mN0brVJwhSTc"
      },
      "execution_count": null,
      "outputs": []
    },
    {
      "cell_type": "code",
      "source": [
        "#Creacion de lista de 30 dias con horas entre 0 y 10\n",
        "\n",
        "lista = [random.randint(0, 10) for i in range (30)]\n",
        "serie = pd.Series(lista, index=[f\"Día {i+1}\" for i in range (30)])"
      ],
      "metadata": {
        "collapsed": true,
        "id": "sV8mP1m6hU0o"
      },
      "execution_count": null,
      "outputs": []
    },
    {
      "cell_type": "markdown",
      "source": [
        "# 2. Exploración de la Serie"
      ],
      "metadata": {
        "id": "SIRf4guJk9vt"
      }
    },
    {
      "cell_type": "markdown",
      "source": [
        "### Primeros y últimos 5 valores"
      ],
      "metadata": {
        "id": "1tNXNUT8lJRw"
      }
    },
    {
      "cell_type": "markdown",
      "source": [
        "Primeros 5 valores:"
      ],
      "metadata": {
        "id": "yoEKvcvEt7Ck"
      }
    },
    {
      "cell_type": "code",
      "source": [
        "primeros_cinco = serie.head(5)\n",
        "print(\"Primeros cinco dias:\")\n",
        "print(primeros_cinco)"
      ],
      "metadata": {
        "colab": {
          "base_uri": "https://localhost:8080/"
        },
        "id": "5X56QKUCiodj",
        "outputId": "333aca55-f893-4088-9084-9dd09fe223b1"
      },
      "execution_count": null,
      "outputs": [
        {
          "output_type": "stream",
          "name": "stdout",
          "text": [
            "Primeros cinco dias:\n",
            "Día 1    4\n",
            "Día 2    7\n",
            "Día 3    0\n",
            "Día 4    8\n",
            "Día 5    5\n",
            "dtype: int64\n"
          ]
        }
      ]
    },
    {
      "cell_type": "code",
      "source": [
        "ultimos_cinco = serie.tail(5)\n",
        "print(\"Ultimos cinco dias:\")\n",
        "print(ultimos_cinco)"
      ],
      "metadata": {
        "colab": {
          "base_uri": "https://localhost:8080/"
        },
        "id": "yKNQu15sisn1",
        "outputId": "cedd6a25-771c-43fa-8379-3227dcd3f92c"
      },
      "execution_count": null,
      "outputs": [
        {
          "output_type": "stream",
          "name": "stdout",
          "text": [
            "Ultimos cinco dias:\n",
            "Día 26    7\n",
            "Día 27    4\n",
            "Día 28    7\n",
            "Día 29    6\n",
            "Día 30    3\n",
            "dtype: int64\n"
          ]
        }
      ]
    },
    {
      "cell_type": "markdown",
      "source": [
        "### Valor del día 7"
      ],
      "metadata": {
        "id": "DLWruMXblNlh"
      }
    },
    {
      "cell_type": "code",
      "source": [
        "valor_dia = serie[\"Día 7\"]\n",
        "print(valor_dia)"
      ],
      "metadata": {
        "colab": {
          "base_uri": "https://localhost:8080/"
        },
        "id": "jgCv005giz6Y",
        "outputId": "b0bc7267-f1ed-4434-ea89-c86b34284f0d"
      },
      "execution_count": null,
      "outputs": [
        {
          "output_type": "stream",
          "name": "stdout",
          "text": [
            "1\n"
          ]
        }
      ]
    },
    {
      "cell_type": "markdown",
      "source": [
        "### Longitud, tipo de dato y si existen valores faltantes"
      ],
      "metadata": {
        "id": "faQJS12SlXZe"
      }
    },
    {
      "cell_type": "code",
      "source": [
        "serie.info()"
      ],
      "metadata": {
        "colab": {
          "base_uri": "https://localhost:8080/"
        },
        "id": "6-N9dZK0i2bI",
        "outputId": "9c9a3730-37f4-47f3-f64f-00c28807fd7c"
      },
      "execution_count": null,
      "outputs": [
        {
          "output_type": "stream",
          "name": "stdout",
          "text": [
            "<class 'pandas.core.series.Series'>\n",
            "Index: 30 entries, Día 1 to Día 30\n",
            "Series name: None\n",
            "Non-Null Count  Dtype\n",
            "--------------  -----\n",
            "30 non-null     int64\n",
            "dtypes: int64(1)\n",
            "memory usage: 1.5+ KB\n"
          ]
        }
      ]
    },
    {
      "cell_type": "markdown",
      "source": [
        "# 3. Estadísticas Básicas"
      ],
      "metadata": {
        "id": "YkPcAlOslkql"
      }
    },
    {
      "cell_type": "markdown",
      "source": [
        "### Cálculo del promedio, mediana, mínimo, máximo, varianza y desviación estándar."
      ],
      "metadata": {
        "id": "-jhrzwgImA7_"
      }
    },
    {
      "cell_type": "code",
      "source": [
        "print(\"Promedio:\", serie.mean())\n",
        "print(\"Mediana:\", serie.median())\n",
        "print(\"Mínimo:\", serie.min())\n",
        "print(\"Máximo:\", serie.max())\n",
        "print(\"Varianza:\", serie.var())\n",
        "print(\"Desviación estándar:\", serie.std())"
      ],
      "metadata": {
        "colab": {
          "base_uri": "https://localhost:8080/"
        },
        "id": "CWyfwKB_mFPY",
        "outputId": "f60b7556-d3a9-48e7-f037-8b6373163f2d"
      },
      "execution_count": null,
      "outputs": [
        {
          "output_type": "stream",
          "name": "stdout",
          "text": [
            "Promedio: 4.9\n",
            "Mediana: 4.5\n",
            "Mínimo: 0\n",
            "Máximo: 10\n",
            "Varianza: 12.6448275862069\n",
            "Desviación estándar: 3.5559566344665816\n"
          ]
        }
      ]
    },
    {
      "cell_type": "code",
      "source": [
        "serie.describe()"
      ],
      "metadata": {
        "colab": {
          "base_uri": "https://localhost:8080/",
          "height": 335
        },
        "id": "HLfV0MMci-Nd",
        "outputId": "fade21b1-20c8-43f4-d6d8-01e8852c0579"
      },
      "execution_count": null,
      "outputs": [
        {
          "output_type": "execute_result",
          "data": {
            "text/plain": [
              "count    30.000000\n",
              "mean      4.900000\n",
              "std       3.555957\n",
              "min       0.000000\n",
              "25%       2.000000\n",
              "50%       4.500000\n",
              "75%       7.750000\n",
              "max      10.000000\n",
              "dtype: float64"
            ],
            "text/html": [
              "<div>\n",
              "<style scoped>\n",
              "    .dataframe tbody tr th:only-of-type {\n",
              "        vertical-align: middle;\n",
              "    }\n",
              "\n",
              "    .dataframe tbody tr th {\n",
              "        vertical-align: top;\n",
              "    }\n",
              "\n",
              "    .dataframe thead th {\n",
              "        text-align: right;\n",
              "    }\n",
              "</style>\n",
              "<table border=\"1\" class=\"dataframe\">\n",
              "  <thead>\n",
              "    <tr style=\"text-align: right;\">\n",
              "      <th></th>\n",
              "      <th>0</th>\n",
              "    </tr>\n",
              "  </thead>\n",
              "  <tbody>\n",
              "    <tr>\n",
              "      <th>count</th>\n",
              "      <td>30.000000</td>\n",
              "    </tr>\n",
              "    <tr>\n",
              "      <th>mean</th>\n",
              "      <td>4.900000</td>\n",
              "    </tr>\n",
              "    <tr>\n",
              "      <th>std</th>\n",
              "      <td>3.555957</td>\n",
              "    </tr>\n",
              "    <tr>\n",
              "      <th>min</th>\n",
              "      <td>0.000000</td>\n",
              "    </tr>\n",
              "    <tr>\n",
              "      <th>25%</th>\n",
              "      <td>2.000000</td>\n",
              "    </tr>\n",
              "    <tr>\n",
              "      <th>50%</th>\n",
              "      <td>4.500000</td>\n",
              "    </tr>\n",
              "    <tr>\n",
              "      <th>75%</th>\n",
              "      <td>7.750000</td>\n",
              "    </tr>\n",
              "    <tr>\n",
              "      <th>max</th>\n",
              "      <td>10.000000</td>\n",
              "    </tr>\n",
              "  </tbody>\n",
              "</table>\n",
              "</div><br><label><b>dtype:</b> float64</label>"
            ]
          },
          "metadata": {},
          "execution_count": 114
        }
      ]
    },
    {
      "cell_type": "markdown",
      "source": [
        "### Días con mayor y menor uso de redes sociales"
      ],
      "metadata": {
        "id": "KlsWK18XmeO3"
      }
    },
    {
      "cell_type": "code",
      "source": [
        "print(\"\\nDía de mayor uso:\", serie.idxmax(), \"con\", serie.max(), \"horas\")\n",
        "print(\"Día de menor uso:\", serie.idxmin(), \"con\", serie.min(), \"horas\")"
      ],
      "metadata": {
        "colab": {
          "base_uri": "https://localhost:8080/"
        },
        "id": "AiK51KUzmiVp",
        "outputId": "3ea2a585-c80a-4e92-e3ea-8c3948005faf"
      },
      "execution_count": null,
      "outputs": [
        {
          "output_type": "stream",
          "name": "stdout",
          "text": [
            "\n",
            "Día de mayor uso: Día 9 con 10 horas\n",
            "Día de menor uso: Día 3 con 0 horas\n"
          ]
        }
      ]
    },
    {
      "cell_type": "markdown",
      "source": [
        "# 4. Filtrado y condiciones"
      ],
      "metadata": {
        "id": "82wKUoTHmswt"
      }
    },
    {
      "cell_type": "markdown",
      "source": [
        "### Días donde se usaron más de 6 horas."
      ],
      "metadata": {
        "id": "X3r-_liimzMH"
      }
    },
    {
      "cell_type": "code",
      "source": [
        "mas_seis_horas = serie[serie > 6]\n",
        "print(f\"Los dias que se usaron mas de 6 horas fueron:\\n{mas_seis_horas}\")"
      ],
      "metadata": {
        "colab": {
          "base_uri": "https://localhost:8080/"
        },
        "id": "cL6zjFUOjiAi",
        "outputId": "f072d53d-438e-4a96-8b9d-eff717f5fdb4"
      },
      "execution_count": null,
      "outputs": [
        {
          "output_type": "stream",
          "name": "stdout",
          "text": [
            "Los dias que se usaron mas de 6 horas fueron:\n",
            "Día 2      7\n",
            "Día 4      8\n",
            "Día 8      7\n",
            "Día 9     10\n",
            "Día 11    10\n",
            "Día 12    10\n",
            "Día 15     9\n",
            "Día 22     9\n",
            "Día 23    10\n",
            "Día 25     9\n",
            "Día 26     7\n",
            "Día 28     7\n",
            "dtype: int64\n"
          ]
        }
      ]
    },
    {
      "cell_type": "markdown",
      "source": [
        "###Cuántos días el uso fue menor a 2 horas."
      ],
      "metadata": {
        "id": "zZH21Qnem-3b"
      }
    },
    {
      "cell_type": "code",
      "source": [
        "menos_dos_horas = serie[serie < 2]\n",
        "cantidad_menos_dos_horas = len(menos_dos_horas)\n",
        "print(f\"Dias con menos de 2 horas: {cantidad_menos_dos_horas} dias\" )"
      ],
      "metadata": {
        "colab": {
          "base_uri": "https://localhost:8080/"
        },
        "id": "ZdVpGHQCj4VR",
        "outputId": "de4c5a64-e1fe-44d8-843c-24ea47760d98"
      },
      "execution_count": null,
      "outputs": [
        {
          "output_type": "stream",
          "name": "stdout",
          "text": [
            "Dias con menos de 2 horas: 7 dias\n"
          ]
        }
      ]
    },
    {
      "cell_type": "markdown",
      "source": [
        "# 5. Visualizaciones"
      ],
      "metadata": {
        "id": "lXJm9AGXnXfE"
      }
    },
    {
      "cell_type": "markdown",
      "source": [
        "### Gráfico 1:"
      ],
      "metadata": {
        "id": "mS0Rb7GLnfAj"
      }
    },
    {
      "cell_type": "code",
      "source": [
        "plt.figure(figsize=(8, 5))\n",
        "\n",
        "ax = serie.plot(\n",
        "    kind=\"line\",\n",
        "    color=\"coral\",\n",
        "    alpha=0.9,\n",
        "    linewidth=1.5,\n",
        "    marker=\"o\"\n",
        ")\n",
        "\n",
        "ax.set_xticks(range(len(serie)))\n",
        "ax.set_xticklabels(range(1, len(serie) + 1))\n",
        "\n",
        "ax.set_xlabel(\"Días\")\n",
        "ax.set_ylabel(\"Horas\")\n",
        "ax.set_title(\"Evolución diaria de horas en redes sociales\")\n",
        "\n",
        "ax.grid(True)\n",
        "\n",
        "plt.show()"
      ],
      "metadata": {
        "id": "-5LJ76yivLUC",
        "outputId": "3e203291-a78e-4274-daef-4e4a5b2e87fc",
        "colab": {
          "base_uri": "https://localhost:8080/"
        }
      },
      "execution_count": null,
      "outputs": [
        {
          "output_type": "display_data",
          "data": {
            "text/plain": [
              "<Figure size 800x500 with 1 Axes>"
            ],
            "image/png": "[encoded data removed]"
          },
          "metadata": {}
        }
      ]
    },
    {
      "cell_type": "markdown",
      "source": [
        "### Gráfic 2:"
      ],
      "metadata": {
        "id": "6UP5TQdYnhyL"
      }
    },
    {
      "cell_type": "code",
      "source": [
        "plt.figure(figsize=(8, 5))\n",
        "\n",
        "ax = serie.plot(\n",
        "    kind=\"hist\",\n",
        "    bins=10,\n",
        "    color=\"skyblue\",\n",
        "    alpha=0.9,\n",
        "    edgecolor=\"black\",\n",
        "    linewidth=0.7\n",
        ")\n",
        "\n",
        "plt.title(\"Distribución de horas en redes sociales\")\n",
        "plt.xlabel(\"Horas\")\n",
        "plt.ylabel(\"Frecuencia\")\n",
        "\n",
        "plt.grid(axis=\"y\", linestyle=\"--\", alpha=0.5)\n",
        "plt.tight_layout()\n",
        "plt.show()"
      ],
      "metadata": {
        "colab": {
          "base_uri": "https://localhost:8080/"
        },
        "id": "6-Majfp3sY3A",
        "outputId": "0c1f3de4-312c-4817-cc2b-6cb11cb39a00"
      },
      "execution_count": null,
      "outputs": [
        {
          "output_type": "display_data",
          "data": {
            "text/plain": [
              "<Figure size 800x500 with 1 Axes>"
            ],
            "image/png": "[encoded data removed]"
          },
          "metadata": {}
        }
      ]
    }
  ]
}