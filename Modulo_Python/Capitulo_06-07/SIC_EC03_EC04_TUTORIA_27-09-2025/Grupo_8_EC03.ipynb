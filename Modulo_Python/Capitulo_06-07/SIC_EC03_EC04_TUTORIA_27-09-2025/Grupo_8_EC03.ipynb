{
  "nbformat": 4,
  "nbformat_minor": 0,
  "metadata": {
    "colab": {
      "provenance": []
    },
    "kernelspec": {
      "name": "python3",
      "display_name": "Python 3"
    },
    "language_info": {
      "name": "python"
    }
  },
  "cells": [
    {
      "cell_type": "markdown",
      "source": [
        "# Ejercicio: Análisis de horas de uso de redes sociales\n",
        "\n",
        "Un grupo de estudiantes registró durante 30 días la **cantidad de horas que pasaron usando redes sociales**.\n",
        "Los datos están representados en una **Serie de Pandas**, donde cada índice corresponde al día (`Día 1`, `Día 2`, ..., `Día 30`).\n",
        "\n",
        "Su tarea será **analizar esta Serie** aplicando operaciones estadísticas y visualizaciones para entender mejor los hábitos de uso.\n",
        "\n",
        "---\n",
        "\n",
        "## Instrucciones\n",
        "\n",
        "1. **Crear la Serie**\n",
        "\n",
        "   * Genera una lista de 30 valores (pueden ser aleatorios o inventados entre 0 y 10 horas).\n",
        "   * Convierte la lista en una Serie de Pandas.\n",
        "   * Usa como índice `Día 1`, `Día 2`, ..., `Día 30`.\n",
        "\n",
        "2. **Exploración de la Serie**\n",
        "\n",
        "   * Muestra los primeros y últimos 5 valores.\n",
        "   * Consulta el valor de un día específico (por ejemplo, `\"Día 7\"`).\n",
        "   * Verifica la longitud, el tipo de datos y si existen valores faltantes.\n",
        "\n",
        "3. **Estadísticas básicas**\n",
        "\n",
        "   * Calcula: promedio, mediana, mínimo, máximo, varianza y desviación estándar.\n",
        "   * Identifica los días con mayor y menor uso de redes sociales.\n",
        "\n",
        "4. **Filtrado y condiciones**\n",
        "\n",
        "   * Filtra los días donde se usaron **más de 6 horas**.\n",
        "   * Cuenta cuántos días el uso fue **menor a 2 horas**.\n",
        "\n",
        "\n",
        "5. **Visualizaciones**\n",
        "\n",
        "   * Realiza al menos **2 gráficos diferentes** para representar la información.\n",
        "   * Puedes elegir entre:\n",
        "\n",
        "     * Gráfico de línea para ver la evolución diaria.\n",
        "     * Histograma para la distribución de horas.\n",
        "     * Gráfico de barras para comparar ciertos días.\n",
        "   * ¡Se creativo! Elige los gráficos que mejor expliquen los resultados.\n"
      ],
      "metadata": {
        "id": "36B86qQ2S9c2"
      }
    },
    {
      "cell_type": "code",
      "source": [
        "import numpy as np\n",
        "import pandas as pd\n",
        "import matplotlib.pyplot as plt\n",
        "\n",
        "class UsoRedesSociales:\n",
        "\n",
        "    # Constructor de la clase\n",
        "    # Tiene como parametros el numero de dias, hora minima, hora maxima y el seed que permite hacer\n",
        "    \"\"\"\n",
        "    Definición y uso\n",
        "    El seed()método se utiliza para inicializar el generador de números aleatorios.\n",
        "\n",
        "    El generador de números aleatorios necesita un número con el cual comenzar (un valor semilla)\n",
        "    para poder generar un número aleatorio.\n",
        "\n",
        "    \"\"\"\n",
        "\n",
        "    # Ademas el constructor ocupa varios datos adicionales que se almacenaran una vez ya se tenga\n",
        "    # Generados los datos los cuales son los datos de las horas y las series con indice Dia\n",
        "\n",
        "\n",
        "    def __init__(self, num_dias=30, hora_min=0, hora_max=10, seed=42):\n",
        "        self.num_dias = num_dias\n",
        "        self.hora_min = hora_min\n",
        "        self.hora_max = hora_max\n",
        "        self.seed = seed\n",
        "        self.datos = None\n",
        "        self.series = None\n",
        "\n",
        "\n",
        "    # Esta funcion permite genera datos aleatorios usando una semilla y una funcion de numpy\n",
        "    # Permite generar datos en un rango de 30 dias\n",
        "\n",
        "    def generar_datos(self):\n",
        "\n",
        "        # 1 Generar la semilla de reproducibilidad\n",
        "        np.random.seed(self.seed)\n",
        "        # 2 Inicializar la lista que vamos a usar\n",
        "        self.datos = []\n",
        "        # 3 Generar un bucle for con la cantidad de dias en estado caso 30\n",
        "        for _ in range(self.num_dias):\n",
        "            # 4 Genera las horas x dia\n",
        "            horas_dia = np.random.uniform(self.hora_min, self.hora_max)\n",
        "            # 5 Guardar en la lista las horas x dia\n",
        "            self.datos.append(horas_dia)\n",
        "\n",
        "    # Esta funcion permite convertir los datos en una serie de pandas con Dias como indice\n",
        "    def crear_serie(self):\n",
        "        self.generar_datos()\n",
        "        indices = [f\"Dia {i+1}\" for i in range (self.num_dias)]\n",
        "        self.series = pd.Series(self.datos, index=indices)\n",
        "        return self.series\n",
        "\n",
        "redes = UsoRedesSociales()\n",
        "series = redes.crear_serie()\n",
        "print(series)"
      ],
      "metadata": {
        "id": "up4A7HCQg5my",
        "colab": {
          "base_uri": "https://localhost:8080/"
        },
        "outputId": "f01679b6-7347-4416-ffcd-bf73223d5936"
      },
      "execution_count": null,
      "outputs": [
        {
          "output_type": "stream",
          "name": "stdout",
          "text": [
            "Dia 1     3.745401\n",
            "Dia 2     9.507143\n",
            "Dia 3     7.319939\n",
            "Dia 4     5.986585\n",
            "Dia 5     1.560186\n",
            "Dia 6     1.559945\n",
            "Dia 7     0.580836\n",
            "Dia 8     8.661761\n",
            "Dia 9     6.011150\n",
            "Dia 10    7.080726\n",
            "Dia 11    0.205845\n",
            "Dia 12    9.699099\n",
            "Dia 13    8.324426\n",
            "Dia 14    2.123391\n",
            "Dia 15    1.818250\n",
            "Dia 16    1.834045\n",
            "Dia 17    3.042422\n",
            "Dia 18    5.247564\n",
            "Dia 19    4.319450\n",
            "Dia 20    2.912291\n",
            "Dia 21    6.118529\n",
            "Dia 22    1.394939\n",
            "Dia 23    2.921446\n",
            "Dia 24    3.663618\n",
            "Dia 25    4.560700\n",
            "Dia 26    7.851760\n",
            "Dia 27    1.996738\n",
            "Dia 28    5.142344\n",
            "Dia 29    5.924146\n",
            "Dia 30    0.464504\n",
            "dtype: float64\n"
          ]
        }
      ]
    },
    {
      "cell_type": "code",
      "source": [
        "#Mostrar los valores\n",
        "print(\"\\n\" + \"=\"*50)\n",
        "print(\"PRIMEROS 5 DIAS\")\n",
        "print(\"=\"*50)\n",
        "print(series.head())\n",
        "\n",
        "print(\"\\n\" + \"=\"*50)\n",
        "print(\"ULTIMOS 5 DIAS\")\n",
        "print(\"=\"*50)\n",
        "print(series.tail())\n",
        "\n",
        "print(\"\\n\" + \"=\"*50)\n",
        "print(\"MOSTRAR EL USO DE REDES EN UN DIA EN ESPECIFICO\")\n",
        "print(\"=\"*50)\n",
        "dia_elegido = \"Dia 7\"\n",
        "print(f\"El {dia_elegido} tiene un uso de redes sociales de: {series.loc[dia_elegido]:.2f} Horas\")\n",
        "\n",
        "print(\"\\n\" + \"=\"*50)\n",
        "print(\"VERIFICAR LA  LONGITUD\")\n",
        "print(\"=\"*50)\n",
        "\n",
        "if len(series) == 30:\n",
        "    print(\"Si esta completa la serie\")\n",
        "else:\n",
        "    print(\"No se encuentra completa la serie\")\n",
        "\n",
        "print(\"\\n\" + \"=\"*50)\n",
        "print(\"TIPO DE DATO DE LA SERIE\")\n",
        "print(\"=\"*50)\n",
        "print(f\"Su series es de tipo {series.dtype}\")\n",
        "\n",
        "print(\"\\n\" + \"=\"*50)\n",
        "print(\"VALORES FALTANTES\")\n",
        "print(\"=\"*50)\n",
        "print(f\"Faltan {series.isnull().sum()} valores\")"
      ],
      "metadata": {
        "id": "2E-W7ZZznIGB",
        "colab": {
          "base_uri": "https://localhost:8080/"
        },
        "outputId": "5d32e350-e777-43ce-ef03-75602253ee6d"
      },
      "execution_count": null,
      "outputs": [
        {
          "output_type": "stream",
          "name": "stdout",
          "text": [
            "\n",
            "==================================================\n",
            "PRIMEROS 5 DIAS\n",
            "==================================================\n",
            "Dia 1    3.745401\n",
            "Dia 2    9.507143\n",
            "Dia 3    7.319939\n",
            "Dia 4    5.986585\n",
            "Dia 5    1.560186\n",
            "dtype: float64\n",
            "\n",
            "==================================================\n",
            "ULTIMOS 5 DIAS\n",
            "==================================================\n",
            "Dia 26    7.851760\n",
            "Dia 27    1.996738\n",
            "Dia 28    5.142344\n",
            "Dia 29    5.924146\n",
            "Dia 30    0.464504\n",
            "dtype: float64\n",
            "\n",
            "==================================================\n",
            "MOSTRAR EL USO DE REDES EN UN DIA EN ESPECIFICO\n",
            "==================================================\n",
            "El Dia 7 tiene un uso de redes sociales de: 0.58 Horas\n",
            "\n",
            "==================================================\n",
            "VERIFICAR LA  LONGITUD\n",
            "==================================================\n",
            "Si esta completa la serie\n",
            "\n",
            "==================================================\n",
            "TIPO DE DATO DE LA SERIE\n",
            "==================================================\n",
            "Su series es de tipo float64\n",
            "\n",
            "==================================================\n",
            "VALORES FALTANTES\n",
            "==================================================\n",
            "Faltan 0 valores\n"
          ]
        }
      ]
    },
    {
      "cell_type": "code",
      "source": [
        "# Estadísticas básicas\n",
        "def get_statistics():\n",
        "\n",
        "  stats = {\n",
        "        \"Promedio\": f\"{series.mean():.2f}\",\n",
        "        \"Mediana\": f\"{series.median():.2f}\",\n",
        "        \"Mínimo\": f\"{series.min():.2f}\",\n",
        "        \"Máximo\": f\"{series.max():.2f}\",\n",
        "        \"Varianza\": f\"{series.var():.2f}\",\n",
        "        \"Desviación estándar\": f\"{series.std():.2f}\",\n",
        "        \"Día con mayor uso\": series.idxmax(),\n",
        "        \"Día con menor uso\": series.idxmin()\n",
        "    }\n",
        "  return stats\n",
        "\n",
        "estadisticas = get_statistics()\n",
        "print(\"Estadísticas Básicas:\\n\")\n",
        "for clave, valor in estadisticas.items():\n",
        "  print(f\"{clave}: {valor}\")\n",
        "\n"
      ],
      "metadata": {
        "id": "3dxG8qgBnIZ7",
        "colab": {
          "base_uri": "https://localhost:8080/"
        },
        "outputId": "2082ff92-edd2-4743-ace4-52f5cffa2f83"
      },
      "execution_count": null,
      "outputs": [
        {
          "output_type": "stream",
          "name": "stdout",
          "text": [
            "Estadísticas Básicas:\n",
            "\n",
            "Promedio: 4.39\n",
            "Mediana: 4.03\n",
            "Mínimo: 0.21\n",
            "Máximo: 9.70\n",
            "Varianza: 7.98\n",
            "Desviación estándar: 2.82\n",
            "Día con mayor uso: Dia 12\n",
            "Día con menor uso: Dia 11\n"
          ]
        }
      ]
    },
    {
      "cell_type": "code",
      "source": [
        "def filtrar(condicion=True):\n",
        "  #Es True para ir a la primera condicion y False cuando se necesitan los dias\n",
        "  if condicion:\n",
        "    print(\"\\n\"+\"=\"*55)\n",
        "    print(\"\\tDias con más de 6 horas de uso\")\n",
        "    print(\"=\"*55)\n",
        "    print(series[series >= 6 ]) #Funcion de las series para poder filtrar los datos sin un for\n",
        "  else:\n",
        "    count = 0\n",
        "    print(\"\\n\" + \"=\"*55)\n",
        "    print(\"\\tDias con menos de 2 horas de uso\")\n",
        "    print(\"=\"*55)\n",
        "    print(series[series <=2]) #Muestra los dias\n",
        "    print(f\"\\nEl numero total de dias con menos de 2 horas de uso son: {len(series[series <=2])}\") #Cuenta cuantos existen con el metodo len()\n",
        "\n",
        "\n",
        "filtrar()\n",
        "filtrar(False)"
      ],
      "metadata": {
        "id": "fx_w4TiPnI6l",
        "colab": {
          "base_uri": "https://localhost:8080/"
        },
        "outputId": "87761fa4-8a54-4c0c-cb85-b36e0e80cad3"
      },
      "execution_count": null,
      "outputs": [
        {
          "output_type": "stream",
          "name": "stdout",
          "text": [
            "\n",
            "=======================================================\n",
            "\tDias con más de 6 horas de uso\n",
            "=======================================================\n",
            "Dia 2     9.507143\n",
            "Dia 3     7.319939\n",
            "Dia 8     8.661761\n",
            "Dia 9     6.011150\n",
            "Dia 10    7.080726\n",
            "Dia 12    9.699099\n",
            "Dia 13    8.324426\n",
            "Dia 21    6.118529\n",
            "Dia 26    7.851760\n",
            "dtype: float64\n",
            "\n",
            "=======================================================\n",
            "\tDias con menos de 2 horas de uso\n",
            "=======================================================\n",
            "Dia 5     1.560186\n",
            "Dia 6     1.559945\n",
            "Dia 7     0.580836\n",
            "Dia 11    0.205845\n",
            "Dia 15    1.818250\n",
            "Dia 16    1.834045\n",
            "Dia 22    1.394939\n",
            "Dia 27    1.996738\n",
            "Dia 30    0.464504\n",
            "dtype: float64\n",
            "\n",
            "El numero total de dias con menos de 2 horas de uso son: 9\n"
          ]
        }
      ]
    },
    {
      "cell_type": "code",
      "source": [
        "# Estilo de los gráficos\n",
        "plt.style.use(\"seaborn-v0_8\")# Mantener el estilo que ya usas\n",
        "\n",
        "# Crear figura\n",
        "fig, (ax1, ax2) = plt.subplots(2, 1, figsize=(15, 8))\n",
        "fig.suptitle(\"Análisis del Uso de Redes Sociales\", fontsize=16, fontweight='bold')\n",
        "\n",
        "# Gráfico 1: Mapa de calor del uso de redes sociales\n",
        "im = ax1.imshow(series.values.reshape(1, -1), cmap=\"YlOrRd\", aspect=\"auto\")\n",
        "ax1.set_xticks(range(len(series)))\n",
        "ax1.set_xticklabels(series.index, rotation=45)\n",
        "ax1.set_yticks([])  # ocultar eje y\n",
        "ax1.set_title(\"Mapa de calor del uso de redes sociales por día\")\n",
        "cbar = fig.colorbar(im, ax=ax1, orientation=\"vertical\")\n",
        "cbar.set_label(\"Horas de uso\")\n",
        "\n",
        "# Gráfico 2: Diagrama de caja\n",
        "ax2.boxplot(series.values, vert=False)\n",
        "ax2.set_title(\"Diagrama de caja del uso de redes sociales\")\n",
        "ax2.set_xlabel(\"Horas de uso\")\n",
        "\n",
        "# Ajustar layout y mostrar gráficos\n",
        "plt.tight_layout(rect=[0, 0, 1, 1])  # dejar espacio para el título\n",
        "plt.show()\n"
      ],
      "metadata": {
        "colab": {
          "base_uri": "https://localhost:8080/",
          "height": 718
        },
        "id": "NNve-f4H07Eo",
        "outputId": "46d87df2-3310-46af-f0a9-a3784fa77dc0"
      },
      "execution_count": null,
      "outputs": [
        {
          "output_type": "display_data",
          "data": {
            "text/plain": [
              "<Figure size 1500x800 with 3 Axes>"
            ],
            "image/png": "[encoded data removed]"
          },
          "metadata": {}
        }
      ]
    },
    {
      "cell_type": "code",
      "source": [],
      "metadata": {
        "id": "M_11lLxy07zy"
      },
      "execution_count": null,
      "outputs": []
    }
  ]
}