{
 "cells": [
  {
   "cell_type": "code",
   "execution_count": null,
   "id": "95b6bae7-c988-4ce4-bb0e-0dc2d21189a5",
   "metadata": {},
   "outputs": [],
   "source": [
    "import pandas as pd\n",
    "import math\n",
    "\n",
    "df = pd.read_csv(\"ccb_personas_normalizado.csv\")\n",
    "\n",
    "df[\"Edad\"]= pd.to_numeric(df[\"Edad\"], errors=\"coerce\")\n",
    "\n",
    "# Creacion de conjuntos\n",
    "# Conjunto de Provincias\n",
    "provincias = set(df[\"Estado\"])\n",
    "# Conjunto de Institucion\n",
    "institucion= set(df[\"Institución\"])\n",
    "#Edad\n",
    "edades=set(df[\"Edad\"])\n",
    "\n",
    "#Conjunto de universidades en Pichincha\n",
    "universidades_pichincha = set(df[df[\"Estado\"]==Pichincha][\"Institución\"])\n",
    "universidades_guayas = set(df[df[\"Estado\"]==Guayas][\"Institución\"])\n",
    "\n",
    "universidades_comunes = universidades_pichincha.intersection(universidades_guayas)\n",
    "print(\"Universidades presentes en Pichincha y Guayas\",universidades_comunes )\n",
    "\n",
    "universidades_todos= universidades_pichincha.union(universidades_guayas)\n",
    "print(\"Universidades en ambas Pichincha y Guayas\",universidades_todos )\n",
    "\n",
    "universidades_solo_Pichincha = universidades_pichincha.difference(universidades_guayas)\n",
    "print(\"Universidades solo Pichincha\",universidades_solo_Pichincha )"
   ]
  }
 ],
 "metadata": {
  "kernelspec": {
   "display_name": "Python 3 (ipykernel)",
   "language": "python",
   "name": "python3"
  },
  "language_info": {
   "codemirror_mode": {
    "name": "ipython",
    "version": 3
   },
   "file_extension": ".py",
   "mimetype": "text/x-python",
   "name": "python",
   "nbconvert_exporter": "python",
   "pygments_lexer": "ipython3",
   "version": "3.13.7"
  }
 },
 "nbformat": 4,
 "nbformat_minor": 5
}
