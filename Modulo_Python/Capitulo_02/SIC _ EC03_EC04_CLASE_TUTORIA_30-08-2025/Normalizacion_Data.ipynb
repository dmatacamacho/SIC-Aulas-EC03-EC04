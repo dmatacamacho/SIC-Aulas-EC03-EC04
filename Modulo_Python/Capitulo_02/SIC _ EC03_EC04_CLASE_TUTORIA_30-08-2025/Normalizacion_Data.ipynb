{
 "cells": [
  {
   "cell_type": "code",
   "execution_count": 6,
   "id": "c30a5019-d786-4325-ac2d-10e2eb77e0b1",
   "metadata": {},
   "outputs": [
    {
     "name": "stdout",
     "output_type": "stream",
     "text": [
      "Datos Normalizados\n"
     ]
    }
   ],
   "source": [
    "import pandas as pd\n",
    "from datetime import datetime\n",
    "import unicodedata\n",
    "\n",
    "archivo=\"ccb_personas.csv\"\n",
    "df = pd.read_csv(archivo)\n",
    "\n",
    "# Normalizacion Nombre y Apellido\n",
    "df[\"Nombre\"] = df[\"Nombre\"].astype(str).str.title().str.strip()\n",
    "df[\"Apellido\"] = df[\"Apellido\"].astype(str).str.title().str.strip()\n",
    "\n",
    "# Normalizacion de Instituciones\n",
    "\n",
    "def quitar_acentos(texto):\n",
    "    return ''.join(c for c in unicodedata.normalize('NFKD', str(texto))\n",
    "                  if not unicodedata.combining(c))\n",
    "    \n",
    "df[\"Institución\"] = df[\"Institución\"].astype(str).str.title().str.strip().apply(quitar_acentos)\n",
    "\n",
    "\n",
    "# Normalizacion de Telefonos\n",
    "df[\"Teléfono\"] =( df[\"Teléfono\"].astype(str)\n",
    "    .str.replace(\"-\",\"\", regex = False)\n",
    "    .str.replace(\" \",\"\", regex = False)\n",
    "    .str.replace(\"+593\",\"0\", regex = False))\n",
    "\n",
    "# Normalizacion de Cedula\n",
    "df[\"Cédula\"] = df[\"Cédula\"].astype(str).replace(r\"\\D\",\"\",regex = False)\n",
    "# df[\"Cédula\"] = df[\"Cédula\"].apply(lambda x: f\"int(x):,\".replace(\",\", \".\"))\n",
    "\n",
    "# Normalizacion de Provincias\n",
    "df[\"Estado\"] = df[\"Estado\"].astype(str).str.title().str.strip()\n",
    "\n",
    "\n",
    "# Normalizacion de Correo\n",
    "df[\"Correo\"] = df[\"Correo\"].astype(str).str.lower().str.strip()\n",
    "\n",
    "df.to_csv(\"ccb_personas_normalizado.csv\", index=False, encoding=\"utf-8\")\n",
    "print(\"Datos Normalizados\")"
   ]
  },
  {
   "cell_type": "code",
   "execution_count": null,
   "id": "eb22aeb6-d752-41b2-ad9b-d1ee9551458b",
   "metadata": {},
   "outputs": [],
   "source": []
  },
  {
   "cell_type": "code",
   "execution_count": null,
   "id": "3c324a20-4057-494b-ba89-8952388a0feb",
   "metadata": {},
   "outputs": [],
   "source": []
  }
 ],
 "metadata": {
  "kernelspec": {
   "display_name": "Python 3 (ipykernel)",
   "language": "python",
   "name": "python3"
  },
  "language_info": {
   "codemirror_mode": {
    "name": "ipython",
    "version": 3
   },
   "file_extension": ".py",
   "mimetype": "text/x-python",
   "name": "python",
   "nbconvert_exporter": "python",
   "pygments_lexer": "ipython3",
   "version": "3.13.7"
  }
 },
 "nbformat": 4,
 "nbformat_minor": 5
}
