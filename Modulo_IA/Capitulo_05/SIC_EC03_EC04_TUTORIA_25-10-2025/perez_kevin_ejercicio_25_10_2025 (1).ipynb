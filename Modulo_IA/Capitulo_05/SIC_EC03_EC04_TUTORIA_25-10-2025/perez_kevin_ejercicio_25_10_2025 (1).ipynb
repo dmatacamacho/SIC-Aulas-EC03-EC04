{
  "cells": [
    {
      "cell_type": "code",
      "execution_count": 28,
      "id": "7a6eff5b",
      "metadata": {
        "colab": {
          "base_uri": "https://localhost:8080/"
        },
        "id": "7a6eff5b",
        "outputId": "d5e2e7de-c028-4ab4-f5e6-e112f03096c9"
      },
      "outputs": [
        {
          "output_type": "stream",
          "name": "stdout",
          "text": [
            "Primeras filas del dataset:\n",
            "      TV  radio  newspaper  sales\n",
            "0  230.1   37.8       69.2   22.1\n",
            "1   44.5   39.3       45.1   10.4\n",
            "2   17.2   45.9       69.3    9.3\n",
            "3  151.5   41.3       58.5   18.5\n",
            "4  180.8   10.8       58.4   12.9\n"
          ]
        }
      ],
      "source": [
        "\"\"\"\n",
        "Actividad realizada por: Kevin Santiago Perez Cevallos\n",
        "\"\"\"\n",
        "\n",
        "# Llamado de librerias\n",
        "import pandas as pd\n",
        "import numpy as np\n",
        "from sklearn.model_selection import train_test_split\n",
        "from sklearn.preprocessing import StandardScaler\n",
        "from sklearn.linear_model import LinearRegression\n",
        "from sklearn.metrics import mean_squared_error, accuracy_score, r2_score\n",
        "\n",
        "# Obtencion de los datos\n",
        "url = \"https://raw.githubusercontent.com/selva86/datasets/master/Advertising.csv\"\n",
        "\n",
        "df = pd.read_csv(url, sep=\",\")\n",
        "\n",
        "print(\"Primeras filas del dataset:\")\n",
        "print(df.head())"
      ]
    },
    {
      "cell_type": "markdown",
      "id": "ee6b038b",
      "metadata": {
        "id": "ee6b038b"
      },
      "source": [
        "### Visualizacion del conjunto de datos\n",
        "1. Primero se identifico que el separador del conjunto de datos en el csv es una coma y luego de la impresion del dataframe se observa que se tiene 3 variables independientes (TV, radio y newspaper) y una variable dependiente o dato etiquetado (sales)."
      ]
    },
    {
      "cell_type": "code",
      "execution_count": 29,
      "id": "e13c3b86",
      "metadata": {
        "colab": {
          "base_uri": "https://localhost:8080/"
        },
        "id": "e13c3b86",
        "outputId": "c54401b8-04ec-4fd3-f2b0-41c70f72d665"
      },
      "outputs": [
        {
          "output_type": "stream",
          "name": "stdout",
          "text": [
            "Verificacion de valores nulos:\n",
            "TV           0\n",
            "radio        0\n",
            "newspaper    0\n",
            "sales        0\n",
            "dtype: int64\n"
          ]
        }
      ],
      "source": [
        "# Verificacion de la inexistencia de valores nulos\n",
        "print(\"Verificacion de valores nulos:\")\n",
        "print(df.isnull().sum())\n",
        "\n",
        "# Eliminacion de la columna Unnmaed: 0\n",
        "df = df.drop('Unnamed: 0', axis=1)"
      ]
    },
    {
      "cell_type": "markdown",
      "id": "8535cbb4",
      "metadata": {
        "id": "8535cbb4"
      },
      "source": [
        "### Identificacion de columnas con valores nulos\n",
        "2. Se identifico que dentro del conjunto de datos no existen valores nulos por lo que no se podria llevar a cabo la inputacion."
      ]
    },
    {
      "cell_type": "code",
      "execution_count": 30,
      "id": "230f9747",
      "metadata": {
        "colab": {
          "base_uri": "https://localhost:8080/"
        },
        "id": "230f9747",
        "outputId": "fd030bbc-3330-4dc9-b011-432daa887701"
      },
      "outputs": [
        {
          "output_type": "stream",
          "name": "stdout",
          "text": [
            "Datos de entrenamiento: (160, 3)\n",
            "Datos de prueba: (40, 3)\n"
          ]
        }
      ],
      "source": [
        "# Division del conjunto de datos en variables independientes (X) y dependientes (y)\n",
        "X = df.drop(\"sales\", axis=1)\n",
        "y = df[\"sales\"]\n",
        "\n",
        "\n",
        "\n",
        "# Division de los datos en conjuntos de entrenamiento y prueba\n",
        "X_train, X_test, y_train, y_test = train_test_split(X, y, test_size=0.2, random_state=42)\n",
        "\n",
        "print(f\"Datos de entrenamiento: {X_train.shape}\")\n",
        "print(f\"Datos de prueba: {X_test.shape}\")\n"
      ]
    },
    {
      "cell_type": "markdown",
      "id": "fe47770a",
      "metadata": {
        "id": "fe47770a"
      },
      "source": [
        "### Division del conjunto de datos\n",
        "3. Para la division del conjunto de datos, primero en X se guardaron las variables independientes y en y la variable dependiente para luego dividir el 80% para entrenamiento y 20% en prueba."
      ]
    },
    {
      "cell_type": "code",
      "execution_count": 31,
      "id": "cec100e0",
      "metadata": {
        "id": "cec100e0"
      },
      "outputs": [],
      "source": [
        "# Escalado de las caracteristicas y normalizacion\n",
        "scaler = StandardScaler()\n",
        "X_train_scaled = scaler.fit_transform(X_train)\n",
        "X_test = scaler.transform(X_test)"
      ]
    },
    {
      "cell_type": "markdown",
      "id": "5843f400",
      "metadata": {
        "id": "5843f400"
      },
      "source": [
        "### Escalamiento del conjunto de datos dependientes\n",
        "4. Se escalan los datos de entrenamiento y prueba para que tengan un rango de valores similares"
      ]
    },
    {
      "cell_type": "code",
      "execution_count": 32,
      "id": "1028d7da",
      "metadata": {
        "colab": {
          "base_uri": "https://localhost:8080/"
        },
        "id": "1028d7da",
        "outputId": "d3b331c2-ec37-4fde-bfdb-71973feea689"
      },
      "outputs": [
        {
          "output_type": "stream",
          "name": "stdout",
          "text": [
            "Predicciones del modelo:\n",
            "[16.4080242  20.88988209 21.55384318 10.60850256 22.11237326]\n"
          ]
        }
      ],
      "source": [
        "# Creacion y entrenamiento del modelo de regresion lineal multiple\n",
        "model = LinearRegression()\n",
        "model.fit(X_train_scaled, y_train)\n",
        "\n",
        "# Predicciones del los datos de prueba\n",
        "y_pred = model.predict(X_test)\n",
        "\n",
        "print(\"Predicciones del modelo:\")\n",
        "print(y_pred[:5])\n",
        "\n"
      ]
    },
    {
      "cell_type": "markdown",
      "id": "b6440155",
      "metadata": {
        "id": "b6440155"
      },
      "source": [
        "### Creacion, entrenamiento y prueba del modelo de regresion lineal multiple\n",
        "5. Se creo el modelo con los datos de entrenamientoy posterior se hizo predicciones para posterior hacer la comparacion entre los valores obtenidos con los reales."
      ]
    },
    {
      "cell_type": "code",
      "execution_count": 33,
      "id": "334709f3",
      "metadata": {
        "colab": {
          "base_uri": "https://localhost:8080/"
        },
        "id": "334709f3",
        "outputId": "d5b0bf15-1e5e-4163-daa6-774efdef2d0d"
      },
      "outputs": [
        {
          "output_type": "stream",
          "name": "stdout",
          "text": [
            "Error cuadratico medio (MSE): 3.174097353976106\n",
            "Raiz del error cuadratico medio (RMSE): 1.7815996615334506\n",
            "R^2 Score: 0.8994380241009119\n"
          ]
        }
      ],
      "source": [
        "# Evaluacion del modelo\n",
        "mse = mean_squared_error(y_test, y_pred)\n",
        "r2 = r2_score(y_test, y_pred)\n",
        "rmse = np.sqrt(mse)\n",
        "\n",
        "print(f\"Error cuadratico medio (MSE): {mse}\")\n",
        "print(f\"Raiz del error cuadratico medio (RMSE): {rmse}\")\n",
        "print(f\"R^2 Score: {r2}\")\n",
        "\n"
      ]
    },
    {
      "cell_type": "markdown",
      "id": "446dfc03",
      "metadata": {
        "id": "446dfc03"
      },
      "source": [
        "### Evaluacion del modelo de regresion lineal multiple\n",
        "6. Se usaron varios metodos para validar que el rendimiento del modelo de regresion lineal multiple, lo cual resulto que el modelo tiene un rendimiento optimo, ya que el modelo explica el 89.8% de la variablidad de las variables dependientes."
      ]
    },
    {
      "cell_type": "code",
      "execution_count": 34,
      "id": "5066ceff",
      "metadata": {
        "colab": {
          "base_uri": "https://localhost:8080/"
        },
        "id": "5066ceff",
        "outputId": "a07fcb6e-82c4-4746-f3ef-b5d9746c943f"
      },
      "outputs": [
        {
          "output_type": "stream",
          "name": "stdout",
          "text": [
            "Primeras 5 observaciones de los residuos:\n",
            "95     0.491976\n",
            "15     1.510118\n",
            "30    -0.153843\n",
            "158   -3.308503\n",
            "128    2.587627\n",
            "Name: sales, dtype: float64\n",
            "22.4\n",
            "20.88988208714789\n"
          ]
        }
      ],
      "source": [
        "# Calculo de los residuos\n",
        "residuos = y_test - y_pred\n",
        "\n",
        "print(\"Primeras 5 observaciones de los residuos:\")\n",
        "print(residuos.head())\n",
        "\n",
        "print(y_test.values[1])\n",
        "print(y_pred[1])"
      ]
    },
    {
      "cell_type": "code",
      "execution_count": 35,
      "id": "94ea469b",
      "metadata": {
        "colab": {
          "base_uri": "https://localhost:8080/",
          "height": 564
        },
        "id": "94ea469b",
        "outputId": "dd6fff0d-20ed-4fff-9a1f-0071c8649f3e"
      },
      "outputs": [
        {
          "output_type": "display_data",
          "data": {
            "text/plain": [
              "<Figure size 1000x600 with 1 Axes>"
            ],
            "image/png": "[encoded data removed]"
          },
          "metadata": {}
        }
      ],
      "source": [
        "import matplotlib.pyplot as plt\n",
        "plt.figure(figsize=(10, 6))\n",
        "plt.scatter(y_test, residuos, alpha=0.7, edgecolors='k')\n",
        "plt.axhline(y=0, color='r', linestyle='--')\n",
        "plt.xlabel(\"Valores predichos\")\n",
        "plt.ylabel(\"Residuos\")\n",
        "plt.title(\"Grafico de residuos vs valores predichos\")\n",
        "plt.show()"
      ]
    },
    {
      "cell_type": "markdown",
      "id": "a28412e2",
      "metadata": {
        "id": "a28412e2"
      },
      "source": [
        "### Analisis del grafico\n",
        "7. Se puede observar que en los valores pequeños y grandes tienen un mayor distancia con respecto a cero que los valores centrales, esto podria indicar que la mayor concentracion de los datos estan en medio mientras que los extremos que son los valores pequeños y grandes no cuentan con tantos datos para obtener un mejor rendimiento por parte del modelo."
      ]
    }
  ],
  "metadata": {
    "kernelspec": {
      "display_name": "base",
      "language": "python",
      "name": "python3"
    },
    "language_info": {
      "codemirror_mode": {
        "name": "ipython",
        "version": 3
      },
      "file_extension": ".py",
      "mimetype": "text/x-python",
      "name": "python",
      "nbconvert_exporter": "python",
      "pygments_lexer": "ipython3",
      "version": "3.12.7"
    },
    "colab": {
      "provenance": []
    }
  },
  "nbformat": 4,
  "nbformat_minor": 5
}