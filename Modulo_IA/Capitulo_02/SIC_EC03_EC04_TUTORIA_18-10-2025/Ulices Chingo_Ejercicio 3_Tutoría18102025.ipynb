{
 "cells": [
  {
   "cell_type": "markdown",
   "id": "83c33791",
   "metadata": {},
   "source": [
    "## Ejercicio 3\n",
    "\n",
    "**Matrices:**  \n",
    "A = [[2, 1], [0, 3]]  \n",
    "B = [[1, 2], [3, 0]]  \n",
    "\n",
    "1. Calcula A + B y A × B.  \n",
    "2. Calcula la inversa de A y el determinante de B.\n",
    "\n",
    "**Vectores:**  \n",
    "u = [1, 3]  \n",
    "v = [-1, 2]  \n",
    "\n",
    "1. Calcula el producto interno u·v.  \n",
    "2. Calcula la magnitud de cada vector.\n",
    "\n",
    "**Derivadas:**  \n",
    "h(x) = sin(2*x**2 + 3*x)  \n",
    "\n",
    "1. Calcula la derivada h'(x) usando regla de la cadena.  \n",
    "2. Evalúa h'(1) y h'(0).\n",
    "\"\"\""
   ]
  },
  {
   "cell_type": "code",
   "execution_count": 4,
   "id": "4d2285c7",
   "metadata": {},
   "outputs": [
    {
     "name": "stdout",
     "output_type": "stream",
     "text": [
      "Operaciones: \n",
      "Sumar A + B = [[3 3]\n",
      " [3 3]]\n",
      "Multiplicación de matrices A y B = [[5 4]\n",
      " [9 0]]\n",
      "La inversa de A es: [[ 0.5        -0.16666667]\n",
      " [ 0.          0.33333333]]\n",
      "El determinante de B es: -6.0\n",
      "El producto punto entre u y v es: 5\n",
      "La magnitud del vector u y v es (correspondientemente): 3.1622776601683795 y 2.23606797749979\n",
      "Primera derivada: (4*x + 3)*cos(2*x**2 + 3*x)\n",
      "segunda derivada: -(4*x + 3)**2*sin(x*(2*x + 3)) + 4*cos(x*(2*x + 3))\n",
      "h'(1) = 7*cos(5)\n",
      "h'(0) =3 \n"
     ]
    }
   ],
   "source": [
    "import numpy as np\n",
    "import sympy as sp\n",
    " \n",
    "#matrices \n",
    "A = np.array([[2,1],[0,3]])\n",
    "B = np.array([[1,2],[3,0]])\n",
    "print(\"Operaciones: \")\n",
    "print(f\"Sumar A + B = {A+B}\")\n",
    "C=A@B\n",
    "print(f\"Multiplicación de matrices A y B = {C}\")\n",
    "print(f\"La inversa de A es: {np.linalg.inv(A)}\")\n",
    "print(f\"El determinante de B es: {np.linalg.det(B)}\")\n",
    "\n",
    "#Vectores \n",
    "\n",
    "u = np.array([1,3])\n",
    "v = np.array([-1,2])\n",
    "print(f\"El producto punto entre u y v es: {np.dot(u,v)}\")\n",
    "print(f\"La magnitud del vector u y v es (correspondientemente): {np.linalg.norm(u)} y {np.linalg.norm(v)}\")\n",
    "\n",
    "#Derivadas\n",
    "x = sp.Symbol('x')\n",
    "h = sp.sin(2*x**2 + 3*x)\n",
    "primera_derivada = sp.diff(h, x)\n",
    "#1.-primera y segunda derivada\n",
    "print(f\"Primera derivada: {primera_derivada}\")\n",
    "segunda_derivada = sp.diff(h, x, 2)\n",
    "print(f\"segunda derivada: {segunda_derivada}\")\n",
    "#2.-Evaluar en x=1,\n",
    "# Evaluar x=1\n",
    "print(f\"h'(1) = {primera_derivada.subs(x, 1)}\")\n",
    "# Evaluar x=0\n",
    "print(f\"h'(0) ={primera_derivada.subs(x, 0)} \")"
   ]
  }
 ],
 "metadata": {
  "kernelspec": {
   "display_name": ".venv",
   "language": "python",
   "name": "python3"
  },
  "language_info": {
   "codemirror_mode": {
    "name": "ipython",
    "version": 3
   },
   "file_extension": ".py",
   "mimetype": "text/x-python",
   "name": "python",
   "nbconvert_exporter": "python",
   "pygments_lexer": "ipython3",
   "version": "3.13.7"
  }
 },
 "nbformat": 4,
 "nbformat_minor": 5
}
