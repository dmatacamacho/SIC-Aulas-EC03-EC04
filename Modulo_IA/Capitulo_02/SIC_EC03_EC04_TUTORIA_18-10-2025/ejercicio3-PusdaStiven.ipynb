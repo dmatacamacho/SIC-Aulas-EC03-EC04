{
 "cells": [
  {
   "cell_type": "code",
   "execution_count": 6,
   "id": "f7fddaaf",
   "metadata": {},
   "outputs": [
    {
     "name": "stdout",
     "output_type": "stream",
     "text": [
      "A + B =\n",
      " [[3 3]\n",
      " [3 3]]\n",
      "A * B =\n",
      " [[5 4]\n",
      " [9 0]]\n",
      "Inversa de A =\n",
      " [[ 0.5        -0.16666667]\n",
      " [ 0.          0.33333333]]\n",
      "Determinante de B =\n",
      " -6.0\n",
      "Producto interno u·v = 5\n",
      "Magnitud de u = 3.1622776601683795\n",
      "Magnitud de v = 2.23606797749979\n"
     ]
    }
   ],
   "source": [
    "import numpy as np\n",
    "import sympy as sp\n",
    "\n",
    "# Mactrices\n",
    "A = np.array([[2, 1], [0, 3]])  \n",
    "B = np.array([[1, 2], [3, 0]])  \n",
    "#Suma A + B\n",
    "C = A + B\n",
    "print(\"A + B =\\n\", C)\n",
    "#Producto A * B\n",
    "D = A @ B\n",
    "print(\"A * B =\\n\", D)\n",
    "\n",
    "# Inversa de A\n",
    "inversaA = np.linalg.inv(A)\n",
    "print(\"Inversa de A =\\n\", inversaA)\n",
    "\n",
    "# Determinante de B\n",
    "detB = np.linalg.det(B)\n",
    "print(\"Determinante de B =\\n\", detB)\n",
    "\n",
    "# Vectores\n",
    "\n",
    "u = np.array([1, 3])  \n",
    "v = np.array([-1, 2])  \n",
    "# Producto interno u·v\n",
    "producto_interno = u @ v\n",
    "print(\"Producto interno u·v =\", producto_interno)\n",
    "\n",
    "# Magnitud de cada vector\n",
    "magnitud_u = np.linalg.norm(u)\n",
    "magnitud_v = np.linalg.norm(v)\n",
    "print(\"Magnitud de u =\", magnitud_u)\n",
    "print(\"Magnitud de v =\", magnitud_v)\n",
    "\n",
    "# Derivadas\n",
    "# h(x) = sin(2*x**2 + 3*x)  \n",
    "x = sp.symbols('x')\n",
    "h = sp.sin(2*x**2 + 3*x)\n",
    "\n",
    "# Derivada h'(x) uando regla de la cadena\n",
    "h_derivada = sp.diff(h, x)\n",
    "\n",
    "# Evaluar h'(1) y h'(0)\n",
    "h_derivada_eval_1 = h_derivada.subs(x, 1)\n",
    "h_derivada_eval_0 = h_derivada.subs(x, 0)\n"
   ]
  }
 ],
 "metadata": {
  "kernelspec": {
   "display_name": "Python 3",
   "language": "python",
   "name": "python3"
  },
  "language_info": {
   "codemirror_mode": {
    "name": "ipython",
    "version": 3
   },
   "file_extension": ".py",
   "mimetype": "text/x-python",
   "name": "python",
   "nbconvert_exporter": "python",
   "pygments_lexer": "ipython3",
   "version": "3.13.7"
  }
 },
 "nbformat": 4,
 "nbformat_minor": 5
}
